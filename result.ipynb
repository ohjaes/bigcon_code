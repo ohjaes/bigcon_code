{
 "cells": [
  {
   "cell_type": "code",
   "execution_count": 1,
   "metadata": {},
   "outputs": [],
   "source": [
    "import pandas as pd\n",
    "import numpy as np\n",
    "import matplotlib.pyplot as plt\n",
    "from sklearn import preprocessing\n",
    "from sklearn.model_selection import train_test_split\n",
    "from sklearn.model_selection import cross_val_predict\n",
    "from sklearn.metrics import confusion_matrix\n",
    "from sklearn.utils.multiclass import unique_labels\n",
    "import seaborn as sns\n",
    "%matplotlib inline"
   ]
  },
  {
   "cell_type": "markdown",
   "metadata": {},
   "source": [
    "# afsnt 데이터 EDA"
   ]
  },
  {
   "cell_type": "code",
   "execution_count": 2,
   "metadata": {},
   "outputs": [],
   "source": [
    "data_afsnt = pd.read_csv('C:/Users/user/Desktop/bigcon/data/AFSNT.CSV')"
   ]
  },
  {
   "cell_type": "code",
   "execution_count": 3,
   "metadata": {},
   "outputs": [],
   "source": [
    "data_afsnt_dly = pd.read_csv('C:/Users/user/Desktop/bigcon/data/AFSNT_DLY.CSV')"
   ]
  },
  {
   "cell_type": "code",
   "execution_count": 4,
   "metadata": {
    "scrolled": true
   },
   "outputs": [],
   "source": [
    "data_sfsnt = pd.read_csv('C:/Users/user/Desktop/bigcon/data/SFSNT.CSV')"
   ]
  },
  {
   "cell_type": "code",
   "execution_count": 5,
   "metadata": {},
   "outputs": [
    {
     "data": {
      "text/html": [
       "<div>\n",
       "<style scoped>\n",
       "    .dataframe tbody tr th:only-of-type {\n",
       "        vertical-align: middle;\n",
       "    }\n",
       "\n",
       "    .dataframe tbody tr th {\n",
       "        vertical-align: top;\n",
       "    }\n",
       "\n",
       "    .dataframe thead th {\n",
       "        text-align: right;\n",
       "    }\n",
       "</style>\n",
       "<table border=\"1\" class=\"dataframe\">\n",
       "  <thead>\n",
       "    <tr style=\"text-align: right;\">\n",
       "      <th></th>\n",
       "      <th>SDT_YY</th>\n",
       "      <th>SDT_MM</th>\n",
       "      <th>SDT_DD</th>\n",
       "      <th>SDT_DY</th>\n",
       "      <th>ARP</th>\n",
       "      <th>ODP</th>\n",
       "      <th>FLO</th>\n",
       "      <th>FLT</th>\n",
       "      <th>REG</th>\n",
       "      <th>AOD</th>\n",
       "      <th>IRR</th>\n",
       "      <th>STT</th>\n",
       "      <th>ATT</th>\n",
       "      <th>DLY</th>\n",
       "      <th>DRR</th>\n",
       "      <th>CNL</th>\n",
       "      <th>CNR</th>\n",
       "    </tr>\n",
       "  </thead>\n",
       "  <tbody>\n",
       "    <tr>\n",
       "      <th>0</th>\n",
       "      <td>2017</td>\n",
       "      <td>1</td>\n",
       "      <td>1</td>\n",
       "      <td>일</td>\n",
       "      <td>ARP3</td>\n",
       "      <td>ARP6</td>\n",
       "      <td>J</td>\n",
       "      <td>J1955</td>\n",
       "      <td>SEw3NzE4</td>\n",
       "      <td>D</td>\n",
       "      <td>N</td>\n",
       "      <td>10:05</td>\n",
       "      <td>10:32</td>\n",
       "      <td>N</td>\n",
       "      <td>NaN</td>\n",
       "      <td>N</td>\n",
       "      <td>NaN</td>\n",
       "    </tr>\n",
       "    <tr>\n",
       "      <th>1</th>\n",
       "      <td>2017</td>\n",
       "      <td>1</td>\n",
       "      <td>1</td>\n",
       "      <td>일</td>\n",
       "      <td>ARP3</td>\n",
       "      <td>ARP6</td>\n",
       "      <td>J</td>\n",
       "      <td>J1954</td>\n",
       "      <td>SEw3NzE4</td>\n",
       "      <td>A</td>\n",
       "      <td>N</td>\n",
       "      <td>9:30</td>\n",
       "      <td>9:31</td>\n",
       "      <td>N</td>\n",
       "      <td>NaN</td>\n",
       "      <td>N</td>\n",
       "      <td>NaN</td>\n",
       "    </tr>\n",
       "    <tr>\n",
       "      <th>2</th>\n",
       "      <td>2017</td>\n",
       "      <td>1</td>\n",
       "      <td>1</td>\n",
       "      <td>일</td>\n",
       "      <td>ARP3</td>\n",
       "      <td>ARP6</td>\n",
       "      <td>J</td>\n",
       "      <td>J1956</td>\n",
       "      <td>SEw3NzE4</td>\n",
       "      <td>A</td>\n",
       "      <td>N</td>\n",
       "      <td>12:45</td>\n",
       "      <td>13:03</td>\n",
       "      <td>N</td>\n",
       "      <td>NaN</td>\n",
       "      <td>N</td>\n",
       "      <td>NaN</td>\n",
       "    </tr>\n",
       "  </tbody>\n",
       "</table>\n",
       "</div>"
      ],
      "text/plain": [
       "   SDT_YY  SDT_MM  SDT_DD SDT_DY   ARP   ODP FLO    FLT       REG AOD IRR  \\\n",
       "0    2017       1       1      일  ARP3  ARP6   J  J1955  SEw3NzE4   D   N   \n",
       "1    2017       1       1      일  ARP3  ARP6   J  J1954  SEw3NzE4   A   N   \n",
       "2    2017       1       1      일  ARP3  ARP6   J  J1956  SEw3NzE4   A   N   \n",
       "\n",
       "     STT    ATT DLY  DRR CNL  CNR  \n",
       "0  10:05  10:32   N  NaN   N  NaN  \n",
       "1   9:30   9:31   N  NaN   N  NaN  \n",
       "2  12:45  13:03   N  NaN   N  NaN  "
      ]
     },
     "execution_count": 5,
     "metadata": {},
     "output_type": "execute_result"
    }
   ],
   "source": [
    "data_afsnt.head(3)"
   ]
  },
  {
   "cell_type": "markdown",
   "metadata": {},
   "source": [
    "# 결측치 확인/대체"
   ]
  },
  {
   "cell_type": "code",
   "execution_count": 6,
   "metadata": {},
   "outputs": [
    {
     "name": "stdout",
     "output_type": "stream",
     "text": [
      "<class 'pandas.core.frame.DataFrame'>\n",
      "RangeIndex: 987709 entries, 0 to 987708\n",
      "Data columns (total 17 columns):\n",
      "SDT_YY    987709 non-null int64\n",
      "SDT_MM    987709 non-null int64\n",
      "SDT_DD    987709 non-null int64\n",
      "SDT_DY    987709 non-null object\n",
      "ARP       987709 non-null object\n",
      "ODP       987709 non-null object\n",
      "FLO       987709 non-null object\n",
      "FLT       987709 non-null object\n",
      "REG       979446 non-null object\n",
      "AOD       987709 non-null object\n",
      "IRR       987709 non-null object\n",
      "STT       987709 non-null object\n",
      "ATT       987709 non-null object\n",
      "DLY       987709 non-null object\n",
      "DRR       118937 non-null object\n",
      "CNL       987709 non-null object\n",
      "CNR       8259 non-null object\n",
      "dtypes: int64(3), object(14)\n",
      "memory usage: 128.1+ MB\n"
     ]
    }
   ],
   "source": [
    "data_afsnt.info()"
   ]
  },
  {
   "cell_type": "markdown",
   "metadata": {},
   "source": [
    "REG, DRR, CNR에 null값 존재"
   ]
  },
  {
   "cell_type": "code",
   "execution_count": 7,
   "metadata": {},
   "outputs": [
    {
     "data": {
      "text/plain": [
       "SDT_YY         0\n",
       "SDT_MM         0\n",
       "SDT_DD         0\n",
       "SDT_DY         0\n",
       "ARP            0\n",
       "ODP            0\n",
       "FLO            0\n",
       "FLT            0\n",
       "REG         8263\n",
       "AOD            0\n",
       "IRR            0\n",
       "STT            0\n",
       "ATT            0\n",
       "DLY            0\n",
       "DRR       868772\n",
       "CNL            0\n",
       "CNR       979450\n",
       "dtype: int64"
      ]
     },
     "execution_count": 7,
     "metadata": {},
     "output_type": "execute_result"
    }
   ],
   "source": [
    "data_afsnt.isna().sum()"
   ]
  },
  {
   "cell_type": "code",
   "execution_count": 8,
   "metadata": {},
   "outputs": [
    {
     "name": "stdout",
     "output_type": "stream",
     "text": [
      "<class 'pandas.core.frame.DataFrame'>\n",
      "RangeIndex: 16076 entries, 0 to 16075\n",
      "Data columns (total 12 columns):\n",
      "SDT_YY      16076 non-null int64\n",
      "SDT_MM      16076 non-null int64\n",
      "SDT_DD      16076 non-null int64\n",
      "SDT_DY      16076 non-null object\n",
      "ARP         16076 non-null object\n",
      "ODP         16076 non-null object\n",
      "FLO         16076 non-null object\n",
      "FLT         16076 non-null object\n",
      "AOD         16076 non-null object\n",
      "STT         16076 non-null object\n",
      "DLY         0 non-null float64\n",
      "DLY_RATE    0 non-null float64\n",
      "dtypes: float64(2), int64(3), object(7)\n",
      "memory usage: 1.5+ MB\n"
     ]
    }
   ],
   "source": [
    "data_afsnt_dly.info()"
   ]
  },
  {
   "cell_type": "code",
   "execution_count": 9,
   "metadata": {},
   "outputs": [],
   "source": [
    "# 우선 결측치에 'blank'로 채워넣기\n",
    "data_afsnt['REG'] = data_afsnt['REG'].fillna('blank')\n",
    "data_afsnt['DRR'] = data_afsnt['DRR'].fillna('blank')\n",
    "data_afsnt['CNR'] = data_afsnt['CNR'].fillna('blank')"
   ]
  },
  {
   "cell_type": "code",
   "execution_count": 10,
   "metadata": {},
   "outputs": [
    {
     "data": {
      "text/plain": [
       "SDT_YY    0\n",
       "SDT_MM    0\n",
       "SDT_DD    0\n",
       "SDT_DY    0\n",
       "ARP       0\n",
       "ODP       0\n",
       "FLO       0\n",
       "FLT       0\n",
       "REG       0\n",
       "AOD       0\n",
       "IRR       0\n",
       "STT       0\n",
       "ATT       0\n",
       "DLY       0\n",
       "DRR       0\n",
       "CNL       0\n",
       "CNR       0\n",
       "dtype: int64"
      ]
     },
     "execution_count": 10,
     "metadata": {},
     "output_type": "execute_result"
    }
   ],
   "source": [
    "data_afsnt.isna().sum()"
   ]
  },
  {
   "cell_type": "code",
   "execution_count": 11,
   "metadata": {},
   "outputs": [
    {
     "data": {
      "text/html": [
       "<div>\n",
       "<style scoped>\n",
       "    .dataframe tbody tr th:only-of-type {\n",
       "        vertical-align: middle;\n",
       "    }\n",
       "\n",
       "    .dataframe tbody tr th {\n",
       "        vertical-align: top;\n",
       "    }\n",
       "\n",
       "    .dataframe thead th {\n",
       "        text-align: right;\n",
       "    }\n",
       "</style>\n",
       "<table border=\"1\" class=\"dataframe\">\n",
       "  <thead>\n",
       "    <tr style=\"text-align: right;\">\n",
       "      <th></th>\n",
       "      <th>SDT_YY</th>\n",
       "      <th>SDT_MM</th>\n",
       "      <th>SDT_DD</th>\n",
       "      <th>SDT_DY</th>\n",
       "      <th>ARP</th>\n",
       "      <th>ODP</th>\n",
       "      <th>FLO</th>\n",
       "      <th>FLT</th>\n",
       "      <th>REG</th>\n",
       "      <th>AOD</th>\n",
       "      <th>IRR</th>\n",
       "      <th>STT</th>\n",
       "      <th>ATT</th>\n",
       "      <th>DLY</th>\n",
       "      <th>DRR</th>\n",
       "      <th>CNL</th>\n",
       "      <th>CNR</th>\n",
       "    </tr>\n",
       "  </thead>\n",
       "  <tbody>\n",
       "    <tr>\n",
       "      <th>0</th>\n",
       "      <td>2017</td>\n",
       "      <td>1</td>\n",
       "      <td>1</td>\n",
       "      <td>일</td>\n",
       "      <td>ARP3</td>\n",
       "      <td>ARP6</td>\n",
       "      <td>J</td>\n",
       "      <td>J1955</td>\n",
       "      <td>SEw3NzE4</td>\n",
       "      <td>D</td>\n",
       "      <td>N</td>\n",
       "      <td>10:05</td>\n",
       "      <td>10:32</td>\n",
       "      <td>N</td>\n",
       "      <td>blank</td>\n",
       "      <td>N</td>\n",
       "      <td>blank</td>\n",
       "    </tr>\n",
       "    <tr>\n",
       "      <th>1</th>\n",
       "      <td>2017</td>\n",
       "      <td>1</td>\n",
       "      <td>1</td>\n",
       "      <td>일</td>\n",
       "      <td>ARP3</td>\n",
       "      <td>ARP6</td>\n",
       "      <td>J</td>\n",
       "      <td>J1954</td>\n",
       "      <td>SEw3NzE4</td>\n",
       "      <td>A</td>\n",
       "      <td>N</td>\n",
       "      <td>9:30</td>\n",
       "      <td>9:31</td>\n",
       "      <td>N</td>\n",
       "      <td>blank</td>\n",
       "      <td>N</td>\n",
       "      <td>blank</td>\n",
       "    </tr>\n",
       "    <tr>\n",
       "      <th>2</th>\n",
       "      <td>2017</td>\n",
       "      <td>1</td>\n",
       "      <td>1</td>\n",
       "      <td>일</td>\n",
       "      <td>ARP3</td>\n",
       "      <td>ARP6</td>\n",
       "      <td>J</td>\n",
       "      <td>J1956</td>\n",
       "      <td>SEw3NzE4</td>\n",
       "      <td>A</td>\n",
       "      <td>N</td>\n",
       "      <td>12:45</td>\n",
       "      <td>13:03</td>\n",
       "      <td>N</td>\n",
       "      <td>blank</td>\n",
       "      <td>N</td>\n",
       "      <td>blank</td>\n",
       "    </tr>\n",
       "  </tbody>\n",
       "</table>\n",
       "</div>"
      ],
      "text/plain": [
       "   SDT_YY  SDT_MM  SDT_DD SDT_DY   ARP   ODP FLO    FLT       REG AOD IRR  \\\n",
       "0    2017       1       1      일  ARP3  ARP6   J  J1955  SEw3NzE4   D   N   \n",
       "1    2017       1       1      일  ARP3  ARP6   J  J1954  SEw3NzE4   A   N   \n",
       "2    2017       1       1      일  ARP3  ARP6   J  J1956  SEw3NzE4   A   N   \n",
       "\n",
       "     STT    ATT DLY    DRR CNL    CNR  \n",
       "0  10:05  10:32   N  blank   N  blank  \n",
       "1   9:30   9:31   N  blank   N  blank  \n",
       "2  12:45  13:03   N  blank   N  blank  "
      ]
     },
     "execution_count": 11,
     "metadata": {},
     "output_type": "execute_result"
    }
   ],
   "source": [
    "data_afsnt.head(3)"
   ]
  },
  {
   "cell_type": "code",
   "execution_count": 12,
   "metadata": {},
   "outputs": [
    {
     "data": {
      "text/html": [
       "<div>\n",
       "<style scoped>\n",
       "    .dataframe tbody tr th:only-of-type {\n",
       "        vertical-align: middle;\n",
       "    }\n",
       "\n",
       "    .dataframe tbody tr th {\n",
       "        vertical-align: top;\n",
       "    }\n",
       "\n",
       "    .dataframe thead th {\n",
       "        text-align: right;\n",
       "    }\n",
       "</style>\n",
       "<table border=\"1\" class=\"dataframe\">\n",
       "  <thead>\n",
       "    <tr style=\"text-align: right;\">\n",
       "      <th></th>\n",
       "      <th></th>\n",
       "      <th>VALUE</th>\n",
       "      <th>rank</th>\n",
       "      <th>DRR_KOREAN</th>\n",
       "    </tr>\n",
       "    <tr>\n",
       "      <th>DRR</th>\n",
       "      <th>DLY</th>\n",
       "      <th></th>\n",
       "      <th></th>\n",
       "      <th></th>\n",
       "    </tr>\n",
       "  </thead>\n",
       "  <tbody>\n",
       "    <tr>\n",
       "      <th>C02</th>\n",
       "      <th>Y</th>\n",
       "      <td>107738</td>\n",
       "      <td>1</td>\n",
       "      <td>A/c접속</td>\n",
       "    </tr>\n",
       "    <tr>\n",
       "      <th>C01</th>\n",
       "      <th>Y</th>\n",
       "      <td>2031</td>\n",
       "      <td>2</td>\n",
       "      <td>A/C정비</td>\n",
       "    </tr>\n",
       "    <tr>\n",
       "      <th>A01</th>\n",
       "      <th>Y</th>\n",
       "      <td>1524</td>\n",
       "      <td>3</td>\n",
       "      <td>안개</td>\n",
       "    </tr>\n",
       "    <tr>\n",
       "      <th>C10</th>\n",
       "      <th>Y</th>\n",
       "      <td>1227</td>\n",
       "      <td>4</td>\n",
       "      <td>제방빙작업</td>\n",
       "    </tr>\n",
       "    <tr>\n",
       "      <th>D01</th>\n",
       "      <th>Y</th>\n",
       "      <td>950</td>\n",
       "      <td>5</td>\n",
       "      <td>항로혼잡</td>\n",
       "    </tr>\n",
       "    <tr>\n",
       "      <th>C03</th>\n",
       "      <th>Y</th>\n",
       "      <td>907</td>\n",
       "      <td>6</td>\n",
       "      <td>승객접속</td>\n",
       "    </tr>\n",
       "    <tr>\n",
       "      <th>C14</th>\n",
       "      <th>Y</th>\n",
       "      <td>873</td>\n",
       "      <td>7</td>\n",
       "      <td>승무원연결</td>\n",
       "    </tr>\n",
       "    <tr>\n",
       "      <th>Z99</th>\n",
       "      <th>Y</th>\n",
       "      <td>664</td>\n",
       "      <td>8</td>\n",
       "      <td>기타</td>\n",
       "    </tr>\n",
       "    <tr>\n",
       "      <th>A05</th>\n",
       "      <th>Y</th>\n",
       "      <td>596</td>\n",
       "      <td>9</td>\n",
       "      <td>강풍</td>\n",
       "    </tr>\n",
       "    <tr>\n",
       "      <th>B01</th>\n",
       "      <th>Y</th>\n",
       "      <td>417</td>\n",
       "      <td>10</td>\n",
       "      <td>계류장혼잡</td>\n",
       "    </tr>\n",
       "    <tr>\n",
       "      <th>A02</th>\n",
       "      <th>Y</th>\n",
       "      <td>361</td>\n",
       "      <td>11</td>\n",
       "      <td>강설</td>\n",
       "    </tr>\n",
       "    <tr>\n",
       "      <th>C04</th>\n",
       "      <th>Y</th>\n",
       "      <td>315</td>\n",
       "      <td>12</td>\n",
       "      <td>여객처리</td>\n",
       "    </tr>\n",
       "  </tbody>\n",
       "</table>\n",
       "</div>"
      ],
      "text/plain": [
       "          VALUE  rank DRR_KOREAN\n",
       "DRR DLY                         \n",
       "C02 Y    107738     1      A/c접속\n",
       "C01 Y      2031     2      A/C정비\n",
       "A01 Y      1524     3         안개\n",
       "C10 Y      1227     4      제방빙작업\n",
       "D01 Y       950     5       항로혼잡\n",
       "C03 Y       907     6       승객접속\n",
       "C14 Y       873     7      승무원연결\n",
       "Z99 Y       664     8         기타\n",
       "A05 Y       596     9         강풍\n",
       "B01 Y       417    10      계류장혼잡\n",
       "A02 Y       361    11         강설\n",
       "C04 Y       315    12       여객처리"
      ]
     },
     "execution_count": 12,
     "metadata": {},
     "output_type": "execute_result"
    }
   ],
   "source": [
    "# 지연,결항 사유를 많은 순서대로 나열\n",
    "weather_data = data_afsnt[['DRR','DLY']][data_afsnt['DLY'] == 'Y'].groupby('DRR')['DLY'].value_counts().sort_values(ascending=[False])\n",
    "DRR = []\n",
    "DLY = []\n",
    "for i in weather_data.index:\n",
    "    DRR.append(i[0])\n",
    "for i in weather_data.index:\n",
    "    DLY.append(i[1])\n",
    "\n",
    "rank_DRR = pd.DataFrame({'VALUE' : weather_data, 'rank' : range(1,37)})\n",
    "rank_DRR = rank_DRR.sort_values(by='DRR')\n",
    "rank_DRR['DRR_KOREAN'] = ['안개','강설','강우','태풍','강풍','상층풍','운고','기상-항로','기상-뇌우','기상-기타','계류장혼잡',\n",
    "                    '사고','활주로사정','행사','공항폐쇄','이륙대기','Curfew','A/C정비','A/c접속','승객접속','여객처리',\n",
    "                    '지상조업','SKD변경','항공기부족','환자','제방빙작업','보안검색','조종사자격','승무원휴식',\n",
    "                    '승무원연결','화물탑재','화물연결','항로혼잡','관제','복합원인','기타']\n",
    "\n",
    "rank_DRR = rank_DRR.sort_values(by='rank')\n",
    "rank_DRR.head(12) # 12개까지 많은 수를 보인다고 봤다"
   ]
  },
  {
   "cell_type": "code",
   "execution_count": 13,
   "metadata": {},
   "outputs": [
    {
     "data": {
      "text/html": [
       "<div>\n",
       "<style scoped>\n",
       "    .dataframe tbody tr th:only-of-type {\n",
       "        vertical-align: middle;\n",
       "    }\n",
       "\n",
       "    .dataframe tbody tr th {\n",
       "        vertical-align: top;\n",
       "    }\n",
       "\n",
       "    .dataframe thead th {\n",
       "        text-align: right;\n",
       "    }\n",
       "</style>\n",
       "<table border=\"1\" class=\"dataframe\">\n",
       "  <thead>\n",
       "    <tr style=\"text-align: right;\">\n",
       "      <th></th>\n",
       "      <th></th>\n",
       "      <th>VALUE</th>\n",
       "      <th>rank</th>\n",
       "      <th>DRR_KOREAN</th>\n",
       "    </tr>\n",
       "    <tr>\n",
       "      <th>DRR</th>\n",
       "      <th>DLY</th>\n",
       "      <th></th>\n",
       "      <th></th>\n",
       "      <th></th>\n",
       "    </tr>\n",
       "  </thead>\n",
       "  <tbody>\n",
       "    <tr>\n",
       "      <th>A01</th>\n",
       "      <th>Y</th>\n",
       "      <td>1524</td>\n",
       "      <td>3</td>\n",
       "      <td>안개</td>\n",
       "    </tr>\n",
       "    <tr>\n",
       "      <th>A05</th>\n",
       "      <th>Y</th>\n",
       "      <td>596</td>\n",
       "      <td>9</td>\n",
       "      <td>강풍</td>\n",
       "    </tr>\n",
       "    <tr>\n",
       "      <th>A02</th>\n",
       "      <th>Y</th>\n",
       "      <td>361</td>\n",
       "      <td>11</td>\n",
       "      <td>강설</td>\n",
       "    </tr>\n",
       "    <tr>\n",
       "      <th>A10</th>\n",
       "      <th>Y</th>\n",
       "      <td>164</td>\n",
       "      <td>14</td>\n",
       "      <td>기상-뇌우</td>\n",
       "    </tr>\n",
       "    <tr>\n",
       "      <th>A99</th>\n",
       "      <th>Y</th>\n",
       "      <td>139</td>\n",
       "      <td>15</td>\n",
       "      <td>기상-기타</td>\n",
       "    </tr>\n",
       "    <tr>\n",
       "      <th>A07</th>\n",
       "      <th>Y</th>\n",
       "      <td>75</td>\n",
       "      <td>19</td>\n",
       "      <td>운고</td>\n",
       "    </tr>\n",
       "    <tr>\n",
       "      <th>A09</th>\n",
       "      <th>Y</th>\n",
       "      <td>72</td>\n",
       "      <td>20</td>\n",
       "      <td>기상-항로</td>\n",
       "    </tr>\n",
       "    <tr>\n",
       "      <th>A04</th>\n",
       "      <th>Y</th>\n",
       "      <td>49</td>\n",
       "      <td>22</td>\n",
       "      <td>태풍</td>\n",
       "    </tr>\n",
       "    <tr>\n",
       "      <th>A03</th>\n",
       "      <th>Y</th>\n",
       "      <td>33</td>\n",
       "      <td>26</td>\n",
       "      <td>강우</td>\n",
       "    </tr>\n",
       "    <tr>\n",
       "      <th>A06</th>\n",
       "      <th>Y</th>\n",
       "      <td>27</td>\n",
       "      <td>28</td>\n",
       "      <td>상층풍</td>\n",
       "    </tr>\n",
       "  </tbody>\n",
       "</table>\n",
       "</div>"
      ],
      "text/plain": [
       "         VALUE  rank DRR_KOREAN\n",
       "DRR DLY                        \n",
       "A01 Y     1524     3         안개\n",
       "A05 Y      596     9         강풍\n",
       "A02 Y      361    11         강설\n",
       "A10 Y      164    14      기상-뇌우\n",
       "A99 Y      139    15      기상-기타\n",
       "A07 Y       75    19         운고\n",
       "A09 Y       72    20      기상-항로\n",
       "A04 Y       49    22         태풍\n",
       "A03 Y       33    26         강우\n",
       "A06 Y       27    28        상층풍"
      ]
     },
     "execution_count": 13,
     "metadata": {},
     "output_type": "execute_result"
    }
   ],
   "source": [
    "# 날씨 사유 중 어느것이 많은 가 살펴본다.\n",
    "rank_DRR.loc[['A01','A02','A03','A04','A05','A06','A07','A08','A09','A10','A99'],:]"
   ]
  },
  {
   "cell_type": "code",
   "execution_count": 14,
   "metadata": {},
   "outputs": [
    {
     "name": "stdout",
     "output_type": "stream",
     "text": [
      "<class 'pandas.core.frame.DataFrame'>\n",
      "RangeIndex: 1186 entries, 0 to 1185\n",
      "Data columns (total 17 columns):\n",
      "SSC    1186 non-null object\n",
      "FLT    1186 non-null object\n",
      "ORG    1186 non-null object\n",
      "DES    1186 non-null object\n",
      "STD    1168 non-null object\n",
      "STA    1167 non-null object\n",
      "FLO    1186 non-null object\n",
      "MON    754 non-null object\n",
      "TUE    750 non-null object\n",
      "WED    745 non-null object\n",
      "THU    745 non-null object\n",
      "FRI    748 non-null object\n",
      "SAT    749 non-null object\n",
      "SUN    727 non-null object\n",
      "FSD    1186 non-null int64\n",
      "FED    1186 non-null int64\n",
      "IRR    1186 non-null object\n",
      "dtypes: int64(2), object(15)\n",
      "memory usage: 157.6+ KB\n"
     ]
    }
   ],
   "source": [
    "data_sfsnt.info()"
   ]
  },
  {
   "cell_type": "code",
   "execution_count": 15,
   "metadata": {},
   "outputs": [],
   "source": [
    "# sfsnt데이터 시간 null값 채우기\n",
    "sta_index = list(data_sfsnt[data_sfsnt['STA'].isna()==True].index)\n",
    "std_index = list(data_sfsnt[data_sfsnt['STD'].isna()==True].index)\n",
    "# sta과 std 둘다 없는 곳에 둘다 0 넣기\n",
    "data_sfsnt.loc[684,'STD'] = '00:00'\n",
    "data_sfsnt.loc[684,'STA'] = '00:00'\n",
    "# sta와 std에 하나씩 비어있어서 각 출발시간과 도착시간을 같게 넣어줘서 계산에서 뺄 수 있도록\n",
    "data_sfsnt.loc[std_index,'STD'] = data_sfsnt.loc[std_index,'STA']\n",
    "data_sfsnt.loc[sta_index,'STA'] = data_sfsnt.loc[sta_index,'STD']\n"
   ]
  },
  {
   "cell_type": "code",
   "execution_count": 16,
   "metadata": {},
   "outputs": [
    {
     "name": "stdout",
     "output_type": "stream",
     "text": [
      "<class 'pandas.core.frame.DataFrame'>\n",
      "RangeIndex: 1186 entries, 0 to 1185\n",
      "Data columns (total 17 columns):\n",
      "SSC    1186 non-null object\n",
      "FLT    1186 non-null object\n",
      "ORG    1186 non-null object\n",
      "DES    1186 non-null object\n",
      "STD    1186 non-null object\n",
      "STA    1186 non-null object\n",
      "FLO    1186 non-null object\n",
      "MON    754 non-null object\n",
      "TUE    750 non-null object\n",
      "WED    745 non-null object\n",
      "THU    745 non-null object\n",
      "FRI    748 non-null object\n",
      "SAT    749 non-null object\n",
      "SUN    727 non-null object\n",
      "FSD    1186 non-null int64\n",
      "FED    1186 non-null int64\n",
      "IRR    1186 non-null object\n",
      "dtypes: int64(2), object(15)\n",
      "memory usage: 157.6+ KB\n"
     ]
    }
   ],
   "source": [
    "data_sfsnt.info()"
   ]
  },
  {
   "cell_type": "code",
   "execution_count": 17,
   "metadata": {},
   "outputs": [],
   "source": [
    "# 시간 표시를 ':'제거하고 숫자로된 문자열로 변환하기\n",
    "def time_to_str(time):\n",
    "    hour_str = \"\"\n",
    "    hour = 0\n",
    "    minute = \"\"\n",
    "    ind = time.find(':',0,4)\n",
    "    hour = int(time[:ind])\n",
    "    if hour < 10:\n",
    "        hour_str = '0'+str(hour)\n",
    "    else:\n",
    "        hour_str = str(hour)\n",
    "    minute = time[ind+1:]\n",
    "    return hour_str+minute\n",
    "\n",
    "data_afsnt['STT'] = data_afsnt['STT'].apply(lambda x : time_to_str(x))\n",
    "data_afsnt['ATT'] = data_afsnt['ATT'].apply(lambda x : time_to_str(x))\n",
    "data_afsnt_dly['STT'] = data_afsnt_dly['STT'].apply(lambda x : time_to_str(x))\n",
    "data_sfsnt['STD'] = data_sfsnt['STD'].apply(lambda x : time_to_str(x))\n",
    "data_sfsnt['STA'] = data_sfsnt['STA'].apply(lambda x : time_to_str(x))"
   ]
  },
  {
   "cell_type": "code",
   "execution_count": 18,
   "metadata": {},
   "outputs": [
    {
     "data": {
      "text/html": [
       "<div>\n",
       "<style scoped>\n",
       "    .dataframe tbody tr th:only-of-type {\n",
       "        vertical-align: middle;\n",
       "    }\n",
       "\n",
       "    .dataframe tbody tr th {\n",
       "        vertical-align: top;\n",
       "    }\n",
       "\n",
       "    .dataframe thead th {\n",
       "        text-align: right;\n",
       "    }\n",
       "</style>\n",
       "<table border=\"1\" class=\"dataframe\">\n",
       "  <thead>\n",
       "    <tr style=\"text-align: right;\">\n",
       "      <th></th>\n",
       "      <th>SDT_YY</th>\n",
       "      <th>SDT_MM</th>\n",
       "      <th>SDT_DD</th>\n",
       "      <th>SDT_DY</th>\n",
       "      <th>ARP</th>\n",
       "      <th>ODP</th>\n",
       "      <th>FLO</th>\n",
       "      <th>FLT</th>\n",
       "      <th>REG</th>\n",
       "      <th>AOD</th>\n",
       "      <th>IRR</th>\n",
       "      <th>STT</th>\n",
       "      <th>ATT</th>\n",
       "      <th>DLY</th>\n",
       "      <th>DRR</th>\n",
       "      <th>CNL</th>\n",
       "      <th>CNR</th>\n",
       "    </tr>\n",
       "  </thead>\n",
       "  <tbody>\n",
       "    <tr>\n",
       "      <th>0</th>\n",
       "      <td>2017</td>\n",
       "      <td>1</td>\n",
       "      <td>1</td>\n",
       "      <td>일</td>\n",
       "      <td>ARP3</td>\n",
       "      <td>ARP6</td>\n",
       "      <td>J</td>\n",
       "      <td>J1955</td>\n",
       "      <td>SEw3NzE4</td>\n",
       "      <td>D</td>\n",
       "      <td>N</td>\n",
       "      <td>1005</td>\n",
       "      <td>1032</td>\n",
       "      <td>N</td>\n",
       "      <td>blank</td>\n",
       "      <td>N</td>\n",
       "      <td>blank</td>\n",
       "    </tr>\n",
       "    <tr>\n",
       "      <th>1</th>\n",
       "      <td>2017</td>\n",
       "      <td>1</td>\n",
       "      <td>1</td>\n",
       "      <td>일</td>\n",
       "      <td>ARP3</td>\n",
       "      <td>ARP6</td>\n",
       "      <td>J</td>\n",
       "      <td>J1954</td>\n",
       "      <td>SEw3NzE4</td>\n",
       "      <td>A</td>\n",
       "      <td>N</td>\n",
       "      <td>0930</td>\n",
       "      <td>0931</td>\n",
       "      <td>N</td>\n",
       "      <td>blank</td>\n",
       "      <td>N</td>\n",
       "      <td>blank</td>\n",
       "    </tr>\n",
       "    <tr>\n",
       "      <th>2</th>\n",
       "      <td>2017</td>\n",
       "      <td>1</td>\n",
       "      <td>1</td>\n",
       "      <td>일</td>\n",
       "      <td>ARP3</td>\n",
       "      <td>ARP6</td>\n",
       "      <td>J</td>\n",
       "      <td>J1956</td>\n",
       "      <td>SEw3NzE4</td>\n",
       "      <td>A</td>\n",
       "      <td>N</td>\n",
       "      <td>1245</td>\n",
       "      <td>1303</td>\n",
       "      <td>N</td>\n",
       "      <td>blank</td>\n",
       "      <td>N</td>\n",
       "      <td>blank</td>\n",
       "    </tr>\n",
       "  </tbody>\n",
       "</table>\n",
       "</div>"
      ],
      "text/plain": [
       "   SDT_YY  SDT_MM  SDT_DD SDT_DY   ARP   ODP FLO    FLT       REG AOD IRR  \\\n",
       "0    2017       1       1      일  ARP3  ARP6   J  J1955  SEw3NzE4   D   N   \n",
       "1    2017       1       1      일  ARP3  ARP6   J  J1954  SEw3NzE4   A   N   \n",
       "2    2017       1       1      일  ARP3  ARP6   J  J1956  SEw3NzE4   A   N   \n",
       "\n",
       "    STT   ATT DLY    DRR CNL    CNR  \n",
       "0  1005  1032   N  blank   N  blank  \n",
       "1  0930  0931   N  blank   N  blank  \n",
       "2  1245  1303   N  blank   N  blank  "
      ]
     },
     "execution_count": 18,
     "metadata": {},
     "output_type": "execute_result"
    }
   ],
   "source": [
    "data_afsnt.head(3)"
   ]
  },
  {
   "cell_type": "code",
   "execution_count": 19,
   "metadata": {},
   "outputs": [],
   "source": [
    "def split_hour_to_int(time):\n",
    "    hour = 0\n",
    "    hour = int(time[0:2])\n",
    "    return hour\n",
    "\n",
    "def split_minute_to_int(time):\n",
    "    minute = 0\n",
    "    minute = int(time[2:])\n",
    "    return minute\n",
    "\n",
    "data_afsnt['HOUR'] = data_afsnt['STT'].apply(lambda x : split_hour_to_int(x))\n",
    "data_afsnt['MINUTE'] = data_afsnt['STT'].apply(lambda x : split_minute_to_int(x))\n",
    "data_afsnt_dly['HOUR'] = data_afsnt_dly['STT'].apply(lambda x : split_hour_to_int(x))\n",
    "data_afsnt_dly['MINUTE'] = data_afsnt_dly['STT'].apply(lambda x : split_minute_to_int(x))\n",
    "data_sfsnt['STA_HOUR'] = data_sfsnt['STA'].apply(lambda x : split_hour_to_int(x))\n",
    "data_sfsnt['STA_MINUTE'] = data_sfsnt['STA'].apply(lambda x : split_minute_to_int(x))\n",
    "data_sfsnt['STD_HOUR'] = data_sfsnt['STD'].apply(lambda x : split_hour_to_int(x))\n",
    "data_sfsnt['STD_MINUTE'] = data_sfsnt['STD'].apply(lambda x : split_minute_to_int(x))"
   ]
  },
  {
   "cell_type": "code",
   "execution_count": 20,
   "metadata": {},
   "outputs": [],
   "source": [
    "data_afsnt['GROUP'] = [sorted([i,j])[0] + sorted([i,j])[1] for i,j in zip(data_afsnt['ARP'],data_afsnt['ODP'] )] \n",
    "data_afsnt_dly['GROUP'] = [sorted([i,j])[0] + sorted([i,j])[1] for i,j in zip(data_afsnt_dly['ARP'],data_afsnt_dly['ODP'] )] \n",
    "data_sfsnt['GROUP'] = [sorted([i,j])[0] + sorted([i,j])[1] for i,j in zip(data_sfsnt['ORG'],data_sfsnt['DES'] )] \n",
    "data_afsnt['DISTANCE'] = [k + sorted([i,j])[0] + sorted([i,j])[1] for i,j,k in zip(data_afsnt['ARP'],data_afsnt['ODP'],data_afsnt['FLO'] )] "
   ]
  },
  {
   "cell_type": "code",
   "execution_count": 21,
   "metadata": {},
   "outputs": [
    {
     "data": {
      "image/png": "[encoded data removed]",
      "text/plain": [
       "<Figure size 432x288 with 1 Axes>"
      ]
     },
     "metadata": {
      "needs_background": "light"
     },
     "output_type": "display_data"
    }
   ],
   "source": [
    "#9월달 일일별 지연횟수\n",
    "data_afsnt['DLY_NUM'] = data_afsnt['DLY'].apply(lambda x : 1 if x == 'Y' else 0)\n",
    "sep_dly_count_by_month = data_afsnt.groupby(by=['SDT_MM','SDT_DD'])['DLY_NUM'].sum()[9]\n",
    "plt.plot(sep_dly_count_by_month[14:31])\n",
    "plt.show()"
   ]
  },
  {
   "cell_type": "code",
   "execution_count": 22,
   "metadata": {},
   "outputs": [
    {
     "data": {
      "image/png": "[encoded data removed]",
      "text/plain": [
       "<Figure size 1080x360 with 1 Axes>"
      ]
     },
     "metadata": {
      "needs_background": "light"
     },
     "output_type": "display_data"
    }
   ],
   "source": [
    "#연도별 9월달 15일~30일까지 지연 횟수\n",
    "a = data_afsnt.groupby(by=['SDT_YY','SDT_MM','SDT_DD'])['DLY_NUM'].sum()\n",
    "a_2017 = a.loc[2017]\n",
    "a_2018 = a.loc[2018]\n",
    "a_2017_09 = a_2017.loc[9]\n",
    "a_2018_09 = a_2018.loc[9]\n",
    "\n",
    "\n",
    "# 2017년, 2018년 9월 15일~30일 지연 횟수 비교\n",
    "plt.figure(figsize = (15,5))\n",
    "plt.plot(a_2017_09[14:31])\n",
    "plt.plot(a_2018_09[14:31])\n",
    "plt.legend(['2017','2018'])\n",
    "plt.show()"
   ]
  },
  {
   "cell_type": "code",
   "execution_count": 23,
   "metadata": {},
   "outputs": [
    {
     "name": "stderr",
     "output_type": "stream",
     "text": [
      "C:\\Users\\user\\Anaconda3\\lib\\site-packages\\matplotlib\\backends\\backend_agg.py:211: RuntimeWarning: Glyph 45380 missing from current font.\n",
      "  font.set_text(s, 0.0, flags=flags)\n",
      "C:\\Users\\user\\Anaconda3\\lib\\site-packages\\matplotlib\\backends\\backend_agg.py:211: RuntimeWarning: Glyph 46020 missing from current font.\n",
      "  font.set_text(s, 0.0, flags=flags)\n",
      "C:\\Users\\user\\Anaconda3\\lib\\site-packages\\matplotlib\\backends\\backend_agg.py:211: RuntimeWarning: Glyph 51648 missing from current font.\n",
      "  font.set_text(s, 0.0, flags=flags)\n",
      "C:\\Users\\user\\Anaconda3\\lib\\site-packages\\matplotlib\\backends\\backend_agg.py:211: RuntimeWarning: Glyph 50672 missing from current font.\n",
      "  font.set_text(s, 0.0, flags=flags)\n",
      "C:\\Users\\user\\Anaconda3\\lib\\site-packages\\matplotlib\\backends\\backend_agg.py:211: RuntimeWarning: Glyph 54943 missing from current font.\n",
      "  font.set_text(s, 0.0, flags=flags)\n",
      "C:\\Users\\user\\Anaconda3\\lib\\site-packages\\matplotlib\\backends\\backend_agg.py:211: RuntimeWarning: Glyph 49688 missing from current font.\n",
      "  font.set_text(s, 0.0, flags=flags)\n",
      "C:\\Users\\user\\Anaconda3\\lib\\site-packages\\matplotlib\\backends\\backend_agg.py:211: RuntimeWarning: Glyph 54633 missing from current font.\n",
      "  font.set_text(s, 0.0, flags=flags)\n",
      "C:\\Users\\user\\Anaconda3\\lib\\site-packages\\matplotlib\\backends\\backend_agg.py:180: RuntimeWarning: Glyph 45380 missing from current font.\n",
      "  font.set_text(s, 0, flags=flags)\n",
      "C:\\Users\\user\\Anaconda3\\lib\\site-packages\\matplotlib\\backends\\backend_agg.py:180: RuntimeWarning: Glyph 46020 missing from current font.\n",
      "  font.set_text(s, 0, flags=flags)\n",
      "C:\\Users\\user\\Anaconda3\\lib\\site-packages\\matplotlib\\backends\\backend_agg.py:180: RuntimeWarning: Glyph 51648 missing from current font.\n",
      "  font.set_text(s, 0, flags=flags)\n",
      "C:\\Users\\user\\Anaconda3\\lib\\site-packages\\matplotlib\\backends\\backend_agg.py:180: RuntimeWarning: Glyph 50672 missing from current font.\n",
      "  font.set_text(s, 0, flags=flags)\n",
      "C:\\Users\\user\\Anaconda3\\lib\\site-packages\\matplotlib\\backends\\backend_agg.py:180: RuntimeWarning: Glyph 54943 missing from current font.\n",
      "  font.set_text(s, 0, flags=flags)\n",
      "C:\\Users\\user\\Anaconda3\\lib\\site-packages\\matplotlib\\backends\\backend_agg.py:180: RuntimeWarning: Glyph 49688 missing from current font.\n",
      "  font.set_text(s, 0, flags=flags)\n",
      "C:\\Users\\user\\Anaconda3\\lib\\site-packages\\matplotlib\\backends\\backend_agg.py:180: RuntimeWarning: Glyph 54633 missing from current font.\n",
      "  font.set_text(s, 0, flags=flags)\n"
     ]
    },
    {
     "data": {
      "image/png": "[encoded data removed]",
      "text/plain": [
       "<Figure size 1080x360 with 1 Axes>"
      ]
     },
     "metadata": {
      "needs_background": "light"
     },
     "output_type": "display_data"
    }
   ],
   "source": [
    "# 2017년도 2018년도 9월달 지연횟수 합\n",
    "plt.figure(figsize = (15,5))\n",
    "sum_09 = a_2017_09[14:31]+a_2018_09[14:31]\n",
    "plt.bar(sum_09.index,sum_09)\n",
    "plt.title('17,18년도 지연횟수 합')\n",
    "plt.show()"
   ]
  },
  {
   "cell_type": "markdown",
   "metadata": {},
   "source": [
    "9월달 일자별 발생횟수는 중요하지 않은 것 같다. 이것으로 학습을 하려면 다년도에 걸친 9월달 데이터가 더 필요하다."
   ]
  },
  {
   "cell_type": "code",
   "execution_count": 24,
   "metadata": {},
   "outputs": [
    {
     "name": "stdout",
     "output_type": "stream",
     "text": [
      "ARP\n",
      "ARP1     310665\n",
      "ARP10        12\n",
      "ARP11      3658\n",
      "ARP12      4880\n",
      "ARP13      4248\n",
      "ARP14      1897\n",
      "ARP15     13696\n",
      "ARP2     121513\n",
      "ARP3     393607\n",
      "ARP4      33623\n",
      "ARP5      16321\n",
      "ARP6      34472\n",
      "ARP7       3163\n",
      "ARP8      33195\n",
      "ARP9      12759\n",
      "Name: DLY_NUM, dtype: int64\n"
     ]
    },
    {
     "data": {
      "image/png": "[encoded data removed]",
      "text/plain": [
       "<Figure size 576x360 with 1 Axes>"
      ]
     },
     "metadata": {},
     "output_type": "display_data"
    }
   ],
   "source": [
    "# 공항별 지연 횟수\n",
    "air_name = data_afsnt.groupby(by='ARP')['DLY_NUM'].count()\n",
    "print(air_name)\n",
    "plt.figure(figsize = (8,5))\n",
    "plt.pie(air_name[:], labels=air_name.index, startangle=90,autopct='%1.1f%%',labeldistance=1.1)\n",
    "plt.show()"
   ]
  },
  {
   "cell_type": "code",
   "execution_count": 25,
   "metadata": {},
   "outputs": [
    {
     "data": {
      "image/png": "[encoded data removed]",
      "text/plain": [
       "<Figure size 1440x720 with 1 Axes>"
      ]
     },
     "metadata": {
      "needs_background": "light"
     },
     "output_type": "display_data"
    }
   ],
   "source": [
    "# 지연 사유별 지연 횟수\n",
    "drr = data_afsnt.groupby('DRR')['DLY_NUM'].sum()\n",
    "plt.figure(figsize=(20, 10))\n",
    "plt.ylim(0,9000)\n",
    "plt.bar(drr.index,drr[:])\n",
    "plt.show()"
   ]
  },
  {
   "cell_type": "markdown",
   "metadata": {},
   "source": [
    "ac접속지연이 다른 것에 비해서 너무 큰 비중을 차지한다."
   ]
  },
  {
   "cell_type": "code",
   "execution_count": 26,
   "metadata": {},
   "outputs": [
    {
     "data": {
      "text/plain": [
       "SDT_YY  SDT_MM  SDT_DD  DRR  DLY_NUM\n",
       "2017    9       18      A01  1          2\n",
       "                20      A99  1          1\n",
       "                25      A01  1          2\n",
       "                        A99  1          1\n",
       "                26      A05  1          1\n",
       "                27      A07  1          5\n",
       "2018    9       19      A09  1          2\n",
       "                22      A01  1          5\n",
       "                23      A01  1          1\n",
       "Name: DLY_NUM, dtype: int64"
      ]
     },
     "execution_count": 26,
     "metadata": {},
     "output_type": "execute_result"
    }
   ],
   "source": [
    "#9월달에 날씨때문에 결항을 얼마나 했나 보려고 한다.\n",
    "reason_weather= ['A01','A02','A03','A04','A05','A06','A07','A08','A09','A10','A99']\n",
    "dly_weather_sep = data_afsnt.groupby(by=['SDT_YY','SDT_MM','SDT_DD','DRR'])['DLY_NUM'].value_counts()\n",
    "dly_weather_sep.head(3)\n",
    "dly_weather_sep.index\n",
    "\n",
    "s = dly_weather_sep.loc[[2017,2018],9,15:,reason_weather,1]\n",
    "s\n",
    "#엄청 작다"
   ]
  },
  {
   "cell_type": "code",
   "execution_count": 27,
   "metadata": {},
   "outputs": [
    {
     "data": {
      "text/plain": [
       "318"
      ]
     },
     "execution_count": 27,
     "metadata": {},
     "output_type": "execute_result"
    }
   ],
   "source": [
    "# 2017,2018 9월 15~30에 지연 발생 원인 중 연결지연을 뺀 지연횟수\n",
    "dly_weather_sep.loc[[2017,2018],9,15:,:,1].sum()-dly_weather_sep.loc[[2017,2018],9,15:,'C02',1].sum()"
   ]
  },
  {
   "cell_type": "code",
   "execution_count": 28,
   "metadata": {},
   "outputs": [
    {
     "data": {
      "text/plain": [
       "0.06289308176100629"
      ]
     },
     "execution_count": 28,
     "metadata": {},
     "output_type": "execute_result"
    }
   ],
   "source": [
    "# 날씨 원인이 전체에서 6%정도 차지한다.\n",
    "s.sum()/318"
   ]
  },
  {
   "cell_type": "code",
   "execution_count": 29,
   "metadata": {},
   "outputs": [],
   "source": [
    "# 날씨 지연이 얼마나 차지하는지\n",
    "dly_weather = data_afsnt.groupby(by=['SDT_YY','SDT_MM','SDT_DD','DRR'])['DLY_NUM'].value_counts()\n",
    "dly_weather.head(3)\n",
    "dly_weather.index\n",
    "\n",
    "s2 = dly_weather.loc[:,:,:,reason_weather,1]\n",
    "all_delay_num = dly_weather.loc[:,:,:,:,1]\n",
    "all_delay_num_c02 = all_delay_num.loc[:,:,:,'C02',:].sum()"
   ]
  },
  {
   "cell_type": "code",
   "execution_count": 30,
   "metadata": {},
   "outputs": [
    {
     "data": {
      "text/plain": [
       "0.27145280828645413"
      ]
     },
     "execution_count": 30,
     "metadata": {},
     "output_type": "execute_result"
    }
   ],
   "source": [
    "# 연결 지연을 제외하면 날씨가 전체 지연에서 약 27%정도 차지한다. 중요한 정보다.\n",
    "s2.sum()/(all_delay_num.sum()-all_delay_num_c02) "
   ]
  },
  {
   "cell_type": "code",
   "execution_count": 31,
   "metadata": {},
   "outputs": [
    {
     "data": {
      "text/html": [
       "<div>\n",
       "<style scoped>\n",
       "    .dataframe tbody tr th:only-of-type {\n",
       "        vertical-align: middle;\n",
       "    }\n",
       "\n",
       "    .dataframe tbody tr th {\n",
       "        vertical-align: top;\n",
       "    }\n",
       "\n",
       "    .dataframe thead th {\n",
       "        text-align: right;\n",
       "    }\n",
       "</style>\n",
       "<table border=\"1\" class=\"dataframe\">\n",
       "  <thead>\n",
       "    <tr style=\"text-align: right;\">\n",
       "      <th></th>\n",
       "      <th></th>\n",
       "      <th>DRR</th>\n",
       "      <th>DLY</th>\n",
       "      <th>VALUE</th>\n",
       "      <th>rank</th>\n",
       "    </tr>\n",
       "    <tr>\n",
       "      <th>DRR</th>\n",
       "      <th>DLY</th>\n",
       "      <th></th>\n",
       "      <th></th>\n",
       "      <th></th>\n",
       "      <th></th>\n",
       "    </tr>\n",
       "  </thead>\n",
       "  <tbody>\n",
       "    <tr>\n",
       "      <th>A01</th>\n",
       "      <th>Y</th>\n",
       "      <td>A01</td>\n",
       "      <td>Y</td>\n",
       "      <td>1524</td>\n",
       "      <td>3</td>\n",
       "    </tr>\n",
       "    <tr>\n",
       "      <th>A05</th>\n",
       "      <th>Y</th>\n",
       "      <td>A05</td>\n",
       "      <td>Y</td>\n",
       "      <td>596</td>\n",
       "      <td>9</td>\n",
       "    </tr>\n",
       "    <tr>\n",
       "      <th>A02</th>\n",
       "      <th>Y</th>\n",
       "      <td>A02</td>\n",
       "      <td>Y</td>\n",
       "      <td>361</td>\n",
       "      <td>11</td>\n",
       "    </tr>\n",
       "    <tr>\n",
       "      <th>A10</th>\n",
       "      <th>Y</th>\n",
       "      <td>A10</td>\n",
       "      <td>Y</td>\n",
       "      <td>164</td>\n",
       "      <td>14</td>\n",
       "    </tr>\n",
       "    <tr>\n",
       "      <th>A99</th>\n",
       "      <th>Y</th>\n",
       "      <td>A99</td>\n",
       "      <td>Y</td>\n",
       "      <td>139</td>\n",
       "      <td>15</td>\n",
       "    </tr>\n",
       "    <tr>\n",
       "      <th>A07</th>\n",
       "      <th>Y</th>\n",
       "      <td>A07</td>\n",
       "      <td>Y</td>\n",
       "      <td>75</td>\n",
       "      <td>19</td>\n",
       "    </tr>\n",
       "    <tr>\n",
       "      <th>A09</th>\n",
       "      <th>Y</th>\n",
       "      <td>A09</td>\n",
       "      <td>Y</td>\n",
       "      <td>72</td>\n",
       "      <td>20</td>\n",
       "    </tr>\n",
       "    <tr>\n",
       "      <th>A04</th>\n",
       "      <th>Y</th>\n",
       "      <td>A04</td>\n",
       "      <td>Y</td>\n",
       "      <td>49</td>\n",
       "      <td>22</td>\n",
       "    </tr>\n",
       "    <tr>\n",
       "      <th>A03</th>\n",
       "      <th>Y</th>\n",
       "      <td>A03</td>\n",
       "      <td>Y</td>\n",
       "      <td>33</td>\n",
       "      <td>26</td>\n",
       "    </tr>\n",
       "    <tr>\n",
       "      <th>A06</th>\n",
       "      <th>Y</th>\n",
       "      <td>A06</td>\n",
       "      <td>Y</td>\n",
       "      <td>27</td>\n",
       "      <td>28</td>\n",
       "    </tr>\n",
       "  </tbody>\n",
       "</table>\n",
       "</div>"
      ],
      "text/plain": [
       "         DRR DLY  VALUE  rank\n",
       "DRR DLY                      \n",
       "A01 Y    A01   Y   1524     3\n",
       "A05 Y    A05   Y    596     9\n",
       "A02 Y    A02   Y    361    11\n",
       "A10 Y    A10   Y    164    14\n",
       "A99 Y    A99   Y    139    15\n",
       "A07 Y    A07   Y     75    19\n",
       "A09 Y    A09   Y     72    20\n",
       "A04 Y    A04   Y     49    22\n",
       "A03 Y    A03   Y     33    26\n",
       "A06 Y    A06   Y     27    28"
      ]
     },
     "execution_count": 31,
     "metadata": {},
     "output_type": "execute_result"
    }
   ],
   "source": [
    "# 날씨 사유 중 어느것이 많은 가 살펴본다.\n",
    "weather_data = data_afsnt[['DRR','DLY']][data_afsnt['DLY'] == 'Y'].groupby('DRR')['DLY'].value_counts().sort_values(ascending=[False])\n",
    "weather_data.index\n",
    "DRR = []\n",
    "DLY = []\n",
    "for i in weather_data.index:\n",
    "    DRR.append(i[0])\n",
    "for i in weather_data.index:\n",
    "    DLY.append(i[1])\n",
    "\n",
    "rank_DRR = pd.DataFrame({'DRR' : DRR, 'DLY' : DLY, 'VALUE' : weather_data, 'rank' : range(1,37)})\n",
    "rank_DRR.loc[['A01','A02','A03','A04','A05','A06','A07','A08','A09','A10','A99'],:]\n",
    "#안개- 강풍- 강설- 뇌우 순으로 영향이 컸다."
   ]
  },
  {
   "cell_type": "code",
   "execution_count": 32,
   "metadata": {},
   "outputs": [],
   "source": [
    "# 시간대별 지연횟수 살펴보기"
   ]
  },
  {
   "cell_type": "markdown",
   "metadata": {},
   "source": [
    "## 파생변수"
   ]
  },
  {
   "cell_type": "code",
   "execution_count": 33,
   "metadata": {},
   "outputs": [],
   "source": [
    "# ac접속지연의 첫 지연발생점 확인하기? 또는 연속되는 줄을 찾아내는 알고리즘?\n",
    "# 하나가 지연되었을 때 뒤에 연결된 항공편들을 알아내야 뒤에 항공편들이 지연된다는 것을 알 수 있으니까\n",
    "# 처음에 지연 일어났을 때 시간이 얼마나 지연되는 지 구해서 연결지연이 점점 어떻게 영향을 받는지 구해야 될거 같다 갈수록 지연시간이 줄어들어 지연이 멈추게 된다.\n",
    "# 앞에 비행기와 연결된다는 표시가 있어야 그 시간을 다음 비행기에 영향으로 줄 수 있을 거 같다.\n",
    "# 항공편별 시간순서를 나타내줄 수 있는 변수가 필요할 거 같다(연결지연 때문에)  위 문장이랑 비슷한 내용\n",
    "# 날씨 상위 4개 사유를 범위를 정해줘서 값으로 넣어준다\n",
    "# flt에서 출발공항과 도착공항이 같은 것을 그룹핑한다.\n"
   ]
  },
  {
   "cell_type": "code",
   "execution_count": 34,
   "metadata": {},
   "outputs": [],
   "source": [
    "# 파생변수\n",
    "# 두 공항간의 거리(공항에서 원래 예상하는 시간) sfsnt 데이터에서 구할 수 있음\n",
    "\n",
    "# 날짜와 공항에 따른 날씨  (그 전에 만약 눈이 얼마나 내려야 결항인가 이런 것도 알아보자, 바람은 어느정도 세기 이상이어야 지연인지)\n",
    "# 근데 날씨를 넣어버리면 날씨에 의해서 100% 지연여부가 학습될 수 있기때문에 문제다. 과거시점에 정확한 날씨를 학습해버리면 날씨에 의해서\n",
    "#지연여부가 결정되기때문에 과거에도 더 과거에서 예보한 날씨를 넣어야 할 것이다.\n",
    "# FLT에서 공항과 상대공항이 같은 것들을 그룹핑이 필요해보인다.\n",
    "# FLO별 평균 비행시간\n"
   ]
  },
  {
   "cell_type": "code",
   "execution_count": 35,
   "metadata": {},
   "outputs": [],
   "source": [
    "# asd = 0\n",
    "# for i in range(len(D_ATT):\n",
    "#     D_ATT.tolist()\n",
    "# asd\n"
   ]
  },
  {
   "cell_type": "code",
   "execution_count": 36,
   "metadata": {},
   "outputs": [],
   "source": [
    "# 파생변수 비행시간 추가 'LATE_TIME '\n",
    "def hour(time):\n",
    "    indx = 2\n",
    "    hour = 0\n",
    "    hour = int(time[0:indx])\n",
    "    return hour\n",
    "def minute(time):\n",
    "    indx = 2\n",
    "    minute = 0\n",
    "    minute = float(time[indx:])\n",
    "    return minute / 60\n",
    "\n",
    "data_afsnt['LATE_TIME']= data_afsnt['ATT'].apply(lambda x : hour(x))-data_afsnt['STT'].apply(lambda x : hour(x))+ (data_afsnt['ATT'].apply(lambda x : minute(x))-data_afsnt['STT'].apply(lambda x : minute(x)))"
   ]
  },
  {
   "cell_type": "code",
   "execution_count": 37,
   "metadata": {},
   "outputs": [
    {
     "data": {
      "text/html": [
       "<div>\n",
       "<style scoped>\n",
       "    .dataframe tbody tr th:only-of-type {\n",
       "        vertical-align: middle;\n",
       "    }\n",
       "\n",
       "    .dataframe tbody tr th {\n",
       "        vertical-align: top;\n",
       "    }\n",
       "\n",
       "    .dataframe thead th {\n",
       "        text-align: right;\n",
       "    }\n",
       "</style>\n",
       "<table border=\"1\" class=\"dataframe\">\n",
       "  <thead>\n",
       "    <tr style=\"text-align: right;\">\n",
       "      <th></th>\n",
       "      <th>STT</th>\n",
       "      <th>ATT</th>\n",
       "      <th>LATE_TIME</th>\n",
       "      <th>DLY</th>\n",
       "    </tr>\n",
       "  </thead>\n",
       "  <tbody>\n",
       "    <tr>\n",
       "      <th>0</th>\n",
       "      <td>1005</td>\n",
       "      <td>1032</td>\n",
       "      <td>0.450000</td>\n",
       "      <td>N</td>\n",
       "    </tr>\n",
       "    <tr>\n",
       "      <th>1</th>\n",
       "      <td>0930</td>\n",
       "      <td>0931</td>\n",
       "      <td>0.016667</td>\n",
       "      <td>N</td>\n",
       "    </tr>\n",
       "    <tr>\n",
       "      <th>2</th>\n",
       "      <td>1245</td>\n",
       "      <td>1303</td>\n",
       "      <td>0.300000</td>\n",
       "      <td>N</td>\n",
       "    </tr>\n",
       "    <tr>\n",
       "      <th>3</th>\n",
       "      <td>1325</td>\n",
       "      <td>1409</td>\n",
       "      <td>0.733333</td>\n",
       "      <td>Y</td>\n",
       "    </tr>\n",
       "  </tbody>\n",
       "</table>\n",
       "</div>"
      ],
      "text/plain": [
       "    STT   ATT  LATE_TIME DLY\n",
       "0  1005  1032   0.450000   N\n",
       "1  0930  0931   0.016667   N\n",
       "2  1245  1303   0.300000   N\n",
       "3  1325  1409   0.733333   Y"
      ]
     },
     "execution_count": 37,
     "metadata": {},
     "output_type": "execute_result"
    }
   ],
   "source": [
    "data_afsnt.head(4)[['STT','ATT','LATE_TIME','DLY']]"
   ]
  },
  {
   "cell_type": "code",
   "execution_count": 38,
   "metadata": {},
   "outputs": [
    {
     "data": {
      "text/html": [
       "<div>\n",
       "<style scoped>\n",
       "    .dataframe tbody tr th:only-of-type {\n",
       "        vertical-align: middle;\n",
       "    }\n",
       "\n",
       "    .dataframe tbody tr th {\n",
       "        vertical-align: top;\n",
       "    }\n",
       "\n",
       "    .dataframe thead th {\n",
       "        text-align: right;\n",
       "    }\n",
       "</style>\n",
       "<table border=\"1\" class=\"dataframe\">\n",
       "  <thead>\n",
       "    <tr style=\"text-align: right;\">\n",
       "      <th></th>\n",
       "      <th></th>\n",
       "      <th></th>\n",
       "      <th></th>\n",
       "      <th>LATE_TIME</th>\n",
       "    </tr>\n",
       "    <tr>\n",
       "      <th>ARP</th>\n",
       "      <th>ODP</th>\n",
       "      <th>FLO</th>\n",
       "      <th>AOD</th>\n",
       "      <th></th>\n",
       "    </tr>\n",
       "  </thead>\n",
       "  <tbody>\n",
       "    <tr>\n",
       "      <th rowspan=\"3\" valign=\"top\">ARP1</th>\n",
       "      <th rowspan=\"3\" valign=\"top\">ARP1</th>\n",
       "      <th>A</th>\n",
       "      <th>D</th>\n",
       "      <td>-14.75</td>\n",
       "    </tr>\n",
       "    <tr>\n",
       "      <th rowspan=\"2\" valign=\"top\">I</th>\n",
       "      <th>A</th>\n",
       "      <td>0.35</td>\n",
       "    </tr>\n",
       "    <tr>\n",
       "      <th>D</th>\n",
       "      <td>0.35</td>\n",
       "    </tr>\n",
       "  </tbody>\n",
       "</table>\n",
       "</div>"
      ],
      "text/plain": [
       "                   LATE_TIME\n",
       "ARP  ODP  FLO AOD           \n",
       "ARP1 ARP1 A   D       -14.75\n",
       "          I   A         0.35\n",
       "              D         0.35"
      ]
     },
     "execution_count": 38,
     "metadata": {},
     "output_type": "execute_result"
    }
   ],
   "source": [
    "# 파생변수 \n",
    "# 두 공항간의 FLO별 평균 지연시간  FLO_LATE_TIME\n",
    "test_prepro = data_afsnt.sort_values(by=['SDT_YY','SDT_MM','SDT_DD','GROUP'])\n",
    "late_time = test_prepro.groupby(['ARP','ODP','FLO','AOD'])['LATE_TIME'].mean()\n",
    "late_time = pd.DataFrame(late_time)\n",
    "late_time_index =  [list(i) for i in late_time.index]  #튜플이라 리스트로 바꿔줌\n",
    "late_time.head(3)"
   ]
  },
  {
   "cell_type": "code",
   "execution_count": 39,
   "metadata": {},
   "outputs": [
    {
     "name": "stderr",
     "output_type": "stream",
     "text": [
      "C:\\Users\\user\\Anaconda3\\lib\\site-packages\\pandas\\core\\frame.py:4097: SettingWithCopyWarning: \n",
      "A value is trying to be set on a copy of a slice from a DataFrame\n",
      "\n",
      "See the caveats in the documentation: http://pandas.pydata.org/pandas-docs/stable/user_guide/indexing.html#returning-a-view-versus-a-copy\n",
      "  errors=errors,\n",
      "C:\\Users\\user\\Anaconda3\\lib\\site-packages\\ipykernel_launcher.py:10: SettingWithCopyWarning: \n",
      "A value is trying to be set on a copy of a slice from a DataFrame.\n",
      "Try using .loc[row_indexer,col_indexer] = value instead\n",
      "\n",
      "See the caveats in the documentation: http://pandas.pydata.org/pandas-docs/stable/user_guide/indexing.html#returning-a-view-versus-a-copy\n",
      "  # Remove the CWD from sys.path while we load stuff.\n",
      "C:\\Users\\user\\Anaconda3\\lib\\site-packages\\ipykernel_launcher.py:11: SettingWithCopyWarning: \n",
      "A value is trying to be set on a copy of a slice from a DataFrame.\n",
      "Try using .loc[row_indexer,col_indexer] = value instead\n",
      "\n",
      "See the caveats in the documentation: http://pandas.pydata.org/pandas-docs/stable/user_guide/indexing.html#returning-a-view-versus-a-copy\n",
      "  # This is added back by InteractiveShellApp.init_path()\n"
     ]
    }
   ],
   "source": [
    "# 파생변수\n",
    "# 두 공항간의 FLO별 예상비행시간  DISTANCE\n",
    "test_data_1 = data_sfsnt[:]\n",
    "test_data_1.head(3)\n",
    "for i in range(len(test_data_1)):\n",
    "    if test_data_1['STA'][i] == test_data_1['STD'][i]:\n",
    "        test_data_1.drop(i,axis=0,inplace = True)\n",
    "\n",
    "test_data_1.reset_index(drop=True)\n",
    "test_data_1['STA_HOUR'], test_data_1['STD_HOUR'] = test_data_1['STA_HOUR']*60, test_data_1['STD_HOUR']*60\n",
    "test_data_1['Time'] = test_data_1['STA_HOUR'] - test_data_1['STD_HOUR'] + test_data_1['STA_MINUTE'] - test_data_1['STD_MINUTE']\n",
    "distance_by_group = test_data_1.groupby(['FLO','GROUP'])['Time'].mean()\n",
    "distance_by_group = pd.DataFrame(distance_by_group)\n"
   ]
  },
  {
   "cell_type": "markdown",
   "metadata": {},
   "source": [
    "## FLO별 공항에서 공항까지 지연되는 평균시간(구해서 pickle에 넣어놨음)"
   ]
  },
  {
   "cell_type": "code",
   "execution_count": 40,
   "metadata": {},
   "outputs": [],
   "source": [
    "# 파생변수 \n",
    "# 두 공항간의 FLO별 평균 지연시간  FLO_LATE_TIME\n",
    "\n",
    "# late = data_afsnt[:]\n",
    "# def late_times():\n",
    "#     lis = []\n",
    "#     i = 0\n",
    "#     for a,b,c,d in zip(late['ARP'],late['ODP'],late['FLO'],late['AOD']):\n",
    "#         lis.append(late_time.loc[a,b,c,d][0])\n",
    "#         if i % 20000 == 0:\n",
    "#             print(i)\n",
    "#         i = i + 1\n",
    "#     return lis\n",
    "\n",
    "# late['FLO_TIME'] = late_times()"
   ]
  },
  {
   "cell_type": "markdown",
   "metadata": {},
   "source": [
    "##  FLO별 공항과 공항과의 예상비행시간(아직 못구함.....)"
   ]
  },
  {
   "cell_type": "code",
   "execution_count": 41,
   "metadata": {},
   "outputs": [
    {
     "name": "stdout",
     "output_type": "stream",
     "text": [
      "22\n",
      "A    100199\n",
      "J     87694\n",
      "H     70858\n",
      "F     63955\n",
      "I     53813\n",
      "L     50572\n",
      "B     19442\n",
      "Name: FLO, dtype: int64\n"
     ]
    },
    {
     "data": {
      "text/html": [
       "<div>\n",
       "<style scoped>\n",
       "    .dataframe tbody tr th:only-of-type {\n",
       "        vertical-align: middle;\n",
       "    }\n",
       "\n",
       "    .dataframe tbody tr th {\n",
       "        vertical-align: top;\n",
       "    }\n",
       "\n",
       "    .dataframe thead th {\n",
       "        text-align: right;\n",
       "    }\n",
       "</style>\n",
       "<table border=\"1\" class=\"dataframe\">\n",
       "  <thead>\n",
       "    <tr style=\"text-align: right;\">\n",
       "      <th></th>\n",
       "      <th></th>\n",
       "      <th>SDT_YY</th>\n",
       "      <th>SDT_MM</th>\n",
       "      <th>SDT_DD</th>\n",
       "      <th>SDT_DY</th>\n",
       "      <th>ARP</th>\n",
       "      <th>ODP</th>\n",
       "      <th>FLT</th>\n",
       "      <th>REG</th>\n",
       "      <th>IRR</th>\n",
       "      <th>STT</th>\n",
       "      <th>...</th>\n",
       "      <th>DLY</th>\n",
       "      <th>DRR</th>\n",
       "      <th>CNL</th>\n",
       "      <th>CNR</th>\n",
       "      <th>HOUR</th>\n",
       "      <th>MINUTE</th>\n",
       "      <th>GROUP</th>\n",
       "      <th>DISTANCE</th>\n",
       "      <th>DLY_NUM</th>\n",
       "      <th>LATE_TIME</th>\n",
       "    </tr>\n",
       "    <tr>\n",
       "      <th>FLO</th>\n",
       "      <th>AOD</th>\n",
       "      <th></th>\n",
       "      <th></th>\n",
       "      <th></th>\n",
       "      <th></th>\n",
       "      <th></th>\n",
       "      <th></th>\n",
       "      <th></th>\n",
       "      <th></th>\n",
       "      <th></th>\n",
       "      <th></th>\n",
       "      <th></th>\n",
       "      <th></th>\n",
       "      <th></th>\n",
       "      <th></th>\n",
       "      <th></th>\n",
       "      <th></th>\n",
       "      <th></th>\n",
       "      <th></th>\n",
       "      <th></th>\n",
       "      <th></th>\n",
       "      <th></th>\n",
       "    </tr>\n",
       "  </thead>\n",
       "  <tbody>\n",
       "    <tr>\n",
       "      <th rowspan=\"2\" valign=\"top\">A</th>\n",
       "      <th>A</th>\n",
       "      <td>50100</td>\n",
       "      <td>50100</td>\n",
       "      <td>50100</td>\n",
       "      <td>50100</td>\n",
       "      <td>50100</td>\n",
       "      <td>50100</td>\n",
       "      <td>50100</td>\n",
       "      <td>50100</td>\n",
       "      <td>50100</td>\n",
       "      <td>50100</td>\n",
       "      <td>...</td>\n",
       "      <td>50100</td>\n",
       "      <td>50100</td>\n",
       "      <td>50100</td>\n",
       "      <td>50100</td>\n",
       "      <td>50100</td>\n",
       "      <td>50100</td>\n",
       "      <td>50100</td>\n",
       "      <td>50100</td>\n",
       "      <td>50100</td>\n",
       "      <td>50100</td>\n",
       "    </tr>\n",
       "    <tr>\n",
       "      <th>D</th>\n",
       "      <td>50099</td>\n",
       "      <td>50099</td>\n",
       "      <td>50099</td>\n",
       "      <td>50099</td>\n",
       "      <td>50099</td>\n",
       "      <td>50099</td>\n",
       "      <td>50099</td>\n",
       "      <td>50099</td>\n",
       "      <td>50099</td>\n",
       "      <td>50099</td>\n",
       "      <td>...</td>\n",
       "      <td>50099</td>\n",
       "      <td>50099</td>\n",
       "      <td>50099</td>\n",
       "      <td>50099</td>\n",
       "      <td>50099</td>\n",
       "      <td>50099</td>\n",
       "      <td>50099</td>\n",
       "      <td>50099</td>\n",
       "      <td>50099</td>\n",
       "      <td>50099</td>\n",
       "    </tr>\n",
       "    <tr>\n",
       "      <th rowspan=\"2\" valign=\"top\">B</th>\n",
       "      <th>A</th>\n",
       "      <td>9721</td>\n",
       "      <td>9721</td>\n",
       "      <td>9721</td>\n",
       "      <td>9721</td>\n",
       "      <td>9721</td>\n",
       "      <td>9721</td>\n",
       "      <td>9721</td>\n",
       "      <td>9721</td>\n",
       "      <td>9721</td>\n",
       "      <td>9721</td>\n",
       "      <td>...</td>\n",
       "      <td>9721</td>\n",
       "      <td>9721</td>\n",
       "      <td>9721</td>\n",
       "      <td>9721</td>\n",
       "      <td>9721</td>\n",
       "      <td>9721</td>\n",
       "      <td>9721</td>\n",
       "      <td>9721</td>\n",
       "      <td>9721</td>\n",
       "      <td>9721</td>\n",
       "    </tr>\n",
       "    <tr>\n",
       "      <th>D</th>\n",
       "      <td>9721</td>\n",
       "      <td>9721</td>\n",
       "      <td>9721</td>\n",
       "      <td>9721</td>\n",
       "      <td>9721</td>\n",
       "      <td>9721</td>\n",
       "      <td>9721</td>\n",
       "      <td>9721</td>\n",
       "      <td>9721</td>\n",
       "      <td>9721</td>\n",
       "      <td>...</td>\n",
       "      <td>9721</td>\n",
       "      <td>9721</td>\n",
       "      <td>9721</td>\n",
       "      <td>9721</td>\n",
       "      <td>9721</td>\n",
       "      <td>9721</td>\n",
       "      <td>9721</td>\n",
       "      <td>9721</td>\n",
       "      <td>9721</td>\n",
       "      <td>9721</td>\n",
       "    </tr>\n",
       "    <tr>\n",
       "      <th rowspan=\"2\" valign=\"top\">F</th>\n",
       "      <th>A</th>\n",
       "      <td>31977</td>\n",
       "      <td>31977</td>\n",
       "      <td>31977</td>\n",
       "      <td>31977</td>\n",
       "      <td>31977</td>\n",
       "      <td>31977</td>\n",
       "      <td>31977</td>\n",
       "      <td>31977</td>\n",
       "      <td>31977</td>\n",
       "      <td>31977</td>\n",
       "      <td>...</td>\n",
       "      <td>31977</td>\n",
       "      <td>31977</td>\n",
       "      <td>31977</td>\n",
       "      <td>31977</td>\n",
       "      <td>31977</td>\n",
       "      <td>31977</td>\n",
       "      <td>31977</td>\n",
       "      <td>31977</td>\n",
       "      <td>31977</td>\n",
       "      <td>31977</td>\n",
       "    </tr>\n",
       "    <tr>\n",
       "      <th>D</th>\n",
       "      <td>31978</td>\n",
       "      <td>31978</td>\n",
       "      <td>31978</td>\n",
       "      <td>31978</td>\n",
       "      <td>31978</td>\n",
       "      <td>31978</td>\n",
       "      <td>31978</td>\n",
       "      <td>31978</td>\n",
       "      <td>31978</td>\n",
       "      <td>31978</td>\n",
       "      <td>...</td>\n",
       "      <td>31978</td>\n",
       "      <td>31978</td>\n",
       "      <td>31978</td>\n",
       "      <td>31978</td>\n",
       "      <td>31978</td>\n",
       "      <td>31978</td>\n",
       "      <td>31978</td>\n",
       "      <td>31978</td>\n",
       "      <td>31978</td>\n",
       "      <td>31978</td>\n",
       "    </tr>\n",
       "  </tbody>\n",
       "</table>\n",
       "<p>6 rows × 21 columns</p>\n",
       "</div>"
      ],
      "text/plain": [
       "         SDT_YY  SDT_MM  SDT_DD  SDT_DY    ARP    ODP    FLT    REG    IRR  \\\n",
       "FLO AOD                                                                      \n",
       "A   A     50100   50100   50100   50100  50100  50100  50100  50100  50100   \n",
       "    D     50099   50099   50099   50099  50099  50099  50099  50099  50099   \n",
       "B   A      9721    9721    9721    9721   9721   9721   9721   9721   9721   \n",
       "    D      9721    9721    9721    9721   9721   9721   9721   9721   9721   \n",
       "F   A     31977   31977   31977   31977  31977  31977  31977  31977  31977   \n",
       "    D     31978   31978   31978   31978  31978  31978  31978  31978  31978   \n",
       "\n",
       "           STT  ...    DLY    DRR    CNL    CNR   HOUR  MINUTE  GROUP  \\\n",
       "FLO AOD         ...                                                     \n",
       "A   A    50100  ...  50100  50100  50100  50100  50100   50100  50100   \n",
       "    D    50099  ...  50099  50099  50099  50099  50099   50099  50099   \n",
       "B   A     9721  ...   9721   9721   9721   9721   9721    9721   9721   \n",
       "    D     9721  ...   9721   9721   9721   9721   9721    9721   9721   \n",
       "F   A    31977  ...  31977  31977  31977  31977  31977   31977  31977   \n",
       "    D    31978  ...  31978  31978  31978  31978  31978   31978  31978   \n",
       "\n",
       "         DISTANCE  DLY_NUM  LATE_TIME  \n",
       "FLO AOD                                \n",
       "A   A       50100    50100      50100  \n",
       "    D       50099    50099      50099  \n",
       "B   A        9721     9721       9721  \n",
       "    D        9721     9721       9721  \n",
       "F   A       31977    31977      31977  \n",
       "    D       31978    31978      31978  \n",
       "\n",
       "[6 rows x 21 columns]"
      ]
     },
     "execution_count": 41,
     "metadata": {},
     "output_type": "execute_result"
    }
   ],
   "source": [
    "# 파생변수\n",
    "# 두 공항간의 FLO별 예상비행시간  DISTANCE\n",
    "\n",
    "unique = list(data_afsnt_dly['GROUP'].unique())\n",
    "print(len(unique))\n",
    "\n",
    "s = data_afsnt[data_afsnt['GROUP'] == unique[0]].sort_values(by=['SDT_YY','SDT_MM','SDT_DD','REG','STT'])\n",
    "s = pd.DataFrame(s)\n",
    "s = s.reset_index(drop = True)\n",
    "print(s['FLO'].value_counts())\n",
    "s.groupby(['FLO','AOD']).count().head(6)\n"
   ]
  },
  {
   "cell_type": "code",
   "execution_count": 42,
   "metadata": {
    "scrolled": true
   },
   "outputs": [],
   "source": [
    "test_data_2 = data_afsnt[:]"
   ]
  },
  {
   "cell_type": "code",
   "execution_count": 43,
   "metadata": {},
   "outputs": [],
   "source": [
    "# test_data_2 = test_data_2.replace('AARP1ARP3',70)\n",
    "# print(1)\n",
    "# test_data_2 = test_data_2.replace('JARP1ARP3',70)\n",
    "# print(2)\n",
    "# test_data_2 = test_data_2.replace('IARP1ARP3',70)\n",
    "# print(3)\n",
    "# test_data_2 = test_data_2.replace('HARP1ARP3',70)\n",
    "# print(4)\n",
    "# test_data_2 = test_data_2.replace('FARP1ARP3',65)\n",
    "# print(5)\n",
    "# test_data_2 = test_data_2.replace('LARP1ARP3',70)\n",
    "# print(6)\n",
    "# test_data_2 = test_data_2.replace('BARP1ARP3',70)\n",
    "# print(7)\n",
    "# test_data_2 = test_data_2.replace('LARP3ARP4',60)\n",
    "# print(8)\n",
    "# test_data_2 = test_data_2.replace('JARP3ARP4',62.5)\n",
    "# print(9)\n",
    "# test_data_2 = test_data_2.replace('AARP3ARP4',62.5)\n",
    "# print(10)\n",
    "# test_data_2 = test_data_2.replace('HARP3ARP4',67.5)\n",
    "# print(11)\n",
    "# test_data_2 = test_data_2.replace('BARP3ARP4',67.5)\n",
    "# print(12)"
   ]
  },
  {
   "cell_type": "markdown",
   "metadata": {},
   "source": [
    "##  FLO별 공항과 공항과의 실제비행시간의 평균"
   ]
  },
  {
   "cell_type": "code",
   "execution_count": null,
   "metadata": {},
   "outputs": [],
   "source": []
  },
  {
   "cell_type": "markdown",
   "metadata": {},
   "source": [
    "## pickle로 저장(오래걸려서)"
   ]
  },
  {
   "cell_type": "code",
   "execution_count": 44,
   "metadata": {},
   "outputs": [],
   "source": [
    "import pickle\n",
    "# with open('late.pkl', 'wb') as fout:\n",
    "#      pickle.dump(late, fout)\n",
    "with open('late.pkl', 'rb') as fin:\n",
    "    late = []\n",
    "    late = pickle.load(fin)\n"
   ]
  },
  {
   "cell_type": "code",
   "execution_count": 45,
   "metadata": {},
   "outputs": [
    {
     "data": {
      "text/html": [
       "<div>\n",
       "<style scoped>\n",
       "    .dataframe tbody tr th:only-of-type {\n",
       "        vertical-align: middle;\n",
       "    }\n",
       "\n",
       "    .dataframe tbody tr th {\n",
       "        vertical-align: top;\n",
       "    }\n",
       "\n",
       "    .dataframe thead th {\n",
       "        text-align: right;\n",
       "    }\n",
       "</style>\n",
       "<table border=\"1\" class=\"dataframe\">\n",
       "  <thead>\n",
       "    <tr style=\"text-align: right;\">\n",
       "      <th></th>\n",
       "      <th>SDT_YY</th>\n",
       "      <th>SDT_MM</th>\n",
       "      <th>SDT_DD</th>\n",
       "      <th>SDT_DY</th>\n",
       "      <th>ARP</th>\n",
       "      <th>ODP</th>\n",
       "      <th>FLO</th>\n",
       "      <th>FLT</th>\n",
       "      <th>REG</th>\n",
       "      <th>AOD</th>\n",
       "      <th>...</th>\n",
       "      <th>DRR</th>\n",
       "      <th>CNL</th>\n",
       "      <th>CNR</th>\n",
       "      <th>HOUR</th>\n",
       "      <th>MINUTE</th>\n",
       "      <th>GROUP</th>\n",
       "      <th>DISTANCE</th>\n",
       "      <th>DLY_NUM</th>\n",
       "      <th>LATE_TIME</th>\n",
       "      <th>FLO_LATE_TIME</th>\n",
       "    </tr>\n",
       "  </thead>\n",
       "  <tbody>\n",
       "    <tr>\n",
       "      <th>0</th>\n",
       "      <td>2017</td>\n",
       "      <td>1</td>\n",
       "      <td>1</td>\n",
       "      <td>일</td>\n",
       "      <td>ARP3</td>\n",
       "      <td>ARP6</td>\n",
       "      <td>J</td>\n",
       "      <td>J1955</td>\n",
       "      <td>SEw3NzE4</td>\n",
       "      <td>D</td>\n",
       "      <td>...</td>\n",
       "      <td>blank</td>\n",
       "      <td>N</td>\n",
       "      <td>blank</td>\n",
       "      <td>10</td>\n",
       "      <td>5</td>\n",
       "      <td>ARP3ARP6</td>\n",
       "      <td>JARP3ARP6</td>\n",
       "      <td>0</td>\n",
       "      <td>0.450000</td>\n",
       "      <td>0.364749</td>\n",
       "    </tr>\n",
       "    <tr>\n",
       "      <th>1</th>\n",
       "      <td>2017</td>\n",
       "      <td>1</td>\n",
       "      <td>1</td>\n",
       "      <td>일</td>\n",
       "      <td>ARP3</td>\n",
       "      <td>ARP6</td>\n",
       "      <td>J</td>\n",
       "      <td>J1954</td>\n",
       "      <td>SEw3NzE4</td>\n",
       "      <td>A</td>\n",
       "      <td>...</td>\n",
       "      <td>blank</td>\n",
       "      <td>N</td>\n",
       "      <td>blank</td>\n",
       "      <td>9</td>\n",
       "      <td>30</td>\n",
       "      <td>ARP3ARP6</td>\n",
       "      <td>JARP3ARP6</td>\n",
       "      <td>0</td>\n",
       "      <td>0.016667</td>\n",
       "      <td>0.030233</td>\n",
       "    </tr>\n",
       "    <tr>\n",
       "      <th>2</th>\n",
       "      <td>2017</td>\n",
       "      <td>1</td>\n",
       "      <td>1</td>\n",
       "      <td>일</td>\n",
       "      <td>ARP3</td>\n",
       "      <td>ARP6</td>\n",
       "      <td>J</td>\n",
       "      <td>J1956</td>\n",
       "      <td>SEw3NzE4</td>\n",
       "      <td>A</td>\n",
       "      <td>...</td>\n",
       "      <td>blank</td>\n",
       "      <td>N</td>\n",
       "      <td>blank</td>\n",
       "      <td>12</td>\n",
       "      <td>45</td>\n",
       "      <td>ARP3ARP6</td>\n",
       "      <td>JARP3ARP6</td>\n",
       "      <td>0</td>\n",
       "      <td>0.300000</td>\n",
       "      <td>0.030233</td>\n",
       "    </tr>\n",
       "  </tbody>\n",
       "</table>\n",
       "<p>3 rows × 24 columns</p>\n",
       "</div>"
      ],
      "text/plain": [
       "   SDT_YY  SDT_MM  SDT_DD SDT_DY   ARP   ODP FLO    FLT       REG AOD  ...  \\\n",
       "0    2017       1       1      일  ARP3  ARP6   J  J1955  SEw3NzE4   D  ...   \n",
       "1    2017       1       1      일  ARP3  ARP6   J  J1954  SEw3NzE4   A  ...   \n",
       "2    2017       1       1      일  ARP3  ARP6   J  J1956  SEw3NzE4   A  ...   \n",
       "\n",
       "     DRR CNL    CNR HOUR MINUTE     GROUP   DISTANCE  DLY_NUM  LATE_TIME  \\\n",
       "0  blank   N  blank   10      5  ARP3ARP6  JARP3ARP6        0   0.450000   \n",
       "1  blank   N  blank    9     30  ARP3ARP6  JARP3ARP6        0   0.016667   \n",
       "2  blank   N  blank   12     45  ARP3ARP6  JARP3ARP6        0   0.300000   \n",
       "\n",
       "  FLO_LATE_TIME  \n",
       "0      0.364749  \n",
       "1      0.030233  \n",
       "2      0.030233  \n",
       "\n",
       "[3 rows x 24 columns]"
      ]
     },
     "execution_count": 45,
     "metadata": {},
     "output_type": "execute_result"
    }
   ],
   "source": [
    "data_afsnt['FLO_LATE_TIME'] = late['FLO_TIME']\n",
    "del(late)\n",
    "data_afsnt.head(3)\n"
   ]
  },
  {
   "cell_type": "code",
   "execution_count": 46,
   "metadata": {},
   "outputs": [
    {
     "data": {
      "text/html": [
       "<div>\n",
       "<style scoped>\n",
       "    .dataframe tbody tr th:only-of-type {\n",
       "        vertical-align: middle;\n",
       "    }\n",
       "\n",
       "    .dataframe tbody tr th {\n",
       "        vertical-align: top;\n",
       "    }\n",
       "\n",
       "    .dataframe thead th {\n",
       "        text-align: right;\n",
       "    }\n",
       "</style>\n",
       "<table border=\"1\" class=\"dataframe\">\n",
       "  <thead>\n",
       "    <tr style=\"text-align: right;\">\n",
       "      <th></th>\n",
       "      <th>SDT_YY</th>\n",
       "      <th>SDT_MM</th>\n",
       "      <th>SDT_DD</th>\n",
       "      <th>GROUP</th>\n",
       "      <th>FLT</th>\n",
       "      <th>AOD</th>\n",
       "      <th>HOUR</th>\n",
       "      <th>MINUTE</th>\n",
       "      <th>FLO_LATE_TIME</th>\n",
       "    </tr>\n",
       "  </thead>\n",
       "  <tbody>\n",
       "    <tr>\n",
       "      <th>200345</th>\n",
       "      <td>2017</td>\n",
       "      <td>1</td>\n",
       "      <td>1</td>\n",
       "      <td>ARP2ARP3</td>\n",
       "      <td>A1001</td>\n",
       "      <td>D</td>\n",
       "      <td>8</td>\n",
       "      <td>30</td>\n",
       "      <td>0.247377</td>\n",
       "    </tr>\n",
       "    <tr>\n",
       "      <th>200453</th>\n",
       "      <td>2017</td>\n",
       "      <td>1</td>\n",
       "      <td>1</td>\n",
       "      <td>ARP2ARP3</td>\n",
       "      <td>A1001</td>\n",
       "      <td>A</td>\n",
       "      <td>9</td>\n",
       "      <td>20</td>\n",
       "      <td>0.067833</td>\n",
       "    </tr>\n",
       "    <tr>\n",
       "      <th>200273</th>\n",
       "      <td>2017</td>\n",
       "      <td>1</td>\n",
       "      <td>1</td>\n",
       "      <td>ARP2ARP3</td>\n",
       "      <td>A1003</td>\n",
       "      <td>D</td>\n",
       "      <td>15</td>\n",
       "      <td>5</td>\n",
       "      <td>0.247377</td>\n",
       "    </tr>\n",
       "  </tbody>\n",
       "</table>\n",
       "</div>"
      ],
      "text/plain": [
       "        SDT_YY  SDT_MM  SDT_DD     GROUP    FLT AOD  HOUR  MINUTE  \\\n",
       "200345    2017       1       1  ARP2ARP3  A1001   D     8      30   \n",
       "200453    2017       1       1  ARP2ARP3  A1001   A     9      20   \n",
       "200273    2017       1       1  ARP2ARP3  A1003   D    15       5   \n",
       "\n",
       "        FLO_LATE_TIME  \n",
       "200345       0.247377  \n",
       "200453       0.067833  \n",
       "200273       0.247377  "
      ]
     },
     "execution_count": 46,
     "metadata": {},
     "output_type": "execute_result"
    }
   ],
   "source": [
    "temp_data = data_afsnt.sort_values(by=['SDT_YY','SDT_MM','SDT_DD','FLT'])\n",
    "temp_data.groupby(['GROUP','FLT','AOD'])['HOUR','MINUTE'].count()\n",
    "test_temp = temp_data[['SDT_YY','SDT_MM','SDT_DD','GROUP','FLT','AOD','HOUR','MINUTE','FLO_LATE_TIME']]\n",
    "test_temp.head(3)"
   ]
  },
  {
   "cell_type": "code",
   "execution_count": null,
   "metadata": {},
   "outputs": [],
   "source": []
  },
  {
   "cell_type": "code",
   "execution_count": 47,
   "metadata": {},
   "outputs": [],
   "source": [
    "# asdf = test_temp.groupby(['SDT_YY','SDT_MM','SDT_DD','GROUP','FLT','AOD'])['HOUR','MINUTE'].sum()\n",
    "# ind = asdf.index\n",
    "# ind = ind.tolist()\n",
    "# ind_all = list(ind)\n",
    "# print(ind_all[0])\n",
    "# inds = [k[0:5] for k in ind ]\n",
    "# inds = list(inds)\n",
    "# print(inds[0])\n",
    "# # print([inds[0][0],inds[0][1],inds[0][2],inds[0][3],inds[0][4],'A'])\n",
    "# result = []\n",
    "# result = [asdf.loc[inda[0],inda[1],inda[2],inda[3],inda[4],'A'] - asdf.loc[inda[0],inda[1],inda[2],inda[3],inda[4],'D'] if (((inda[0],inda[1],inda[2],inda[3],inda[4],'A') in ind_all) and ((inda[0],inda[1],inda[2],inda[3],inda[4],'D') in ind_all)) else 0  for inda in inds]\n",
    "\n",
    "# asdf[[inds.append('A')]\n",
    "# result = [num * 3 for num in a if num % 2 == 0]\n",
    "# test_temp['DISTANCE'] = [asdf[ind_text,'D']['HOUR']-asdf[ind_text,'A']['HOUR']for ind_text in ind ]\n",
    "# test_temp[test_temp['GROUP']==ind[0][3]]['DISTANCE'] = "
   ]
  },
  {
   "cell_type": "code",
   "execution_count": 48,
   "metadata": {},
   "outputs": [],
   "source": [
    "# 모델적합 (시간, 날씨, 자기상관, 고려 안함) ARP, FLT, REG, AOD, IRR, DLY, DRR, CNL, CNR, FLY_TiME\n",
    "# 가능하면 scale 해주고 적합해보자\n",
    "# outlier도 제거해보자\n",
    "# flt에서 출발공항과 도착공항이 같은 것을 그룹핑한다.\n",
    "\n",
    "\n"
   ]
  },
  {
   "cell_type": "code",
   "execution_count": 49,
   "metadata": {},
   "outputs": [
    {
     "name": "stderr",
     "output_type": "stream",
     "text": [
      "C:\\Users\\user\\Anaconda3\\lib\\site-packages\\ipykernel_launcher.py:26: SettingWithCopyWarning: \n",
      "A value is trying to be set on a copy of a slice from a DataFrame.\n",
      "Try using .loc[row_indexer,col_indexer] = value instead\n",
      "\n",
      "See the caveats in the documentation: http://pandas.pydata.org/pandas-docs/stable/user_guide/indexing.html#returning-a-view-versus-a-copy\n"
     ]
    }
   ],
   "source": [
    "# 시간 그룹핑\n",
    "temp = data_afsnt[data_afsnt['IRR'] == 'N']\n",
    "def group_time(hour):\n",
    "    if hour in [1,2,3,4]:\n",
    "        hour = 2.5\n",
    "    elif hour == 5:\n",
    "        hour = 5\n",
    "    elif hour in [6,7]:\n",
    "        hour = 6.5\n",
    "    elif hour in [8,9]:\n",
    "        hour = 8.5\n",
    "    elif hour in [10,11,12]:\n",
    "        hour = 11\n",
    "    elif hour in [13,14,15]:\n",
    "        hour = 14\n",
    "    elif hour in [16,17,18]:\n",
    "        hour = 17\n",
    "    elif hour in [19,20,21]:\n",
    "        hour = 20\n",
    "    elif hour == 22:\n",
    "        hour = 22\n",
    "    else:\n",
    "        hour = 23\n",
    "    return hour\n",
    "\n",
    "temp['HOUR'] = temp['HOUR'].apply(lambda x : group_time(x))\n"
   ]
  },
  {
   "cell_type": "code",
   "execution_count": null,
   "metadata": {},
   "outputs": [],
   "source": []
  },
  {
   "cell_type": "code",
   "execution_count": 71,
   "metadata": {},
   "outputs": [
    {
     "data": {
      "text/html": [
       "<div>\n",
       "<style scoped>\n",
       "    .dataframe tbody tr th:only-of-type {\n",
       "        vertical-align: middle;\n",
       "    }\n",
       "\n",
       "    .dataframe tbody tr th {\n",
       "        vertical-align: top;\n",
       "    }\n",
       "\n",
       "    .dataframe thead th {\n",
       "        text-align: right;\n",
       "    }\n",
       "</style>\n",
       "<table border=\"1\" class=\"dataframe\">\n",
       "  <thead>\n",
       "    <tr style=\"text-align: right;\">\n",
       "      <th></th>\n",
       "      <th>SDT_DD</th>\n",
       "      <th>ARP</th>\n",
       "      <th>ODP</th>\n",
       "      <th>FLO</th>\n",
       "      <th>AOD</th>\n",
       "      <th>DLY</th>\n",
       "      <th>HOUR</th>\n",
       "      <th>FLO_LATE_TIME</th>\n",
       "    </tr>\n",
       "  </thead>\n",
       "  <tbody>\n",
       "    <tr>\n",
       "      <th>0</th>\n",
       "      <td>1</td>\n",
       "      <td>ARP3</td>\n",
       "      <td>ARP6</td>\n",
       "      <td>J</td>\n",
       "      <td>D</td>\n",
       "      <td>N</td>\n",
       "      <td>11.0</td>\n",
       "      <td>0.364749</td>\n",
       "    </tr>\n",
       "    <tr>\n",
       "      <th>1</th>\n",
       "      <td>1</td>\n",
       "      <td>ARP3</td>\n",
       "      <td>ARP6</td>\n",
       "      <td>J</td>\n",
       "      <td>A</td>\n",
       "      <td>N</td>\n",
       "      <td>8.5</td>\n",
       "      <td>0.030233</td>\n",
       "    </tr>\n",
       "    <tr>\n",
       "      <th>2</th>\n",
       "      <td>1</td>\n",
       "      <td>ARP3</td>\n",
       "      <td>ARP6</td>\n",
       "      <td>J</td>\n",
       "      <td>A</td>\n",
       "      <td>N</td>\n",
       "      <td>11.0</td>\n",
       "      <td>0.030233</td>\n",
       "    </tr>\n",
       "  </tbody>\n",
       "</table>\n",
       "</div>"
      ],
      "text/plain": [
       "   SDT_DD   ARP   ODP FLO AOD DLY  HOUR  FLO_LATE_TIME\n",
       "0       1  ARP3  ARP6   J   D   N  11.0       0.364749\n",
       "1       1  ARP3  ARP6   J   A   N   8.5       0.030233\n",
       "2       1  ARP3  ARP6   J   A   N  11.0       0.030233"
      ]
     },
     "execution_count": 71,
     "metadata": {},
     "output_type": "execute_result"
    }
   ],
   "source": [
    "\n",
    "def drop_features(df):\n",
    "    temps = df.drop(['DISTANCE','SDT_YY','SDT_DY','REG','MINUTE','GROUP','FLT','IRR','SDT_MM','STT','ATT','DRR','DLY_NUM','LATE_TIME','CNL','CNR'],axis = 1, inplace = False)\n",
    "    return temps\n",
    "temps = drop_features(temp)\n",
    "temps.head(3)"
   ]
  },
  {
   "cell_type": "code",
   "execution_count": 51,
   "metadata": {},
   "outputs": [],
   "source": [
    "# flo_late_time 스케일링(robust scale)\n",
    "\n",
    "# from sklearn.preprocessing import RobustScaler\n",
    "# robustScaler = RobustScaler()\n",
    "# robustScaler.fit(pd.DataFrame(temps['FLO_LATE_TIME']))\n",
    "# temps['FLO_LATE_TIME'] = robustScaler.transform(pd.DataFrame(temps['FLO_LATE_TIME']))\n"
   ]
  },
  {
   "cell_type": "code",
   "execution_count": 72,
   "metadata": {},
   "outputs": [
    {
     "data": {
      "text/html": [
       "<div>\n",
       "<style scoped>\n",
       "    .dataframe tbody tr th:only-of-type {\n",
       "        vertical-align: middle;\n",
       "    }\n",
       "\n",
       "    .dataframe tbody tr th {\n",
       "        vertical-align: top;\n",
       "    }\n",
       "\n",
       "    .dataframe thead th {\n",
       "        text-align: right;\n",
       "    }\n",
       "</style>\n",
       "<table border=\"1\" class=\"dataframe\">\n",
       "  <thead>\n",
       "    <tr style=\"text-align: right;\">\n",
       "      <th></th>\n",
       "      <th>SDT_DD</th>\n",
       "      <th>ARP</th>\n",
       "      <th>ODP</th>\n",
       "      <th>FLO</th>\n",
       "      <th>AOD</th>\n",
       "      <th>DLY</th>\n",
       "      <th>HOUR</th>\n",
       "      <th>FLO_LATE_TIME</th>\n",
       "    </tr>\n",
       "  </thead>\n",
       "  <tbody>\n",
       "    <tr>\n",
       "      <th>0</th>\n",
       "      <td>0</td>\n",
       "      <td>7</td>\n",
       "      <td>10</td>\n",
       "      <td>5</td>\n",
       "      <td>1</td>\n",
       "      <td>0</td>\n",
       "      <td>11.0</td>\n",
       "      <td>0.364749</td>\n",
       "    </tr>\n",
       "    <tr>\n",
       "      <th>1</th>\n",
       "      <td>0</td>\n",
       "      <td>7</td>\n",
       "      <td>10</td>\n",
       "      <td>5</td>\n",
       "      <td>0</td>\n",
       "      <td>0</td>\n",
       "      <td>8.5</td>\n",
       "      <td>0.030233</td>\n",
       "    </tr>\n",
       "    <tr>\n",
       "      <th>2</th>\n",
       "      <td>0</td>\n",
       "      <td>7</td>\n",
       "      <td>10</td>\n",
       "      <td>5</td>\n",
       "      <td>0</td>\n",
       "      <td>0</td>\n",
       "      <td>11.0</td>\n",
       "      <td>0.030233</td>\n",
       "    </tr>\n",
       "  </tbody>\n",
       "</table>\n",
       "</div>"
      ],
      "text/plain": [
       "   SDT_DD  ARP  ODP  FLO  AOD  DLY  HOUR  FLO_LATE_TIME\n",
       "0       0    7   10    5    1    0  11.0       0.364749\n",
       "1       0    7   10    5    0    0   8.5       0.030233\n",
       "2       0    7   10    5    0    0  11.0       0.030233"
      ]
     },
     "execution_count": 72,
     "metadata": {},
     "output_type": "execute_result"
    }
   ],
   "source": [
    "def encode_features(dataDF):\n",
    "    features = ['SDT_DD','ARP','FLO','AOD','DLY','ODP']\n",
    "    for feature in features:\n",
    "        le = preprocessing.LabelEncoder()\n",
    "        le = le.fit(dataDF[feature])\n",
    "        dataDF[feature] = le.transform(dataDF[feature])\n",
    "    return dataDF\n",
    "\n",
    "temps = encode_features(temps)\n",
    "temps.head(3)"
   ]
  },
  {
   "cell_type": "code",
   "execution_count": 73,
   "metadata": {},
   "outputs": [],
   "source": [
    "# test train 데이터 나누기 838468\n",
    "y = temps['DLY']\n",
    "x = temps.drop('DLY',axis = 1)\n",
    "X_train = x[:838468]\n",
    "X_test = x[838468:]\n",
    "y_train = y[:838468]\n",
    "y_test = y[838468:]"
   ]
  },
  {
   "cell_type": "code",
   "execution_count": 74,
   "metadata": {},
   "outputs": [
    {
     "data": {
      "text/html": [
       "<div>\n",
       "<style scoped>\n",
       "    .dataframe tbody tr th:only-of-type {\n",
       "        vertical-align: middle;\n",
       "    }\n",
       "\n",
       "    .dataframe tbody tr th {\n",
       "        vertical-align: top;\n",
       "    }\n",
       "\n",
       "    .dataframe thead th {\n",
       "        text-align: right;\n",
       "    }\n",
       "</style>\n",
       "<table border=\"1\" class=\"dataframe\">\n",
       "  <thead>\n",
       "    <tr style=\"text-align: right;\">\n",
       "      <th></th>\n",
       "      <th>SDT_YY</th>\n",
       "      <th>SDT_MM</th>\n",
       "      <th>SDT_DD</th>\n",
       "      <th>SDT_DY</th>\n",
       "      <th>ARP</th>\n",
       "      <th>ODP</th>\n",
       "      <th>FLO</th>\n",
       "      <th>FLT</th>\n",
       "      <th>REG</th>\n",
       "      <th>AOD</th>\n",
       "      <th>...</th>\n",
       "      <th>DRR</th>\n",
       "      <th>CNL</th>\n",
       "      <th>CNR</th>\n",
       "      <th>HOUR</th>\n",
       "      <th>MINUTE</th>\n",
       "      <th>GROUP</th>\n",
       "      <th>DISTANCE</th>\n",
       "      <th>DLY_NUM</th>\n",
       "      <th>LATE_TIME</th>\n",
       "      <th>FLO_LATE_TIME</th>\n",
       "    </tr>\n",
       "  </thead>\n",
       "  <tbody>\n",
       "    <tr>\n",
       "      <th>0</th>\n",
       "      <td>2017</td>\n",
       "      <td>1</td>\n",
       "      <td>1</td>\n",
       "      <td>일</td>\n",
       "      <td>ARP3</td>\n",
       "      <td>ARP6</td>\n",
       "      <td>J</td>\n",
       "      <td>J1955</td>\n",
       "      <td>SEw3NzE4</td>\n",
       "      <td>D</td>\n",
       "      <td>...</td>\n",
       "      <td>blank</td>\n",
       "      <td>N</td>\n",
       "      <td>blank</td>\n",
       "      <td>10</td>\n",
       "      <td>5</td>\n",
       "      <td>ARP3ARP6</td>\n",
       "      <td>JARP3ARP6</td>\n",
       "      <td>0</td>\n",
       "      <td>0.450000</td>\n",
       "      <td>0.364749</td>\n",
       "    </tr>\n",
       "    <tr>\n",
       "      <th>1</th>\n",
       "      <td>2017</td>\n",
       "      <td>1</td>\n",
       "      <td>1</td>\n",
       "      <td>일</td>\n",
       "      <td>ARP3</td>\n",
       "      <td>ARP6</td>\n",
       "      <td>J</td>\n",
       "      <td>J1954</td>\n",
       "      <td>SEw3NzE4</td>\n",
       "      <td>A</td>\n",
       "      <td>...</td>\n",
       "      <td>blank</td>\n",
       "      <td>N</td>\n",
       "      <td>blank</td>\n",
       "      <td>9</td>\n",
       "      <td>30</td>\n",
       "      <td>ARP3ARP6</td>\n",
       "      <td>JARP3ARP6</td>\n",
       "      <td>0</td>\n",
       "      <td>0.016667</td>\n",
       "      <td>0.030233</td>\n",
       "    </tr>\n",
       "    <tr>\n",
       "      <th>2</th>\n",
       "      <td>2017</td>\n",
       "      <td>1</td>\n",
       "      <td>1</td>\n",
       "      <td>일</td>\n",
       "      <td>ARP3</td>\n",
       "      <td>ARP6</td>\n",
       "      <td>J</td>\n",
       "      <td>J1956</td>\n",
       "      <td>SEw3NzE4</td>\n",
       "      <td>A</td>\n",
       "      <td>...</td>\n",
       "      <td>blank</td>\n",
       "      <td>N</td>\n",
       "      <td>blank</td>\n",
       "      <td>12</td>\n",
       "      <td>45</td>\n",
       "      <td>ARP3ARP6</td>\n",
       "      <td>JARP3ARP6</td>\n",
       "      <td>0</td>\n",
       "      <td>0.300000</td>\n",
       "      <td>0.030233</td>\n",
       "    </tr>\n",
       "  </tbody>\n",
       "</table>\n",
       "<p>3 rows × 24 columns</p>\n",
       "</div>"
      ],
      "text/plain": [
       "   SDT_YY  SDT_MM  SDT_DD SDT_DY   ARP   ODP FLO    FLT       REG AOD  ...  \\\n",
       "0    2017       1       1      일  ARP3  ARP6   J  J1955  SEw3NzE4   D  ...   \n",
       "1    2017       1       1      일  ARP3  ARP6   J  J1954  SEw3NzE4   A  ...   \n",
       "2    2017       1       1      일  ARP3  ARP6   J  J1956  SEw3NzE4   A  ...   \n",
       "\n",
       "     DRR CNL    CNR HOUR MINUTE     GROUP   DISTANCE  DLY_NUM  LATE_TIME  \\\n",
       "0  blank   N  blank   10      5  ARP3ARP6  JARP3ARP6        0   0.450000   \n",
       "1  blank   N  blank    9     30  ARP3ARP6  JARP3ARP6        0   0.016667   \n",
       "2  blank   N  blank   12     45  ARP3ARP6  JARP3ARP6        0   0.300000   \n",
       "\n",
       "  FLO_LATE_TIME  \n",
       "0      0.364749  \n",
       "1      0.030233  \n",
       "2      0.030233  \n",
       "\n",
       "[3 rows x 24 columns]"
      ]
     },
     "execution_count": 74,
     "metadata": {},
     "output_type": "execute_result"
    }
   ],
   "source": [
    "data_afsnt.head(3)"
   ]
  },
  {
   "cell_type": "code",
   "execution_count": 84,
   "metadata": {},
   "outputs": [],
   "source": [
    "# X_train, X_test, y_train, y_test = train_test_split(x,y,test_size = 0.2)"
   ]
  },
  {
   "cell_type": "code",
   "execution_count": 85,
   "metadata": {},
   "outputs": [
    {
     "name": "stdout",
     "output_type": "stream",
     "text": [
      "(772867, 7) (772867,)\n",
      "(1360270, 7) (1360270,)\n",
      "1    680135\n",
      "0    680135\n",
      "dtype: int64\n"
     ]
    }
   ],
   "source": [
    "# over_sampling\n",
    "from imblearn.over_sampling import SMOTE\n",
    "smote = SMOTE()\n",
    "X_train_over, y_train_over = smote.fit_sample(X_train,y_train)\n",
    "print(X_train.shape,y_train.shape)\n",
    "print(X_train_over.shape,y_train_over.shape)\n",
    "print(pd.Series(y_train_over).value_counts())"
   ]
  },
  {
   "cell_type": "code",
   "execution_count": 86,
   "metadata": {},
   "outputs": [
    {
     "name": "stdout",
     "output_type": "stream",
     "text": [
      "DecisionTree1 정확도:  0.8800002070211214\n",
      "DecisionTree2 정확도:  0.6910572051113515\n"
     ]
    },
    {
     "name": "stderr",
     "output_type": "stream",
     "text": [
      "C:\\Users\\user\\Anaconda3\\lib\\site-packages\\sklearn\\ensemble\\forest.py:245: FutureWarning: The default value of n_estimators will change from 10 in version 0.20 to 100 in 0.22.\n",
      "  \"10 in version 0.20 to 100 in 0.22.\", FutureWarning)\n"
     ]
    },
    {
     "name": "stdout",
     "output_type": "stream",
     "text": [
      "RandomForest 정확도:  0.6883762815901292\n"
     ]
    },
    {
     "name": "stderr",
     "output_type": "stream",
     "text": [
      "C:\\Users\\user\\Anaconda3\\lib\\site-packages\\sklearn\\linear_model\\logistic.py:432: FutureWarning: Default solver will be changed to 'lbfgs' in 0.22. Specify a solver to silence this warning.\n",
      "  FutureWarning)\n"
     ]
    },
    {
     "name": "stdout",
     "output_type": "stream",
     "text": [
      "Logist 정확도:  0.6349803588711138\n"
     ]
    }
   ],
   "source": [
    "from sklearn.tree import DecisionTreeClassifier\n",
    "from sklearn.ensemble import RandomForestClassifier\n",
    "from sklearn.linear_model import LogisticRegression\n",
    "from sklearn.metrics import accuracy_score\n",
    "from sklearn.metrics import mean_squared_error\n",
    "\n",
    "\n",
    "# 결정트리, random forest, 로지스틱 회귀\n",
    "dt_clf = DecisionTreeClassifier()\n",
    "rf_clf = RandomForestClassifier()\n",
    "lr_clf = LogisticRegression()\n",
    "\n",
    "#DecisionTreeClassifier 학습/예측/평가\n",
    "dt_clf.fit(X_train,y_train)\n",
    "dt_pred1 = dt_clf.predict(X_test)\n",
    "print('DecisionTree1 정확도: ', accuracy_score(y_test,dt_pred1))\n",
    "\n",
    "dt_clf.fit(X_train_over,y_train_over)\n",
    "dt_pred2 = dt_clf.predict(X_test)\n",
    "print('DecisionTree2 정확도: ', accuracy_score(y_test,dt_pred2))\n",
    "\n",
    "#RandomForestClassifier 학습/예측/평가\n",
    "rf_clf.fit(X_train_over,y_train_over)\n",
    "rf_pred = rf_clf.predict(X_test)\n",
    "print('RandomForest 정확도: ', accuracy_score(y_test,rf_pred))\n",
    "\n",
    "#LogisticRegression 학습/예측/평가\n",
    "lr_clf.fit(X_train_over,y_train_over)\n",
    "lr_pred= lr_clf.predict(X_test)\n",
    "print('Logist 정확도: ', accuracy_score(y_test,lr_pred))\n"
   ]
  },
  {
   "cell_type": "code",
   "execution_count": null,
   "metadata": {},
   "outputs": [],
   "source": [
    "# xgboost 적합\n",
    "import xgboost as xgb\n",
    "from xgboost import plot_importance\n",
    "import warnings\n",
    "warnings.filterwarnings('ignore')\n",
    "\n",
    "\n",
    "dtrain = xgb.DMatrix(data=X_train, label=y_train)\n",
    "dtest = xgb.DMatrix(data=X_test, label=y_test)"
   ]
  },
  {
   "cell_type": "code",
   "execution_count": null,
   "metadata": {},
   "outputs": [],
   "source": [
    "params = {\n",
    "    'max_depth':3,\n",
    "    'eta':0.1,\n",
    "    'objective':'binary:logistic',\n",
    "    'eval_metric':'logloss',\n",
    "    'early_stoppings':100\n",
    "}\n",
    "num_rounds = 350\n",
    "\n",
    "wlist = [(dtrain,'train'),(dtest,'eval')]\n",
    "xgb_model = xgb.train(params = params, dtrain=dtrain, num_boost_round = num_rounds, evals = wlist)"
   ]
  },
  {
   "cell_type": "code",
   "execution_count": null,
   "metadata": {},
   "outputs": [],
   "source": [
    "pred_probs = xgb_model.predict(dtest)\n",
    "print(np.round(pred_probs[:10],3))\n",
    "\n",
    "preds_xg = [1 if x>0.5 else 0 for x in pred_probs]\n",
    "print(preds_xg[5:15])\n",
    "\n"
   ]
  },
  {
   "cell_type": "code",
   "execution_count": null,
   "metadata": {},
   "outputs": [],
   "source": [
    "from xgboost import plot_importance\n",
    "import matplotlib.pyplot as plt\n",
    "%matplotlib inline\n",
    "\n",
    "fig, ax = plt.subplots(figsize=(10,12))\n",
    "plot_importance(xgb_model, ax = ax)"
   ]
  },
  {
   "cell_type": "code",
   "execution_count": 87,
   "metadata": {},
   "outputs": [
    {
     "name": "stdout",
     "output_type": "stream",
     "text": [
      "decision_tree:\n",
      " [[169777    453]\n",
      " [ 22733    254]]\n",
      "decision_tree:\n",
      " [[119725  50505]\n",
      " [  9188  13799]]\n",
      "random_forest:\n",
      " [[119087  51143]\n",
      " [  9068  13919]]\n",
      "logistic:\n",
      " [[107245  62985]\n",
      " [  7543  15444]]\n"
     ]
    }
   ],
   "source": [
    "# 오차행렬\n",
    "cm  = confusion_matrix(y_test, dt_pred1)\n",
    "print('decision_tree:\\n', cm)\n",
    "cm  = confusion_matrix(y_test, dt_pred2)\n",
    "print('decision_tree:\\n', cm)\n",
    "cm  = confusion_matrix(y_test, rf_pred)\n",
    "print('random_forest:\\n', cm)\n",
    "cm  = confusion_matrix(y_test, lr_pred)\n",
    "print('logistic:\\n', cm)\n"
   ]
  },
  {
   "cell_type": "code",
   "execution_count": 88,
   "metadata": {},
   "outputs": [
    {
     "name": "stdout",
     "output_type": "stream",
     "text": [
      "Feature importance:\n",
      "[0.38573221 0.03115751 0.03140288 0.04335383 0.04399589 0.12565242\n",
      " 0.33870527]\n",
      "Feature importance:\n",
      "[0.42348952 0.04049312 0.03081823 0.04813445 0.15928782 0.13575046\n",
      " 0.16202641]\n",
      "Feature importance:\n",
      "[[ 0.005609    0.01096103 -0.00718729 -0.0231189   0.36133903  0.07983201\n",
      "   2.85826782]]\n"
     ]
    }
   ],
   "source": [
    "print('Feature importance:\\n{0}'.format(dt_clf.feature_importances_))\n",
    "print('Feature importance:\\n{0}'.format(rf_clf.feature_importances_))\n",
    "print('Feature importance:\\n{0}'.format(lr_clf.coef_))"
   ]
  },
  {
   "cell_type": "code",
   "execution_count": 89,
   "metadata": {},
   "outputs": [],
   "source": [
    "# 평가함수, ROC커브 함수\n",
    "from sklearn.metrics import accuracy_score, precision_score, recall_score, confusion_matrix,f1_score,roc_curve\n",
    "\n",
    "\n",
    "def get_clf_eval(y_test, pred):\n",
    "    confusion = confusion_matrix(y_test, pred)\n",
    "    accuracy = accuracy_score(y_test, pred)\n",
    "    precision = precision_score(y_test, pred)\n",
    "    recall = recall_score(y_test,pred)\n",
    "    f1 = f1_score(y_test,pred)\n",
    "    print('오차행렬')\n",
    "    print(confusion)\n",
    "    print('정확도: {0:4f}, 정밀도: {1:4f}, 재현율: {2:4f}'.format(accuracy,precision,recall))\n",
    "    print('f1스코어: {0:4f}'.format(f1))\n",
    "\n",
    "def roc_curve_plot(y_test,pred_proba_c1):\n",
    "    fprs, tprs, thresholds = roc_curve(y_test,pred_proba_c1)\n",
    "    plt.plot(fprs,tprs,label = 'ROC')\n",
    "    #가운데 대각선 직선\n",
    "    plt.plot([0,1],[0,1],'k--',label = 'Random')\n",
    "    \n",
    "    start, end = plt.xlim()\n",
    "    plt.xticks(np.round(np.arange(start,end,0.1),2))\n",
    "    plt.xlim(0,1); plt.ylim(0,1)\n",
    "    plt.xlabel('FPR(1-sensitivity)'); plt.ylabel('TPR(recall)')\n",
    "    plt.legend()"
   ]
  },
  {
   "cell_type": "code",
   "execution_count": 90,
   "metadata": {},
   "outputs": [
    {
     "name": "stdout",
     "output_type": "stream",
     "text": [
      "오차행렬\n",
      "[[169777    453]\n",
      " [ 22733    254]]\n",
      "정확도: 0.880000, 정밀도: 0.359264, 재현율: 0.011050\n",
      "f1스코어: 0.021440\n",
      "오차행렬\n",
      "[[119725  50505]\n",
      " [  9188  13799]]\n",
      "정확도: 0.691057, 정밀도: 0.214590, 재현율: 0.600296\n",
      "f1스코어: 0.316161\n",
      "오차행렬\n",
      "[[119087  51143]\n",
      " [  9068  13919]]\n",
      "정확도: 0.688376, 정밀도: 0.213934, 재현율: 0.605516\n",
      "f1스코어: 0.316165\n",
      "오차행렬\n",
      "[[107245  62985]\n",
      " [  7543  15444]]\n",
      "정확도: 0.634980, 정밀도: 0.196917, 재현율: 0.671858\n",
      "f1스코어: 0.304567\n"
     ]
    },
    {
     "ename": "NameError",
     "evalue": "name 'preds_xg' is not defined",
     "output_type": "error",
     "traceback": [
      "\u001b[1;31m---------------------------------------------------------------------------\u001b[0m",
      "\u001b[1;31mNameError\u001b[0m                                 Traceback (most recent call last)",
      "\u001b[1;32m<ipython-input-90-64e5320db1f6>\u001b[0m in \u001b[0;36m<module>\u001b[1;34m\u001b[0m\n\u001b[0;32m      4\u001b[0m \u001b[0mget_clf_eval\u001b[0m\u001b[1;33m(\u001b[0m\u001b[0my_test\u001b[0m\u001b[1;33m,\u001b[0m\u001b[0mrf_pred\u001b[0m\u001b[1;33m)\u001b[0m\u001b[1;33m\u001b[0m\u001b[1;33m\u001b[0m\u001b[0m\n\u001b[0;32m      5\u001b[0m \u001b[0mget_clf_eval\u001b[0m\u001b[1;33m(\u001b[0m\u001b[0my_test\u001b[0m\u001b[1;33m,\u001b[0m\u001b[0mlr_pred\u001b[0m\u001b[1;33m)\u001b[0m\u001b[1;33m\u001b[0m\u001b[1;33m\u001b[0m\u001b[0m\n\u001b[1;32m----> 6\u001b[1;33m \u001b[0mget_clf_eval\u001b[0m\u001b[1;33m(\u001b[0m\u001b[0my_test\u001b[0m\u001b[1;33m,\u001b[0m\u001b[0mpreds_xg\u001b[0m\u001b[1;33m)\u001b[0m\u001b[1;33m\u001b[0m\u001b[1;33m\u001b[0m\u001b[0m\n\u001b[0m",
      "\u001b[1;31mNameError\u001b[0m: name 'preds_xg' is not defined"
     ]
    }
   ],
   "source": [
    "# 평가하기\n",
    "get_clf_eval(y_test,dt_pred1)\n",
    "get_clf_eval(y_test,dt_pred2)\n",
    "get_clf_eval(y_test,rf_pred)\n",
    "get_clf_eval(y_test,lr_pred)\n",
    "get_clf_eval(y_test,preds_xg)"
   ]
  },
  {
   "cell_type": "code",
   "execution_count": 91,
   "metadata": {},
   "outputs": [
    {
     "data": {
      "image/png": "[encoded data removed]",
      "text/plain": [
       "<Figure size 432x288 with 1 Axes>"
      ]
     },
     "metadata": {
      "needs_background": "light"
     },
     "output_type": "display_data"
    }
   ],
   "source": [
    "# ROC커브\n",
    "pred_proba1 = dt_clf.predict_proba(X_test)\n",
    "pred_proba2 = rf_clf.predict_proba(X_test)\n",
    "pred_proba3 = lr_clf.predict_proba(X_test)\n",
    "\n",
    "roc_curve_plot(y_test,pred_proba1[:,1])\n",
    "roc_curve_plot(y_test,pred_proba2[:,1])\n",
    "roc_curve_plot(y_test,pred_proba3[:,1])"
   ]
  },
  {
   "cell_type": "code",
   "execution_count": 92,
   "metadata": {},
   "outputs": [
    {
     "name": "stdout",
     "output_type": "stream",
     "text": [
      "0.11999979297887867\n",
      "0.3089427948886485\n",
      "0.31162371840987074\n",
      "0.3650196411288862\n"
     ]
    }
   ],
   "source": [
    "print(mean_squared_error(y_test, dt_pred1, sample_weight=None))\n",
    "print(mean_squared_error(y_test, dt_pred2, sample_weight=None))\n",
    "print(mean_squared_error(y_test, rf_pred, sample_weight=None))\n",
    "print(mean_squared_error(y_test, lr_pred, sample_weight=None))"
   ]
  },
  {
   "cell_type": "markdown",
   "metadata": {},
   "source": [
    "# afsnt_dly 데이터 EDA"
   ]
  },
  {
   "cell_type": "code",
   "execution_count": null,
   "metadata": {},
   "outputs": [],
   "source": [
    "# data load\n",
    "data_afsnt_dly = pd.read_csv('C:/Users/user/Desktop/bigcon/data/AFSNT_DLY.CSV')"
   ]
  },
  {
   "cell_type": "code",
   "execution_count": null,
   "metadata": {},
   "outputs": [],
   "source": [
    "data_afsnt_dly.head(4)"
   ]
  },
  {
   "cell_type": "code",
   "execution_count": null,
   "metadata": {},
   "outputs": [],
   "source": [
    "data_afsnt_dly.info()"
   ]
  },
  {
   "cell_type": "code",
   "execution_count": null,
   "metadata": {},
   "outputs": [],
   "source": []
  },
  {
   "cell_type": "code",
   "execution_count": null,
   "metadata": {},
   "outputs": [],
   "source": []
  },
  {
   "cell_type": "code",
   "execution_count": null,
   "metadata": {},
   "outputs": [],
   "source": []
  },
  {
   "cell_type": "code",
   "execution_count": null,
   "metadata": {},
   "outputs": [],
   "source": []
  },
  {
   "cell_type": "markdown",
   "metadata": {},
   "source": [
    "# sfsnt 데이터 EDA"
   ]
  },
  {
   "cell_type": "code",
   "execution_count": null,
   "metadata": {},
   "outputs": [],
   "source": [
    "# data load\n",
    "data_sfsnt = pd.read_csv('C:/Users/user/Desktop/bigcon/data/SFSNT.CSV')"
   ]
  },
  {
   "cell_type": "code",
   "execution_count": null,
   "metadata": {},
   "outputs": [],
   "source": [
    "data_sfsnt.info()\n",
    "data_sfsnt.head(3)"
   ]
  },
  {
   "cell_type": "code",
   "execution_count": null,
   "metadata": {},
   "outputs": [],
   "source": [
    "# temp = data_sfsnt[['SSC','FLT','ORG','DES','FLO','FSD','FED']]\n",
    "# temp_group = temp.groupby(by=['FLT','ORG','DES','FLO','FSD','FED'])['SSC']\n",
    "# temp_group = temp_group.value_counts()\n",
    "# temp_group.loc[['L1702','L1720','L1808'],:,:,'L',:,:]"
   ]
  },
  {
   "cell_type": "code",
   "execution_count": null,
   "metadata": {},
   "outputs": [],
   "source": [
    "# print(data_sfsnt.loc[:,:,:,:,:,'L',:,:,:,:,:,:,:,20190916,:,:])\n",
    "data_afsnt_dly.head(7)"
   ]
  },
  {
   "cell_type": "code",
   "execution_count": null,
   "metadata": {},
   "outputs": [],
   "source": [
    "data_sfsnt[data_sfsnt['FLO'] == 'A'].sort_values(by=['STD_HOUR','STD_MINUTE'])"
   ]
  },
  {
   "cell_type": "code",
   "execution_count": null,
   "metadata": {},
   "outputs": [],
   "source": []
  }
 ],
 "metadata": {
  "kernelspec": {
   "display_name": "Python 3",
   "language": "python",
   "name": "python3"
  },
  "language_info": {
   "codemirror_mode": {
    "name": "ipython",
    "version": 3
   },
   "file_extension": ".py",
   "mimetype": "text/x-python",
   "name": "python",
   "nbconvert_exporter": "python",
   "pygments_lexer": "ipython3",
   "version": "3.7.3"
  }
 },
 "nbformat": 4,
 "nbformat_minor": 2
}
