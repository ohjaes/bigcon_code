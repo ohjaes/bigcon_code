{
 "cells": [
  {
   "cell_type": "code",
   "execution_count": 1,
   "metadata": {},
   "outputs": [],
   "source": [
    "import pandas as pd\n",
    "import numpy as np\n",
    "import matplotlib.pyplot as plt\n",
    "import seaborn as sns\n",
    "from sklearn.decomposition import PCA\n",
    "from sklearn.preprocessing import LabelEncoder\n",
    "from sklearn.model_selection import train_test_split\n",
    "%matplotlib inline"
   ]
  },
  {
   "cell_type": "code",
   "execution_count": 2,
   "metadata": {},
   "outputs": [],
   "source": [
    "data_afsnt = pd.read_csv('./data/AFSNT.csv')\n",
    "data_sfsnt = pd.read_csv('./data/SFSNT.csv')\n",
    "data_afsnt_dly = pd.read_csv('./data/AFSNT_DLY.csv')"
   ]
  },
  {
   "cell_type": "code",
   "execution_count": 3,
   "metadata": {},
   "outputs": [],
   "source": [
    "data_afsnt['NUM'] = data_afsnt['DLY'].apply(lambda x : 0 if x == 'N' else 1)"
   ]
  },
  {
   "cell_type": "code",
   "execution_count": 4,
   "metadata": {},
   "outputs": [
    {
     "data": {
      "text/html": [
       "<div>\n",
       "<style scoped>\n",
       "    .dataframe tbody tr th:only-of-type {\n",
       "        vertical-align: middle;\n",
       "    }\n",
       "\n",
       "    .dataframe tbody tr th {\n",
       "        vertical-align: top;\n",
       "    }\n",
       "\n",
       "    .dataframe thead th {\n",
       "        text-align: right;\n",
       "    }\n",
       "</style>\n",
       "<table border=\"1\" class=\"dataframe\">\n",
       "  <thead>\n",
       "    <tr style=\"text-align: right;\">\n",
       "      <th></th>\n",
       "      <th>SDT_YY</th>\n",
       "      <th>SDT_MM</th>\n",
       "      <th>SDT_DD</th>\n",
       "      <th>SDT_DY</th>\n",
       "      <th>ARP</th>\n",
       "      <th>ODP</th>\n",
       "      <th>FLO</th>\n",
       "      <th>FLT</th>\n",
       "      <th>REG</th>\n",
       "      <th>AOD</th>\n",
       "      <th>IRR</th>\n",
       "      <th>STT</th>\n",
       "      <th>ATT</th>\n",
       "      <th>DLY</th>\n",
       "      <th>DRR</th>\n",
       "      <th>CNL</th>\n",
       "      <th>CNR</th>\n",
       "      <th>NUM</th>\n",
       "    </tr>\n",
       "  </thead>\n",
       "  <tbody>\n",
       "    <tr>\n",
       "      <th>0</th>\n",
       "      <td>2017</td>\n",
       "      <td>1</td>\n",
       "      <td>1</td>\n",
       "      <td>일</td>\n",
       "      <td>ARP3</td>\n",
       "      <td>ARP6</td>\n",
       "      <td>J</td>\n",
       "      <td>J1955</td>\n",
       "      <td>SEw3NzE4</td>\n",
       "      <td>D</td>\n",
       "      <td>N</td>\n",
       "      <td>10:05</td>\n",
       "      <td>10:32</td>\n",
       "      <td>N</td>\n",
       "      <td>NaN</td>\n",
       "      <td>N</td>\n",
       "      <td>NaN</td>\n",
       "      <td>0</td>\n",
       "    </tr>\n",
       "    <tr>\n",
       "      <th>1</th>\n",
       "      <td>2017</td>\n",
       "      <td>1</td>\n",
       "      <td>1</td>\n",
       "      <td>일</td>\n",
       "      <td>ARP3</td>\n",
       "      <td>ARP6</td>\n",
       "      <td>J</td>\n",
       "      <td>J1954</td>\n",
       "      <td>SEw3NzE4</td>\n",
       "      <td>A</td>\n",
       "      <td>N</td>\n",
       "      <td>9:30</td>\n",
       "      <td>9:31</td>\n",
       "      <td>N</td>\n",
       "      <td>NaN</td>\n",
       "      <td>N</td>\n",
       "      <td>NaN</td>\n",
       "      <td>0</td>\n",
       "    </tr>\n",
       "    <tr>\n",
       "      <th>2</th>\n",
       "      <td>2017</td>\n",
       "      <td>1</td>\n",
       "      <td>1</td>\n",
       "      <td>일</td>\n",
       "      <td>ARP3</td>\n",
       "      <td>ARP6</td>\n",
       "      <td>J</td>\n",
       "      <td>J1956</td>\n",
       "      <td>SEw3NzE4</td>\n",
       "      <td>A</td>\n",
       "      <td>N</td>\n",
       "      <td>12:45</td>\n",
       "      <td>13:03</td>\n",
       "      <td>N</td>\n",
       "      <td>NaN</td>\n",
       "      <td>N</td>\n",
       "      <td>NaN</td>\n",
       "      <td>0</td>\n",
       "    </tr>\n",
       "  </tbody>\n",
       "</table>\n",
       "</div>"
      ],
      "text/plain": [
       "   SDT_YY  SDT_MM  SDT_DD SDT_DY   ARP   ODP FLO    FLT       REG AOD IRR  \\\n",
       "0    2017       1       1      일  ARP3  ARP6   J  J1955  SEw3NzE4   D   N   \n",
       "1    2017       1       1      일  ARP3  ARP6   J  J1954  SEw3NzE4   A   N   \n",
       "2    2017       1       1      일  ARP3  ARP6   J  J1956  SEw3NzE4   A   N   \n",
       "\n",
       "     STT    ATT DLY  DRR CNL  CNR  NUM  \n",
       "0  10:05  10:32   N  NaN   N  NaN    0  \n",
       "1   9:30   9:31   N  NaN   N  NaN    0  \n",
       "2  12:45  13:03   N  NaN   N  NaN    0  "
      ]
     },
     "execution_count": 4,
     "metadata": {},
     "output_type": "execute_result"
    }
   ],
   "source": [
    "data_afsnt.head(3)"
   ]
  },
  {
   "cell_type": "code",
   "execution_count": 5,
   "metadata": {},
   "outputs": [
    {
     "data": {
      "text/html": [
       "<div>\n",
       "<style scoped>\n",
       "    .dataframe tbody tr th:only-of-type {\n",
       "        vertical-align: middle;\n",
       "    }\n",
       "\n",
       "    .dataframe tbody tr th {\n",
       "        vertical-align: top;\n",
       "    }\n",
       "\n",
       "    .dataframe thead th {\n",
       "        text-align: right;\n",
       "    }\n",
       "</style>\n",
       "<table border=\"1\" class=\"dataframe\">\n",
       "  <thead>\n",
       "    <tr style=\"text-align: right;\">\n",
       "      <th></th>\n",
       "      <th>SDT_YY</th>\n",
       "      <th>SDT_MM</th>\n",
       "      <th>SDT_DD</th>\n",
       "      <th>SDT_DY</th>\n",
       "      <th>ARP</th>\n",
       "      <th>ODP</th>\n",
       "      <th>FLO</th>\n",
       "      <th>FLT</th>\n",
       "      <th>AOD</th>\n",
       "      <th>STT</th>\n",
       "      <th>DLY</th>\n",
       "      <th>DLY_RATE</th>\n",
       "    </tr>\n",
       "  </thead>\n",
       "  <tbody>\n",
       "    <tr>\n",
       "      <th>0</th>\n",
       "      <td>2019</td>\n",
       "      <td>9</td>\n",
       "      <td>16</td>\n",
       "      <td>월</td>\n",
       "      <td>ARP1</td>\n",
       "      <td>ARP3</td>\n",
       "      <td>L</td>\n",
       "      <td>L1702</td>\n",
       "      <td>A</td>\n",
       "      <td>9:05</td>\n",
       "      <td>NaN</td>\n",
       "      <td>NaN</td>\n",
       "    </tr>\n",
       "    <tr>\n",
       "      <th>1</th>\n",
       "      <td>2019</td>\n",
       "      <td>9</td>\n",
       "      <td>16</td>\n",
       "      <td>월</td>\n",
       "      <td>ARP3</td>\n",
       "      <td>ARP1</td>\n",
       "      <td>L</td>\n",
       "      <td>L1702</td>\n",
       "      <td>D</td>\n",
       "      <td>7:55</td>\n",
       "      <td>NaN</td>\n",
       "      <td>NaN</td>\n",
       "    </tr>\n",
       "    <tr>\n",
       "      <th>2</th>\n",
       "      <td>2019</td>\n",
       "      <td>9</td>\n",
       "      <td>16</td>\n",
       "      <td>월</td>\n",
       "      <td>ARP1</td>\n",
       "      <td>ARP3</td>\n",
       "      <td>L</td>\n",
       "      <td>L1720</td>\n",
       "      <td>A</td>\n",
       "      <td>14:40</td>\n",
       "      <td>NaN</td>\n",
       "      <td>NaN</td>\n",
       "    </tr>\n",
       "  </tbody>\n",
       "</table>\n",
       "</div>"
      ],
      "text/plain": [
       "   SDT_YY  SDT_MM  SDT_DD SDT_DY   ARP   ODP FLO    FLT AOD    STT  DLY  \\\n",
       "0    2019       9      16      월  ARP1  ARP3   L  L1702   A   9:05  NaN   \n",
       "1    2019       9      16      월  ARP3  ARP1   L  L1702   D   7:55  NaN   \n",
       "2    2019       9      16      월  ARP1  ARP3   L  L1720   A  14:40  NaN   \n",
       "\n",
       "   DLY_RATE  \n",
       "0       NaN  \n",
       "1       NaN  \n",
       "2       NaN  "
      ]
     },
     "execution_count": 5,
     "metadata": {},
     "output_type": "execute_result"
    }
   ],
   "source": [
    "data_afsnt_dly.head(3)"
   ]
  },
  {
   "cell_type": "code",
   "execution_count": 6,
   "metadata": {
    "scrolled": true
   },
   "outputs": [],
   "source": [
    "sta_list = list(data_sfsnt[data_sfsnt['STA'].isna()==True].index)\n",
    "std_list = list(data_sfsnt[data_sfsnt['STD'].isna()==True].index)\n",
    "all_list = []\n",
    "for i,j in zip(sta_list,std_list):\n",
    "    all_list.append(i)\n",
    "    all_list.append(j)\n",
    "all_list = list(set(all_list))\n",
    "data_sfsnt.drop(all_list,axis=0,inplace=True)"
   ]
  },
  {
   "cell_type": "code",
   "execution_count": 7,
   "metadata": {},
   "outputs": [
    {
     "name": "stdout",
     "output_type": "stream",
     "text": [
      "<class 'pandas.core.frame.DataFrame'>\n",
      "Int64Index: 1150 entries, 0 to 1185\n",
      "Data columns (total 17 columns):\n",
      "SSC    1150 non-null object\n",
      "FLT    1150 non-null object\n",
      "ORG    1150 non-null object\n",
      "DES    1150 non-null object\n",
      "STD    1150 non-null object\n",
      "STA    1150 non-null object\n",
      "FLO    1150 non-null object\n",
      "MON    728 non-null object\n",
      "TUE    719 non-null object\n",
      "WED    718 non-null object\n",
      "THU    715 non-null object\n",
      "FRI    722 non-null object\n",
      "SAT    721 non-null object\n",
      "SUN    701 non-null object\n",
      "FSD    1150 non-null int64\n",
      "FED    1150 non-null int64\n",
      "IRR    1150 non-null object\n",
      "dtypes: int64(2), object(15)\n",
      "memory usage: 161.7+ KB\n",
      "<class 'pandas.core.frame.DataFrame'>\n",
      "RangeIndex: 987709 entries, 0 to 987708\n",
      "Data columns (total 18 columns):\n",
      "SDT_YY    987709 non-null int64\n",
      "SDT_MM    987709 non-null int64\n",
      "SDT_DD    987709 non-null int64\n",
      "SDT_DY    987709 non-null object\n",
      "ARP       987709 non-null object\n",
      "ODP       987709 non-null object\n",
      "FLO       987709 non-null object\n",
      "FLT       987709 non-null object\n",
      "REG       979446 non-null object\n",
      "AOD       987709 non-null object\n",
      "IRR       987709 non-null object\n",
      "STT       987709 non-null object\n",
      "ATT       987709 non-null object\n",
      "DLY       987709 non-null object\n",
      "DRR       118937 non-null object\n",
      "CNL       987709 non-null object\n",
      "CNR       8259 non-null object\n",
      "NUM       987709 non-null int64\n",
      "dtypes: int64(4), object(14)\n",
      "memory usage: 135.6+ MB\n"
     ]
    }
   ],
   "source": [
    "# data_sfsnt['STA'] = data_sfsnt['STA'].fillna()\n",
    "data_sfsnt.info()\n",
    "data_afsnt.info()"
   ]
  },
  {
   "cell_type": "code",
   "execution_count": 8,
   "metadata": {},
   "outputs": [],
   "source": [
    "data_afsnt['HOUR'] = data_afsnt['STT'].apply(lambda x : int(x.split(':')[0]))\n",
    "data_afsnt['GROUP'] = [sorted([i,j])[0] + sorted([i,j])[1] for i,j in zip(data_afsnt['ARP'], data_afsnt['ODP'])]\n",
    "data_afsnt_dly['GROUP'] = [sorted([i,j])[0] + sorted([i,j])[1] for i,j in zip(data_afsnt_dly['ARP'], data_afsnt_dly['ODP'])]\n",
    "data_sfsnt['GROUP'] = [sorted([i,j])[0] + sorted([i,j])[1] for i,j in zip(data_sfsnt['ORG'], data_sfsnt['DES'])]\n",
    "data_afsnt['MINUTE'] = data_afsnt['STT'].apply(lambda x : int(x.split(':')[1]))\n",
    "\n",
    "data_sfsnt['STD_HOUR'] = data_sfsnt['STD'].apply(lambda x : int(x.split(':')[0]))\n",
    "data_sfsnt['STD_MINUTE'] = data_sfsnt['STD'].apply(lambda x : int(x.split(':')[1]))\n",
    "data_sfsnt['STA_HOUR'] = data_sfsnt['STA'].apply(lambda x : int(x.split(':')[0]))\n",
    "data_sfsnt['STA_MINUTE'] = data_sfsnt['STA'].apply(lambda x : int(x.split(':')[1]))\n",
    "data_sfsnt['DISTANCE'] = (data_sfsnt['STA_HOUR'] - data_sfsnt['STD_HOUR']) * 60 + data_sfsnt['STA_MINUTE'] - data_sfsnt['STD_MINUTE']"
   ]
  },
  {
   "cell_type": "code",
   "execution_count": 9,
   "metadata": {},
   "outputs": [
    {
     "data": {
      "text/plain": [
       "REG       FLT   \n",
       "QjUwMDE2  K1606D      2\n",
       "QjY3Mzc=  E1665A      1\n",
       "SEw3MjA3  J1208       2\n",
       "          J1213       2\n",
       "          J1455       1\n",
       "          J1456       1\n",
       "SEw3MjAw  J1608     130\n",
       "          J1609     130\n",
       "          J1255     122\n",
       "          J1606     110\n",
       "Name: FLT, dtype: int64"
      ]
     },
     "execution_count": 9,
     "metadata": {},
     "output_type": "execute_result"
    }
   ],
   "source": [
    "data_afsnt.sort_values(['SDT_YY','SDT_MM','SDT_DD','REG','HOUR','MINUTE']).groupby('REG')['FLT'].value_counts().head(10)"
   ]
  },
  {
   "cell_type": "code",
   "execution_count": 10,
   "metadata": {},
   "outputs": [],
   "source": [
    "def plus_zero(time):\n",
    "    if time < 10:\n",
    "        time = '0'+str(time)\n",
    "    \n",
    "    return time\n",
    "\n",
    "data_afsnt['DATE'] = [str(i)+str(j)+str(k) for i,j,k in zip(data_afsnt['SDT_YY'],data_afsnt['SDT_MM'], data_afsnt['SDT_DD'])]"
   ]
  },
  {
   "cell_type": "code",
   "execution_count": 11,
   "metadata": {},
   "outputs": [
    {
     "data": {
      "text/html": [
       "<div>\n",
       "<style scoped>\n",
       "    .dataframe tbody tr th:only-of-type {\n",
       "        vertical-align: middle;\n",
       "    }\n",
       "\n",
       "    .dataframe tbody tr th {\n",
       "        vertical-align: top;\n",
       "    }\n",
       "\n",
       "    .dataframe thead th {\n",
       "        text-align: right;\n",
       "    }\n",
       "</style>\n",
       "<table border=\"1\" class=\"dataframe\">\n",
       "  <thead>\n",
       "    <tr style=\"text-align: right;\">\n",
       "      <th></th>\n",
       "      <th>SDT_YY</th>\n",
       "      <th>SDT_MM</th>\n",
       "      <th>SDT_DD</th>\n",
       "      <th>SDT_DY</th>\n",
       "      <th>ARP</th>\n",
       "      <th>ODP</th>\n",
       "      <th>FLO</th>\n",
       "      <th>FLT</th>\n",
       "      <th>REG</th>\n",
       "      <th>AOD</th>\n",
       "      <th>...</th>\n",
       "      <th>ATT</th>\n",
       "      <th>DLY</th>\n",
       "      <th>DRR</th>\n",
       "      <th>CNL</th>\n",
       "      <th>CNR</th>\n",
       "      <th>NUM</th>\n",
       "      <th>HOUR</th>\n",
       "      <th>GROUP</th>\n",
       "      <th>MINUTE</th>\n",
       "      <th>DATE</th>\n",
       "    </tr>\n",
       "  </thead>\n",
       "  <tbody>\n",
       "    <tr>\n",
       "      <th>987706</th>\n",
       "      <td>2019</td>\n",
       "      <td>6</td>\n",
       "      <td>30</td>\n",
       "      <td>일</td>\n",
       "      <td>ARP3</td>\n",
       "      <td>ARP4</td>\n",
       "      <td>L</td>\n",
       "      <td>L1801</td>\n",
       "      <td>SEw4MzYz</td>\n",
       "      <td>A</td>\n",
       "      <td>...</td>\n",
       "      <td>7:10</td>\n",
       "      <td>N</td>\n",
       "      <td>NaN</td>\n",
       "      <td>N</td>\n",
       "      <td>NaN</td>\n",
       "      <td>0</td>\n",
       "      <td>7</td>\n",
       "      <td>ARP3ARP4</td>\n",
       "      <td>20</td>\n",
       "      <td>2019630</td>\n",
       "    </tr>\n",
       "    <tr>\n",
       "      <th>987707</th>\n",
       "      <td>2019</td>\n",
       "      <td>6</td>\n",
       "      <td>30</td>\n",
       "      <td>일</td>\n",
       "      <td>ARP3</td>\n",
       "      <td>ARP4</td>\n",
       "      <td>L</td>\n",
       "      <td>L1807</td>\n",
       "      <td>SEw4MjM3</td>\n",
       "      <td>A</td>\n",
       "      <td>...</td>\n",
       "      <td>17:32</td>\n",
       "      <td>N</td>\n",
       "      <td>NaN</td>\n",
       "      <td>N</td>\n",
       "      <td>NaN</td>\n",
       "      <td>0</td>\n",
       "      <td>17</td>\n",
       "      <td>ARP3ARP4</td>\n",
       "      <td>30</td>\n",
       "      <td>2019630</td>\n",
       "    </tr>\n",
       "    <tr>\n",
       "      <th>987708</th>\n",
       "      <td>2019</td>\n",
       "      <td>6</td>\n",
       "      <td>30</td>\n",
       "      <td>일</td>\n",
       "      <td>ARP3</td>\n",
       "      <td>ARP4</td>\n",
       "      <td>L</td>\n",
       "      <td>L1804</td>\n",
       "      <td>SEw4MjM3</td>\n",
       "      <td>D</td>\n",
       "      <td>...</td>\n",
       "      <td>14:54</td>\n",
       "      <td>N</td>\n",
       "      <td>NaN</td>\n",
       "      <td>N</td>\n",
       "      <td>NaN</td>\n",
       "      <td>0</td>\n",
       "      <td>14</td>\n",
       "      <td>ARP3ARP4</td>\n",
       "      <td>45</td>\n",
       "      <td>2019630</td>\n",
       "    </tr>\n",
       "  </tbody>\n",
       "</table>\n",
       "<p>3 rows × 22 columns</p>\n",
       "</div>"
      ],
      "text/plain": [
       "        SDT_YY  SDT_MM  SDT_DD SDT_DY   ARP   ODP FLO    FLT       REG AOD  \\\n",
       "987706    2019       6      30      일  ARP3  ARP4   L  L1801  SEw4MzYz   A   \n",
       "987707    2019       6      30      일  ARP3  ARP4   L  L1807  SEw4MjM3   A   \n",
       "987708    2019       6      30      일  ARP3  ARP4   L  L1804  SEw4MjM3   D   \n",
       "\n",
       "        ...    ATT DLY  DRR CNL  CNR NUM HOUR     GROUP  MINUTE     DATE  \n",
       "987706  ...   7:10   N  NaN   N  NaN   0    7  ARP3ARP4      20  2019630  \n",
       "987707  ...  17:32   N  NaN   N  NaN   0   17  ARP3ARP4      30  2019630  \n",
       "987708  ...  14:54   N  NaN   N  NaN   0   14  ARP3ARP4      45  2019630  \n",
       "\n",
       "[3 rows x 22 columns]"
      ]
     },
     "execution_count": 11,
     "metadata": {},
     "output_type": "execute_result"
    }
   ],
   "source": [
    "data_afsnt.tail(3)"
   ]
  },
  {
   "cell_type": "code",
   "execution_count": 12,
   "metadata": {},
   "outputs": [
    {
     "data": {
      "text/html": [
       "<div>\n",
       "<style scoped>\n",
       "    .dataframe tbody tr th:only-of-type {\n",
       "        vertical-align: middle;\n",
       "    }\n",
       "\n",
       "    .dataframe tbody tr th {\n",
       "        vertical-align: top;\n",
       "    }\n",
       "\n",
       "    .dataframe thead th {\n",
       "        text-align: right;\n",
       "    }\n",
       "</style>\n",
       "<table border=\"1\" class=\"dataframe\">\n",
       "  <thead>\n",
       "    <tr style=\"text-align: right;\">\n",
       "      <th></th>\n",
       "      <th>SSC</th>\n",
       "      <th>FLT</th>\n",
       "      <th>ORG</th>\n",
       "      <th>DES</th>\n",
       "      <th>STD</th>\n",
       "      <th>STA</th>\n",
       "      <th>FLO</th>\n",
       "      <th>MON</th>\n",
       "      <th>TUE</th>\n",
       "      <th>WED</th>\n",
       "      <th>...</th>\n",
       "      <th>SUN</th>\n",
       "      <th>FSD</th>\n",
       "      <th>FED</th>\n",
       "      <th>IRR</th>\n",
       "      <th>GROUP</th>\n",
       "      <th>STD_HOUR</th>\n",
       "      <th>STD_MINUTE</th>\n",
       "      <th>STA_HOUR</th>\n",
       "      <th>STA_MINUTE</th>\n",
       "      <th>DISTANCE</th>\n",
       "    </tr>\n",
       "  </thead>\n",
       "  <tbody>\n",
       "    <tr>\n",
       "      <th>0</th>\n",
       "      <td>S19</td>\n",
       "      <td>A1915</td>\n",
       "      <td>ARP1</td>\n",
       "      <td>ARP3</td>\n",
       "      <td>7:55</td>\n",
       "      <td>9:05</td>\n",
       "      <td>A</td>\n",
       "      <td>Y</td>\n",
       "      <td>Y</td>\n",
       "      <td>Y</td>\n",
       "      <td>...</td>\n",
       "      <td>Y</td>\n",
       "      <td>20190331</td>\n",
       "      <td>20191026</td>\n",
       "      <td>N</td>\n",
       "      <td>ARP1ARP3</td>\n",
       "      <td>7</td>\n",
       "      <td>55</td>\n",
       "      <td>9</td>\n",
       "      <td>5</td>\n",
       "      <td>70</td>\n",
       "    </tr>\n",
       "    <tr>\n",
       "      <th>1</th>\n",
       "      <td>S19</td>\n",
       "      <td>A1904</td>\n",
       "      <td>ARP3</td>\n",
       "      <td>ARP1</td>\n",
       "      <td>7:55</td>\n",
       "      <td>9:05</td>\n",
       "      <td>A</td>\n",
       "      <td>Y</td>\n",
       "      <td>Y</td>\n",
       "      <td>Y</td>\n",
       "      <td>...</td>\n",
       "      <td>Y</td>\n",
       "      <td>20190331</td>\n",
       "      <td>20191026</td>\n",
       "      <td>N</td>\n",
       "      <td>ARP1ARP3</td>\n",
       "      <td>7</td>\n",
       "      <td>55</td>\n",
       "      <td>9</td>\n",
       "      <td>5</td>\n",
       "      <td>70</td>\n",
       "    </tr>\n",
       "    <tr>\n",
       "      <th>2</th>\n",
       "      <td>S19</td>\n",
       "      <td>I1304</td>\n",
       "      <td>ARP3</td>\n",
       "      <td>ARP1</td>\n",
       "      <td>8:00</td>\n",
       "      <td>9:15</td>\n",
       "      <td>I</td>\n",
       "      <td>Y</td>\n",
       "      <td>NaN</td>\n",
       "      <td>Y</td>\n",
       "      <td>...</td>\n",
       "      <td>Y</td>\n",
       "      <td>20190331</td>\n",
       "      <td>20191026</td>\n",
       "      <td>N</td>\n",
       "      <td>ARP1ARP3</td>\n",
       "      <td>8</td>\n",
       "      <td>0</td>\n",
       "      <td>9</td>\n",
       "      <td>15</td>\n",
       "      <td>75</td>\n",
       "    </tr>\n",
       "  </tbody>\n",
       "</table>\n",
       "<p>3 rows × 23 columns</p>\n",
       "</div>"
      ],
      "text/plain": [
       "   SSC    FLT   ORG   DES   STD   STA FLO MON  TUE WED  ... SUN       FSD  \\\n",
       "0  S19  A1915  ARP1  ARP3  7:55  9:05   A   Y    Y   Y  ...   Y  20190331   \n",
       "1  S19  A1904  ARP3  ARP1  7:55  9:05   A   Y    Y   Y  ...   Y  20190331   \n",
       "2  S19  I1304  ARP3  ARP1  8:00  9:15   I   Y  NaN   Y  ...   Y  20190331   \n",
       "\n",
       "        FED IRR     GROUP  STD_HOUR STD_MINUTE STA_HOUR  STA_MINUTE  DISTANCE  \n",
       "0  20191026   N  ARP1ARP3         7         55        9           5        70  \n",
       "1  20191026   N  ARP1ARP3         7         55        9           5        70  \n",
       "2  20191026   N  ARP1ARP3         8          0        9          15        75  \n",
       "\n",
       "[3 rows x 23 columns]"
      ]
     },
     "execution_count": 12,
     "metadata": {},
     "output_type": "execute_result"
    }
   ],
   "source": [
    "data_sfsnt.head(3)"
   ]
  },
  {
   "cell_type": "code",
   "execution_count": 13,
   "metadata": {},
   "outputs": [],
   "source": [
    "def change_dy(dy):\n",
    "    if dy == '월':\n",
    "        dy = 'MON'\n",
    "    elif dy == '화':\n",
    "        dy = 'TUE'\n",
    "    elif dy == '수':\n",
    "        dy = 'WED'\n",
    "    elif dy == '목':\n",
    "        dy = 'TUR'\n",
    "    elif dy == '금':\n",
    "        dy = 'FRI'\n",
    "    elif dy == '토':\n",
    "        dy = 'SAT'\n",
    "    else:\n",
    "        dy = 'SUN'\n",
    "    return dy\n",
    "\n",
    "data_afsnt['SDT_DY'] = data_afsnt['SDT_DY'].apply(lambda x : change_dy(x))\n",
    "data_afsnt_dly['SDT_DY'] = data_afsnt_dly['SDT_DY'].apply(lambda x : change_dy(x))"
   ]
  },
  {
   "cell_type": "code",
   "execution_count": 14,
   "metadata": {},
   "outputs": [
    {
     "data": {
      "text/plain": [
       "DRR  DLY\n",
       "C02  Y      107738\n",
       "C01  Y        2031\n",
       "A01  Y        1524\n",
       "C10  Y        1227\n",
       "D01  Y         950\n",
       "C03  Y         907\n",
       "C14  Y         873\n",
       "Z99  Y         664\n",
       "A05  Y         596\n",
       "B01  Y         417\n",
       "A02  Y         361\n",
       "C04  Y         315\n",
       "Name: DLY, dtype: int64"
      ]
     },
     "execution_count": 14,
     "metadata": {},
     "output_type": "execute_result"
    }
   ],
   "source": [
    "data_afsnt.groupby('DRR')['DLY'].value_counts().sort_values(ascending=False).head(12)"
   ]
  },
  {
   "cell_type": "code",
   "execution_count": 15,
   "metadata": {},
   "outputs": [
    {
     "data": {
      "text/html": [
       "<div>\n",
       "<style scoped>\n",
       "    .dataframe tbody tr th:only-of-type {\n",
       "        vertical-align: middle;\n",
       "    }\n",
       "\n",
       "    .dataframe tbody tr th {\n",
       "        vertical-align: top;\n",
       "    }\n",
       "\n",
       "    .dataframe thead th {\n",
       "        text-align: right;\n",
       "    }\n",
       "</style>\n",
       "<table border=\"1\" class=\"dataframe\">\n",
       "  <thead>\n",
       "    <tr style=\"text-align: right;\">\n",
       "      <th></th>\n",
       "      <th></th>\n",
       "      <th>VALUE</th>\n",
       "      <th>rank</th>\n",
       "      <th>DRR_KOREAN</th>\n",
       "    </tr>\n",
       "    <tr>\n",
       "      <th>DRR</th>\n",
       "      <th>DLY</th>\n",
       "      <th></th>\n",
       "      <th></th>\n",
       "      <th></th>\n",
       "    </tr>\n",
       "  </thead>\n",
       "  <tbody>\n",
       "    <tr>\n",
       "      <th>C02</th>\n",
       "      <th>Y</th>\n",
       "      <td>107738</td>\n",
       "      <td>1</td>\n",
       "      <td>A/c접속</td>\n",
       "    </tr>\n",
       "    <tr>\n",
       "      <th>C01</th>\n",
       "      <th>Y</th>\n",
       "      <td>2031</td>\n",
       "      <td>2</td>\n",
       "      <td>A/C정비</td>\n",
       "    </tr>\n",
       "    <tr>\n",
       "      <th>A01</th>\n",
       "      <th>Y</th>\n",
       "      <td>1524</td>\n",
       "      <td>3</td>\n",
       "      <td>안개</td>\n",
       "    </tr>\n",
       "    <tr>\n",
       "      <th>C10</th>\n",
       "      <th>Y</th>\n",
       "      <td>1227</td>\n",
       "      <td>4</td>\n",
       "      <td>제방빙작업</td>\n",
       "    </tr>\n",
       "    <tr>\n",
       "      <th>D01</th>\n",
       "      <th>Y</th>\n",
       "      <td>950</td>\n",
       "      <td>5</td>\n",
       "      <td>항로혼잡</td>\n",
       "    </tr>\n",
       "    <tr>\n",
       "      <th>C03</th>\n",
       "      <th>Y</th>\n",
       "      <td>907</td>\n",
       "      <td>6</td>\n",
       "      <td>승객접속</td>\n",
       "    </tr>\n",
       "    <tr>\n",
       "      <th>C14</th>\n",
       "      <th>Y</th>\n",
       "      <td>873</td>\n",
       "      <td>7</td>\n",
       "      <td>승무원연결</td>\n",
       "    </tr>\n",
       "    <tr>\n",
       "      <th>Z99</th>\n",
       "      <th>Y</th>\n",
       "      <td>664</td>\n",
       "      <td>8</td>\n",
       "      <td>기타</td>\n",
       "    </tr>\n",
       "    <tr>\n",
       "      <th>A05</th>\n",
       "      <th>Y</th>\n",
       "      <td>596</td>\n",
       "      <td>9</td>\n",
       "      <td>강풍</td>\n",
       "    </tr>\n",
       "    <tr>\n",
       "      <th>B01</th>\n",
       "      <th>Y</th>\n",
       "      <td>417</td>\n",
       "      <td>10</td>\n",
       "      <td>계류장혼잡</td>\n",
       "    </tr>\n",
       "    <tr>\n",
       "      <th>A02</th>\n",
       "      <th>Y</th>\n",
       "      <td>361</td>\n",
       "      <td>11</td>\n",
       "      <td>강설</td>\n",
       "    </tr>\n",
       "    <tr>\n",
       "      <th>C04</th>\n",
       "      <th>Y</th>\n",
       "      <td>315</td>\n",
       "      <td>12</td>\n",
       "      <td>여객처리</td>\n",
       "    </tr>\n",
       "  </tbody>\n",
       "</table>\n",
       "</div>"
      ],
      "text/plain": [
       "          VALUE  rank DRR_KOREAN\n",
       "DRR DLY                         \n",
       "C02 Y    107738     1      A/c접속\n",
       "C01 Y      2031     2      A/C정비\n",
       "A01 Y      1524     3         안개\n",
       "C10 Y      1227     4      제방빙작업\n",
       "D01 Y       950     5       항로혼잡\n",
       "C03 Y       907     6       승객접속\n",
       "C14 Y       873     7      승무원연결\n",
       "Z99 Y       664     8         기타\n",
       "A05 Y       596     9         강풍\n",
       "B01 Y       417    10      계류장혼잡\n",
       "A02 Y       361    11         강설\n",
       "C04 Y       315    12       여객처리"
      ]
     },
     "execution_count": 15,
     "metadata": {},
     "output_type": "execute_result"
    }
   ],
   "source": [
    "# 지연,결항 사유를 많은 순서대로 나열\n",
    "weather_data = data_afsnt[['DRR','DLY']][data_afsnt['DLY'] == 'Y'].groupby('DRR')['DLY'].value_counts().sort_values(ascending=[False])\n",
    "DRR = []\n",
    "DLY = []\n",
    "for i in weather_data.index:\n",
    "    DRR.append(i[0])\n",
    "for i in weather_data.index:\n",
    "    DLY.append(i[1])\n",
    "\n",
    "rank_DRR = pd.DataFrame({'VALUE' : weather_data, 'rank' : range(1,37)})\n",
    "rank_DRR = rank_DRR.sort_values(by='DRR')\n",
    "rank_DRR['DRR_KOREAN'] = ['안개','강설','강우','태풍','강풍','상층풍','운고','기상-항로','기상-뇌우','기상-기타','계류장혼잡',\n",
    "                    '사고','활주로사정','행사','공항폐쇄','이륙대기','Curfew','A/C정비','A/c접속','승객접속','여객처리',\n",
    "                    '지상조업','SKD변경','항공기부족','환자','제방빙작업','보안검색','조종사자격','승무원휴식',\n",
    "                    '승무원연결','화물탑재','화물연결','항로혼잡','관제','복합원인','기타']\n",
    "\n",
    "rank_DRR = rank_DRR.sort_values(by='rank')\n",
    "rank_DRR.head(12) # 12개까지 많은 수를 보인다고 봤다"
   ]
  },
  {
   "cell_type": "code",
   "execution_count": 14,
   "metadata": {},
   "outputs": [
    {
     "data": {
      "text/plain": [
       "<matplotlib.axes._subplots.AxesSubplot at 0x264ee7b8>"
      ]
     },
     "execution_count": 14,
     "metadata": {},
     "output_type": "execute_result"
    },
    {
     "data": {
      "image/png": "[encoded data removed]",
      "text/plain": [
       "<Figure size 720x432 with 1 Axes>"
      ]
     },
     "metadata": {
      "needs_background": "light"
     },
     "output_type": "display_data"
    }
   ],
   "source": [
    "plt.figure(figsize=(10,6))\n",
    "sns.barplot(data=data_afsnt,x='SDT_MM',y='NUM')"
   ]
  },
  {
   "cell_type": "code",
   "execution_count": 15,
   "metadata": {},
   "outputs": [
    {
     "data": {
      "text/plain": [
       "<matplotlib.axes._subplots.AxesSubplot at 0x264ee1d0>"
      ]
     },
     "execution_count": 15,
     "metadata": {},
     "output_type": "execute_result"
    },
    {
     "data": {
      "image/png": "[encoded data removed]",
      "text/plain": [
       "<Figure size 720x432 with 1 Axes>"
      ]
     },
     "metadata": {
      "needs_background": "light"
     },
     "output_type": "display_data"
    }
   ],
   "source": [
    "plt.figure(figsize=(10,6))\n",
    "sns.barplot(data=data_afsnt,x='HOUR',y='NUM')"
   ]
  },
  {
   "cell_type": "code",
   "execution_count": 16,
   "metadata": {},
   "outputs": [
    {
     "data": {
      "text/plain": [
       "<matplotlib.axes._subplots.AxesSubplot at 0xcb29e10>"
      ]
     },
     "execution_count": 16,
     "metadata": {},
     "output_type": "execute_result"
    },
    {
     "data": {
      "image/png": "[encoded data removed]",
      "text/plain": [
       "<Figure size 720x432 with 1 Axes>"
      ]
     },
     "metadata": {
      "needs_background": "light"
     },
     "output_type": "display_data"
    }
   ],
   "source": [
    "plt.figure(figsize=(10,6))\n",
    "sns.barplot(data=data_afsnt,x='ARP',y='NUM')"
   ]
  },
  {
   "cell_type": "code",
   "execution_count": 17,
   "metadata": {},
   "outputs": [
    {
     "data": {
      "text/plain": [
       "<matplotlib.axes._subplots.AxesSubplot at 0x5cf5978>"
      ]
     },
     "execution_count": 17,
     "metadata": {},
     "output_type": "execute_result"
    },
    {
     "data": {
      "image/png": "[encoded data removed]",
      "text/plain": [
       "<Figure size 720x432 with 1 Axes>"
      ]
     },
     "metadata": {
      "needs_background": "light"
     },
     "output_type": "display_data"
    }
   ],
   "source": [
    "plt.figure(figsize=(10,6))\n",
    "sns.barplot(data=data_afsnt,x='ARP',y='NUM',hue='AOD')"
   ]
  },
  {
   "cell_type": "code",
   "execution_count": 18,
   "metadata": {},
   "outputs": [
    {
     "data": {
      "text/plain": [
       "<matplotlib.axes._subplots.AxesSubplot at 0xc7ee048>"
      ]
     },
     "execution_count": 18,
     "metadata": {},
     "output_type": "execute_result"
    },
    {
     "data": {
      "image/png": "[encoded data removed]",
      "text/plain": [
       "<Figure size 720x432 with 1 Axes>"
      ]
     },
     "metadata": {
      "needs_background": "light"
     },
     "output_type": "display_data"
    }
   ],
   "source": [
    "plot_data = data_afsnt[:].sort_values(by=['SDT_YY','SDT_MM','SDT_DD','STT'])\n",
    "plot_data = plot_data.groupby(['DATE'])['NUM'].sum()\n",
    "plt.figure(figsize=(10,6))\n",
    "sns.distplot(plot_data)"
   ]
  },
  {
   "cell_type": "code",
   "execution_count": 19,
   "metadata": {},
   "outputs": [
    {
     "data": {
      "image/png": "[encoded data removed]",
      "text/plain": [
       "<Figure size 2160x432 with 1 Axes>"
      ]
     },
     "metadata": {
      "needs_background": "light"
     },
     "output_type": "display_data"
    }
   ],
   "source": [
    "a = [0]*29+[800]\n",
    "a = a*73\n",
    "a = a[:875]\n",
    "\n",
    "# 전체 기간 하루별 지연건수합\n",
    "plt.figure(figsize=(30,6))\n",
    "plt.plot(list(plot_data.index),plot_data,color='green',marker='o',linestyle='solid')\n",
    "plt.plot(list(plot_data.index),a,linestyle='solid' )\n",
    "plt.show()"
   ]
  },
  {
   "cell_type": "code",
   "execution_count": 20,
   "metadata": {},
   "outputs": [
    {
     "data": {
      "image/png": "[encoded data removed]",
      "text/plain": [
       "<Figure size 2160x432 with 1 Axes>"
      ]
     },
     "metadata": {
      "needs_background": "light"
     },
     "output_type": "display_data"
    }
   ],
   "source": [
    "# 3년동안 월별 지연건수\n",
    "plots_data = data_afsnt[:].sort_values(['SDT_YY','SDT_MM','SDT_DD'])\n",
    "plots_data = plots_data.groupby(['SDT_MM'])['NUM'].sum()\n",
    "plt.figure(figsize=(30,6))\n",
    "plt.plot(list(plots_data.index),plots_data,marker='o',linestyle='solid')\n",
    "plt.show()"
   ]
  },
  {
   "cell_type": "code",
   "execution_count": 21,
   "metadata": {},
   "outputs": [
    {
     "name": "stderr",
     "output_type": "stream",
     "text": [
      "No handles with labels found to put in legend.\n"
     ]
    },
    {
     "data": {
      "text/plain": [
       "<matplotlib.axes._subplots.AxesSubplot at 0x17ae2518>"
      ]
     },
     "execution_count": 21,
     "metadata": {},
     "output_type": "execute_result"
    },
    {
     "data": {
      "image/png": "[encoded data removed]",
      "text/plain": [
       "<Figure size 720x432 with 1 Axes>"
      ]
     },
     "metadata": {
      "needs_background": "light"
     },
     "output_type": "display_data"
    }
   ],
   "source": [
    "plt.figure(figsize=(10,6))\n",
    "plt.legend(loc=1)\n",
    "sns.barplot(data=data_afsnt,x='ODP',y='NUM',hue='AOD')\n"
   ]
  },
  {
   "cell_type": "code",
   "execution_count": 22,
   "metadata": {},
   "outputs": [
    {
     "data": {
      "text/plain": [
       "<matplotlib.axes._subplots.AxesSubplot at 0x17ae2588>"
      ]
     },
     "execution_count": 22,
     "metadata": {},
     "output_type": "execute_result"
    },
    {
     "data": {
      "image/png": "[encoded data removed]",
      "text/plain": [
       "<Figure size 720x432 with 1 Axes>"
      ]
     },
     "metadata": {
      "needs_background": "light"
     },
     "output_type": "display_data"
    }
   ],
   "source": [
    "plt.figure(figsize=(10,6))\n",
    "sns.barplot(data=data_afsnt,x='AOD',y='NUM')"
   ]
  },
  {
   "cell_type": "code",
   "execution_count": 23,
   "metadata": {},
   "outputs": [
    {
     "data": {
      "text/plain": [
       "<matplotlib.axes._subplots.AxesSubplot at 0x17b006a0>"
      ]
     },
     "execution_count": 23,
     "metadata": {},
     "output_type": "execute_result"
    },
    {
     "data": {
      "image/png": "[encoded data removed]",
      "text/plain": [
       "<Figure size 720x1152 with 1 Axes>"
      ]
     },
     "metadata": {
      "needs_background": "light"
     },
     "output_type": "display_data"
    }
   ],
   "source": [
    "plt.figure(figsize=(10,16))\n",
    "sns.barplot(data=data_afsnt,x='GROUP',y='NUM')"
   ]
  },
  {
   "cell_type": "code",
   "execution_count": 24,
   "metadata": {
    "scrolled": true
   },
   "outputs": [
    {
     "data": {
      "text/plain": [
       "<matplotlib.axes._subplots.AxesSubplot at 0x17b962e8>"
      ]
     },
     "execution_count": 24,
     "metadata": {},
     "output_type": "execute_result"
    },
    {
     "data": {
      "image/png": "[encoded data removed]",
      "text/plain": [
       "<Figure size 720x1152 with 1 Axes>"
      ]
     },
     "metadata": {
      "needs_background": "light"
     },
     "output_type": "display_data"
    }
   ],
   "source": [
    "# G,E,C,D,K 는 부정기편이다.\n",
    "plt.figure(figsize=(10,16))\n",
    "sns.barplot(data=data_afsnt,x='FLO',y='NUM')"
   ]
  },
  {
   "cell_type": "code",
   "execution_count": 25,
   "metadata": {},
   "outputs": [
    {
     "data": {
      "text/plain": [
       "<matplotlib.axes._subplots.AxesSubplot at 0xc50ce80>"
      ]
     },
     "execution_count": 25,
     "metadata": {},
     "output_type": "execute_result"
    },
    {
     "data": {
      "image/png": "[encoded data removed]",
      "text/plain": [
       "<Figure size 720x1152 with 1 Axes>"
      ]
     },
     "metadata": {
      "needs_background": "light"
     },
     "output_type": "display_data"
    }
   ],
   "source": [
    "plt.figure(figsize=(10,16))\n",
    "sns.barplot(data=data_afsnt[data_afsnt['FLO'] == 'J'],x='GROUP',y='NUM')"
   ]
  },
  {
   "cell_type": "code",
   "execution_count": 26,
   "metadata": {},
   "outputs": [
    {
     "data": {
      "text/plain": [
       "<matplotlib.axes._subplots.AxesSubplot at 0x17a00c88>"
      ]
     },
     "execution_count": 26,
     "metadata": {},
     "output_type": "execute_result"
    },
    {
     "data": {
      "image/png": "[encoded data removed]",
      "text/plain": [
       "<Figure size 720x1152 with 1 Axes>"
      ]
     },
     "metadata": {
      "needs_background": "light"
     },
     "output_type": "display_data"
    }
   ],
   "source": [
    "plt.figure(figsize=(10,16))\n",
    "sns.barplot(data=data_afsnt, x='SDT_DY',y='NUM')"
   ]
  },
  {
   "cell_type": "code",
   "execution_count": 16,
   "metadata": {},
   "outputs": [
    {
     "data": {
      "text/plain": [
       "8     435\n",
       "9     308\n",
       "7     304\n",
       "6     141\n",
       "10    140\n",
       "11     83\n",
       "12     34\n",
       "16     12\n",
       "13     11\n",
       "17     11\n",
       "14     10\n",
       "20      9\n",
       "19      7\n",
       "18      7\n",
       "15      6\n",
       "22      4\n",
       "21      1\n",
       "5       1\n",
       "Name: HOUR, dtype: int64"
      ]
     },
     "execution_count": 16,
     "metadata": {},
     "output_type": "execute_result"
    }
   ],
   "source": [
    "data_afsnt[data_afsnt['DRR'] == 'A01']['HOUR'].value_counts()"
   ]
  },
  {
   "cell_type": "code",
   "execution_count": 17,
   "metadata": {},
   "outputs": [
    {
     "data": {
      "text/plain": [
       "SDT_DY  NUM\n",
       "FRI     0      121849\n",
       "        1       20993\n",
       "MON     0      122926\n",
       "        1       18540\n",
       "SAT     0      127370\n",
       "        1       13867\n",
       "SUN     0      126872\n",
       "        1       17001\n",
       "TUE     0      124080\n",
       "        1       15098\n",
       "TUR     0      122067\n",
       "        1       17726\n",
       "WED     0      123608\n",
       "        1       15712\n",
       "Name: NUM, dtype: int64"
      ]
     },
     "execution_count": 17,
     "metadata": {},
     "output_type": "execute_result"
    }
   ],
   "source": [
    "data_afsnt.groupby('SDT_DY')['NUM'].value_counts()"
   ]
  },
  {
   "cell_type": "code",
   "execution_count": 18,
   "metadata": {},
   "outputs": [],
   "source": [
    "afsnt_group = list(data_afsnt['GROUP'].value_counts().index)\n",
    "afsnt_flo = list(data_afsnt['FLO'].value_counts().index)\n",
    "afsnt_flt = list(data_afsnt['FLT'].value_counts().index)"
   ]
  },
  {
   "cell_type": "code",
   "execution_count": 19,
   "metadata": {},
   "outputs": [],
   "source": [
    "sfsnt_group = list(data_sfsnt['GROUP'].value_counts().index)\n",
    "sfsnt_flo = list(data_sfsnt['FLO'].value_counts().index)"
   ]
  },
  {
   "cell_type": "code",
   "execution_count": 20,
   "metadata": {},
   "outputs": [],
   "source": [
    "afsnt_dly_group = list(data_afsnt_dly['GROUP'].value_counts().index)\n",
    "afsnt_dly_flo = list(data_afsnt_dly['FLO'].value_counts().index)\n",
    "afsnt_dly_flt = list(data_afsnt_dly['FLT'].value_counts().index)"
   ]
  },
  {
   "cell_type": "code",
   "execution_count": 21,
   "metadata": {},
   "outputs": [
    {
     "name": "stdout",
     "output_type": "stream",
     "text": [
      "ARP10ARP3 가 없다\n"
     ]
    }
   ],
   "source": [
    "# test 데이터에는 ARP10ARP3가 있지만 train 데이터에는 ARP10ARP3가 없다.\n",
    "for i in afsnt_dly_group:\n",
    "    if i in afsnt_group:\n",
    "        continue\n",
    "    else:\n",
    "        print(i,'가 없다')"
   ]
  },
  {
   "cell_type": "code",
   "execution_count": 22,
   "metadata": {},
   "outputs": [
    {
     "name": "stdout",
     "output_type": "stream",
     "text": [
      "FLO에 M 이 없다\n"
     ]
    }
   ],
   "source": [
    "# test데이터에는 FLO에 M이 있지만 train 데이터에는 M이 없다.\n",
    "for i in afsnt_dly_flo:\n",
    "    if i in afsnt_flo:\n",
    "        continue\n",
    "    else:\n",
    "        print('FLO에',i,'이 없다')"
   ]
  },
  {
   "cell_type": "code",
   "execution_count": 23,
   "metadata": {},
   "outputs": [
    {
     "name": "stdout",
     "output_type": "stream",
     "text": [
      "FLT에 M1363 이 없다\n",
      "FLT에 M1361 이 없다\n",
      "FLT에 M1352 이 없다\n",
      "FLT에 M1351 이 없다\n",
      "FLT에 J1809 이 없다\n"
     ]
    },
    {
     "data": {
      "text/html": [
       "<div>\n",
       "<style scoped>\n",
       "    .dataframe tbody tr th:only-of-type {\n",
       "        vertical-align: middle;\n",
       "    }\n",
       "\n",
       "    .dataframe tbody tr th {\n",
       "        vertical-align: top;\n",
       "    }\n",
       "\n",
       "    .dataframe thead th {\n",
       "        text-align: right;\n",
       "    }\n",
       "</style>\n",
       "<table border=\"1\" class=\"dataframe\">\n",
       "  <thead>\n",
       "    <tr style=\"text-align: right;\">\n",
       "      <th></th>\n",
       "      <th>SDT_YY</th>\n",
       "      <th>SDT_MM</th>\n",
       "      <th>SDT_DD</th>\n",
       "      <th>SDT_DY</th>\n",
       "      <th>ARP</th>\n",
       "      <th>ODP</th>\n",
       "      <th>FLO</th>\n",
       "      <th>FLT</th>\n",
       "      <th>AOD</th>\n",
       "      <th>STT</th>\n",
       "      <th>DLY</th>\n",
       "      <th>DLY_RATE</th>\n",
       "      <th>GROUP</th>\n",
       "    </tr>\n",
       "  </thead>\n",
       "  <tbody>\n",
       "    <tr>\n",
       "      <th>2083</th>\n",
       "      <td>2019</td>\n",
       "      <td>9</td>\n",
       "      <td>17</td>\n",
       "      <td>TUE</td>\n",
       "      <td>ARP4</td>\n",
       "      <td>ARP3</td>\n",
       "      <td>J</td>\n",
       "      <td>J1809</td>\n",
       "      <td>A</td>\n",
       "      <td>14:05</td>\n",
       "      <td>NaN</td>\n",
       "      <td>NaN</td>\n",
       "      <td>ARP3ARP4</td>\n",
       "    </tr>\n",
       "    <tr>\n",
       "      <th>2084</th>\n",
       "      <td>2019</td>\n",
       "      <td>9</td>\n",
       "      <td>17</td>\n",
       "      <td>TUE</td>\n",
       "      <td>ARP3</td>\n",
       "      <td>ARP4</td>\n",
       "      <td>J</td>\n",
       "      <td>J1809</td>\n",
       "      <td>D</td>\n",
       "      <td>13:00</td>\n",
       "      <td>NaN</td>\n",
       "      <td>NaN</td>\n",
       "      <td>ARP3ARP4</td>\n",
       "    </tr>\n",
       "    <tr>\n",
       "      <th>9578</th>\n",
       "      <td>2019</td>\n",
       "      <td>9</td>\n",
       "      <td>24</td>\n",
       "      <td>TUE</td>\n",
       "      <td>ARP4</td>\n",
       "      <td>ARP3</td>\n",
       "      <td>J</td>\n",
       "      <td>J1809</td>\n",
       "      <td>A</td>\n",
       "      <td>14:05</td>\n",
       "      <td>NaN</td>\n",
       "      <td>NaN</td>\n",
       "      <td>ARP3ARP4</td>\n",
       "    </tr>\n",
       "    <tr>\n",
       "      <th>9579</th>\n",
       "      <td>2019</td>\n",
       "      <td>9</td>\n",
       "      <td>24</td>\n",
       "      <td>TUE</td>\n",
       "      <td>ARP3</td>\n",
       "      <td>ARP4</td>\n",
       "      <td>J</td>\n",
       "      <td>J1809</td>\n",
       "      <td>D</td>\n",
       "      <td>13:00</td>\n",
       "      <td>NaN</td>\n",
       "      <td>NaN</td>\n",
       "      <td>ARP3ARP4</td>\n",
       "    </tr>\n",
       "  </tbody>\n",
       "</table>\n",
       "</div>"
      ],
      "text/plain": [
       "      SDT_YY  SDT_MM  SDT_DD SDT_DY   ARP   ODP FLO    FLT AOD    STT  DLY  \\\n",
       "2083    2019       9      17    TUE  ARP4  ARP3   J  J1809   A  14:05  NaN   \n",
       "2084    2019       9      17    TUE  ARP3  ARP4   J  J1809   D  13:00  NaN   \n",
       "9578    2019       9      24    TUE  ARP4  ARP3   J  J1809   A  14:05  NaN   \n",
       "9579    2019       9      24    TUE  ARP3  ARP4   J  J1809   D  13:00  NaN   \n",
       "\n",
       "      DLY_RATE     GROUP  \n",
       "2083       NaN  ARP3ARP4  \n",
       "2084       NaN  ARP3ARP4  \n",
       "9578       NaN  ARP3ARP4  \n",
       "9579       NaN  ARP3ARP4  "
      ]
     },
     "execution_count": 23,
     "metadata": {},
     "output_type": "execute_result"
    }
   ],
   "source": [
    "# FLT는 M사 제외하고 J도 없긴하지만 출발항공사와 도착항공사 알기때문에 큰 문제는 되지 않을 것이다.\n",
    "for i in afsnt_dly_flt:\n",
    "    if i in afsnt_flt:\n",
    "        continue\n",
    "    else:\n",
    "        print('FLT에',i,'이 없다')\n",
    "data_afsnt_dly[data_afsnt_dly['FLT'] == 'J1809']"
   ]
  },
  {
   "cell_type": "code",
   "execution_count": 24,
   "metadata": {},
   "outputs": [
    {
     "data": {
      "text/html": [
       "<div>\n",
       "<style scoped>\n",
       "    .dataframe tbody tr th:only-of-type {\n",
       "        vertical-align: middle;\n",
       "    }\n",
       "\n",
       "    .dataframe tbody tr th {\n",
       "        vertical-align: top;\n",
       "    }\n",
       "\n",
       "    .dataframe thead th {\n",
       "        text-align: right;\n",
       "    }\n",
       "</style>\n",
       "<table border=\"1\" class=\"dataframe\">\n",
       "  <thead>\n",
       "    <tr style=\"text-align: right;\">\n",
       "      <th></th>\n",
       "      <th>SDT_YY</th>\n",
       "      <th>SDT_MM</th>\n",
       "      <th>SDT_DD</th>\n",
       "      <th>SDT_DY</th>\n",
       "      <th>ARP</th>\n",
       "      <th>ODP</th>\n",
       "      <th>FLO</th>\n",
       "      <th>FLT</th>\n",
       "      <th>REG</th>\n",
       "      <th>AOD</th>\n",
       "      <th>...</th>\n",
       "      <th>ATT</th>\n",
       "      <th>DLY</th>\n",
       "      <th>DRR</th>\n",
       "      <th>CNL</th>\n",
       "      <th>CNR</th>\n",
       "      <th>NUM</th>\n",
       "      <th>HOUR</th>\n",
       "      <th>GROUP</th>\n",
       "      <th>MINUTE</th>\n",
       "      <th>DATE</th>\n",
       "    </tr>\n",
       "  </thead>\n",
       "  <tbody>\n",
       "    <tr>\n",
       "      <th>0</th>\n",
       "      <td>2017</td>\n",
       "      <td>1</td>\n",
       "      <td>1</td>\n",
       "      <td>SUN</td>\n",
       "      <td>ARP3</td>\n",
       "      <td>ARP6</td>\n",
       "      <td>J</td>\n",
       "      <td>J1955</td>\n",
       "      <td>SEw3NzE4</td>\n",
       "      <td>D</td>\n",
       "      <td>...</td>\n",
       "      <td>10:32</td>\n",
       "      <td>N</td>\n",
       "      <td>NaN</td>\n",
       "      <td>N</td>\n",
       "      <td>NaN</td>\n",
       "      <td>0</td>\n",
       "      <td>10</td>\n",
       "      <td>ARP3ARP6</td>\n",
       "      <td>5</td>\n",
       "      <td>201711</td>\n",
       "    </tr>\n",
       "    <tr>\n",
       "      <th>1</th>\n",
       "      <td>2017</td>\n",
       "      <td>1</td>\n",
       "      <td>1</td>\n",
       "      <td>SUN</td>\n",
       "      <td>ARP3</td>\n",
       "      <td>ARP6</td>\n",
       "      <td>J</td>\n",
       "      <td>J1954</td>\n",
       "      <td>SEw3NzE4</td>\n",
       "      <td>A</td>\n",
       "      <td>...</td>\n",
       "      <td>9:31</td>\n",
       "      <td>N</td>\n",
       "      <td>NaN</td>\n",
       "      <td>N</td>\n",
       "      <td>NaN</td>\n",
       "      <td>0</td>\n",
       "      <td>9</td>\n",
       "      <td>ARP3ARP6</td>\n",
       "      <td>30</td>\n",
       "      <td>201711</td>\n",
       "    </tr>\n",
       "    <tr>\n",
       "      <th>2</th>\n",
       "      <td>2017</td>\n",
       "      <td>1</td>\n",
       "      <td>1</td>\n",
       "      <td>SUN</td>\n",
       "      <td>ARP3</td>\n",
       "      <td>ARP6</td>\n",
       "      <td>J</td>\n",
       "      <td>J1956</td>\n",
       "      <td>SEw3NzE4</td>\n",
       "      <td>A</td>\n",
       "      <td>...</td>\n",
       "      <td>13:03</td>\n",
       "      <td>N</td>\n",
       "      <td>NaN</td>\n",
       "      <td>N</td>\n",
       "      <td>NaN</td>\n",
       "      <td>0</td>\n",
       "      <td>12</td>\n",
       "      <td>ARP3ARP6</td>\n",
       "      <td>45</td>\n",
       "      <td>201711</td>\n",
       "    </tr>\n",
       "  </tbody>\n",
       "</table>\n",
       "<p>3 rows × 22 columns</p>\n",
       "</div>"
      ],
      "text/plain": [
       "   SDT_YY  SDT_MM  SDT_DD SDT_DY   ARP   ODP FLO    FLT       REG AOD  ...  \\\n",
       "0    2017       1       1    SUN  ARP3  ARP6   J  J1955  SEw3NzE4   D  ...   \n",
       "1    2017       1       1    SUN  ARP3  ARP6   J  J1954  SEw3NzE4   A  ...   \n",
       "2    2017       1       1    SUN  ARP3  ARP6   J  J1956  SEw3NzE4   A  ...   \n",
       "\n",
       "     ATT DLY  DRR CNL  CNR NUM HOUR     GROUP  MINUTE    DATE  \n",
       "0  10:32   N  NaN   N  NaN   0   10  ARP3ARP6       5  201711  \n",
       "1   9:31   N  NaN   N  NaN   0    9  ARP3ARP6      30  201711  \n",
       "2  13:03   N  NaN   N  NaN   0   12  ARP3ARP6      45  201711  \n",
       "\n",
       "[3 rows x 22 columns]"
      ]
     },
     "execution_count": 24,
     "metadata": {},
     "output_type": "execute_result"
    }
   ],
   "source": [
    "data_afsnt.head(3)"
   ]
  },
  {
   "cell_type": "code",
   "execution_count": 25,
   "metadata": {},
   "outputs": [
    {
     "data": {
      "text/html": [
       "<div>\n",
       "<style scoped>\n",
       "    .dataframe tbody tr th:only-of-type {\n",
       "        vertical-align: middle;\n",
       "    }\n",
       "\n",
       "    .dataframe tbody tr th {\n",
       "        vertical-align: top;\n",
       "    }\n",
       "\n",
       "    .dataframe thead th {\n",
       "        text-align: right;\n",
       "    }\n",
       "</style>\n",
       "<table border=\"1\" class=\"dataframe\">\n",
       "  <thead>\n",
       "    <tr style=\"text-align: right;\">\n",
       "      <th></th>\n",
       "      <th>SSC</th>\n",
       "      <th>FLT</th>\n",
       "      <th>ORG</th>\n",
       "      <th>DES</th>\n",
       "      <th>STD</th>\n",
       "      <th>STA</th>\n",
       "      <th>FLO</th>\n",
       "      <th>MON</th>\n",
       "      <th>TUE</th>\n",
       "      <th>WED</th>\n",
       "      <th>...</th>\n",
       "      <th>SUN</th>\n",
       "      <th>FSD</th>\n",
       "      <th>FED</th>\n",
       "      <th>IRR</th>\n",
       "      <th>GROUP</th>\n",
       "      <th>STD_HOUR</th>\n",
       "      <th>STD_MINUTE</th>\n",
       "      <th>STA_HOUR</th>\n",
       "      <th>STA_MINUTE</th>\n",
       "      <th>DISTANCE</th>\n",
       "    </tr>\n",
       "  </thead>\n",
       "  <tbody>\n",
       "    <tr>\n",
       "      <th>0</th>\n",
       "      <td>S19</td>\n",
       "      <td>A1915</td>\n",
       "      <td>ARP1</td>\n",
       "      <td>ARP3</td>\n",
       "      <td>7:55</td>\n",
       "      <td>9:05</td>\n",
       "      <td>A</td>\n",
       "      <td>Y</td>\n",
       "      <td>Y</td>\n",
       "      <td>Y</td>\n",
       "      <td>...</td>\n",
       "      <td>Y</td>\n",
       "      <td>20190331</td>\n",
       "      <td>20191026</td>\n",
       "      <td>N</td>\n",
       "      <td>ARP1ARP3</td>\n",
       "      <td>7</td>\n",
       "      <td>55</td>\n",
       "      <td>9</td>\n",
       "      <td>5</td>\n",
       "      <td>70</td>\n",
       "    </tr>\n",
       "    <tr>\n",
       "      <th>1</th>\n",
       "      <td>S19</td>\n",
       "      <td>A1904</td>\n",
       "      <td>ARP3</td>\n",
       "      <td>ARP1</td>\n",
       "      <td>7:55</td>\n",
       "      <td>9:05</td>\n",
       "      <td>A</td>\n",
       "      <td>Y</td>\n",
       "      <td>Y</td>\n",
       "      <td>Y</td>\n",
       "      <td>...</td>\n",
       "      <td>Y</td>\n",
       "      <td>20190331</td>\n",
       "      <td>20191026</td>\n",
       "      <td>N</td>\n",
       "      <td>ARP1ARP3</td>\n",
       "      <td>7</td>\n",
       "      <td>55</td>\n",
       "      <td>9</td>\n",
       "      <td>5</td>\n",
       "      <td>70</td>\n",
       "    </tr>\n",
       "    <tr>\n",
       "      <th>2</th>\n",
       "      <td>S19</td>\n",
       "      <td>I1304</td>\n",
       "      <td>ARP3</td>\n",
       "      <td>ARP1</td>\n",
       "      <td>8:00</td>\n",
       "      <td>9:15</td>\n",
       "      <td>I</td>\n",
       "      <td>Y</td>\n",
       "      <td>NaN</td>\n",
       "      <td>Y</td>\n",
       "      <td>...</td>\n",
       "      <td>Y</td>\n",
       "      <td>20190331</td>\n",
       "      <td>20191026</td>\n",
       "      <td>N</td>\n",
       "      <td>ARP1ARP3</td>\n",
       "      <td>8</td>\n",
       "      <td>0</td>\n",
       "      <td>9</td>\n",
       "      <td>15</td>\n",
       "      <td>75</td>\n",
       "    </tr>\n",
       "  </tbody>\n",
       "</table>\n",
       "<p>3 rows × 23 columns</p>\n",
       "</div>"
      ],
      "text/plain": [
       "   SSC    FLT   ORG   DES   STD   STA FLO MON  TUE WED  ... SUN       FSD  \\\n",
       "0  S19  A1915  ARP1  ARP3  7:55  9:05   A   Y    Y   Y  ...   Y  20190331   \n",
       "1  S19  A1904  ARP3  ARP1  7:55  9:05   A   Y    Y   Y  ...   Y  20190331   \n",
       "2  S19  I1304  ARP3  ARP1  8:00  9:15   I   Y  NaN   Y  ...   Y  20190331   \n",
       "\n",
       "        FED IRR     GROUP  STD_HOUR STD_MINUTE STA_HOUR  STA_MINUTE  DISTANCE  \n",
       "0  20191026   N  ARP1ARP3         7         55        9           5        70  \n",
       "1  20191026   N  ARP1ARP3         7         55        9           5        70  \n",
       "2  20191026   N  ARP1ARP3         8          0        9          15        75  \n",
       "\n",
       "[3 rows x 23 columns]"
      ]
     },
     "execution_count": 25,
     "metadata": {},
     "output_type": "execute_result"
    }
   ],
   "source": [
    "data_sfsnt.head(3)"
   ]
  },
  {
   "cell_type": "code",
   "execution_count": 26,
   "metadata": {},
   "outputs": [],
   "source": [
    "# index로 활용하기 위해서 값들을 뽑아 list로 만드는 작업\n",
    "# test = data_afsnt[['ARP','ODP','FLO']]\n",
    "# l = []\n",
    "# for i in range(len(test)):\n",
    "#     l.append(list(test.iloc[i]))\n",
    "#     if i % 100000 == 0:\n",
    "#         print(i)\n"
   ]
  },
  {
   "cell_type": "code",
   "execution_count": 27,
   "metadata": {},
   "outputs": [],
   "source": [
    "import pickle\n",
    "# with open('index_for_distance.pkl', 'wb') as fout:\n",
    "#      pickle.dump(l, fout)\n",
    "with open('index_for_distance.pkl', 'rb') as fin:\n",
    "    index_for_distance = []\n",
    "    index_for_distance = pickle.load(fin)\n"
   ]
  },
  {
   "cell_type": "code",
   "execution_count": 28,
   "metadata": {},
   "outputs": [],
   "source": [
    "sfsnt_groupby = data_sfsnt.groupby(['ORG','DES','FLO'])['DISTANCE'].mean()\n",
    "sfsnt_groupby_index = [list(i) for i in sfsnt_groupby.index]"
   ]
  },
  {
   "cell_type": "code",
   "execution_count": 29,
   "metadata": {},
   "outputs": [],
   "source": [
    "distance = []\n",
    "# a = 0\n",
    "# for i in index_for_distance:\n",
    "#     if i in sfsnt_groupby_index:\n",
    "#         val = sfsnt_groupby[i[0],i[1],i[2]]\n",
    "#         distance.append(val)\n",
    "#     else:\n",
    "#         distance.append(np.NaN)\n",
    "#     if a % 50000 == 0:\n",
    "#         print(a)\n",
    "#     a = a + 1\n",
    "    "
   ]
  },
  {
   "cell_type": "code",
   "execution_count": 30,
   "metadata": {},
   "outputs": [],
   "source": [
    "# distance도 pickle로 저장\n",
    "# with open('distance_list.pkl', 'wb') as fout:\n",
    "#      pickle.dump(distance, fout)\n",
    "with open('distance_list.pkl', 'rb') as fin:\n",
    "    distance = []\n",
    "    distance = pickle.load(fin)\n",
    "distance1 = distance[:]"
   ]
  },
  {
   "cell_type": "code",
   "execution_count": 31,
   "metadata": {},
   "outputs": [],
   "source": [
    "data_afsnt['DISTANCE'] = distance\n",
    "data_afsnt['FLIGHT_MEAN'] = distance1"
   ]
  },
  {
   "cell_type": "code",
   "execution_count": 32,
   "metadata": {},
   "outputs": [
    {
     "data": {
      "text/html": [
       "<div>\n",
       "<style scoped>\n",
       "    .dataframe tbody tr th:only-of-type {\n",
       "        vertical-align: middle;\n",
       "    }\n",
       "\n",
       "    .dataframe tbody tr th {\n",
       "        vertical-align: top;\n",
       "    }\n",
       "\n",
       "    .dataframe thead th {\n",
       "        text-align: right;\n",
       "    }\n",
       "</style>\n",
       "<table border=\"1\" class=\"dataframe\">\n",
       "  <thead>\n",
       "    <tr style=\"text-align: right;\">\n",
       "      <th></th>\n",
       "      <th>SDT_YY</th>\n",
       "      <th>SDT_MM</th>\n",
       "      <th>SDT_DD</th>\n",
       "      <th>ARP</th>\n",
       "      <th>ODP</th>\n",
       "      <th>FLO</th>\n",
       "      <th>REG</th>\n",
       "      <th>AOD</th>\n",
       "      <th>STT</th>\n",
       "      <th>GROUP</th>\n",
       "      <th>DISTANCE</th>\n",
       "    </tr>\n",
       "  </thead>\n",
       "  <tbody>\n",
       "    <tr>\n",
       "      <th>511</th>\n",
       "      <td>2017</td>\n",
       "      <td>1</td>\n",
       "      <td>2</td>\n",
       "      <td>ARP1</td>\n",
       "      <td>ARP15</td>\n",
       "      <td>J</td>\n",
       "      <td>SEw3NDYw</td>\n",
       "      <td>D</td>\n",
       "      <td>6:20</td>\n",
       "      <td>ARP1ARP15</td>\n",
       "      <td>NaN</td>\n",
       "    </tr>\n",
       "    <tr>\n",
       "      <th>512</th>\n",
       "      <td>2017</td>\n",
       "      <td>1</td>\n",
       "      <td>2</td>\n",
       "      <td>ARP1</td>\n",
       "      <td>ARP15</td>\n",
       "      <td>J</td>\n",
       "      <td>SEw3NzY1</td>\n",
       "      <td>A</td>\n",
       "      <td>8:15</td>\n",
       "      <td>ARP1ARP15</td>\n",
       "      <td>NaN</td>\n",
       "    </tr>\n",
       "    <tr>\n",
       "      <th>3783</th>\n",
       "      <td>2017</td>\n",
       "      <td>1</td>\n",
       "      <td>13</td>\n",
       "      <td>ARP1</td>\n",
       "      <td>ARP15</td>\n",
       "      <td>J</td>\n",
       "      <td>SEw3NzE0</td>\n",
       "      <td>A</td>\n",
       "      <td>7:45</td>\n",
       "      <td>ARP1ARP15</td>\n",
       "      <td>NaN</td>\n",
       "    </tr>\n",
       "  </tbody>\n",
       "</table>\n",
       "</div>"
      ],
      "text/plain": [
       "      SDT_YY  SDT_MM  SDT_DD   ARP    ODP FLO       REG AOD   STT      GROUP  \\\n",
       "511     2017       1       2  ARP1  ARP15   J  SEw3NDYw   D  6:20  ARP1ARP15   \n",
       "512     2017       1       2  ARP1  ARP15   J  SEw3NzY1   A  8:15  ARP1ARP15   \n",
       "3783    2017       1      13  ARP1  ARP15   J  SEw3NzE0   A  7:45  ARP1ARP15   \n",
       "\n",
       "      DISTANCE  \n",
       "511        NaN  \n",
       "512        NaN  \n",
       "3783       NaN  "
      ]
     },
     "execution_count": 32,
     "metadata": {},
     "output_type": "execute_result"
    }
   ],
   "source": [
    "data_afsnt[data_afsnt['DISTANCE'].isna() == True][['SDT_YY','SDT_MM','SDT_DD','ARP','ODP','FLO','REG','AOD','STT','GROUP','DISTANCE']].head(3)"
   ]
  },
  {
   "cell_type": "code",
   "execution_count": 33,
   "metadata": {},
   "outputs": [
    {
     "data": {
      "text/plain": [
       "ARP1ARP3      446533\n",
       "ARP2ARP3      116679\n",
       "ARP1ARP2      105403\n",
       "ARP3ARP6       68716\n",
       "ARP3ARP8       58584\n",
       "ARP3ARP4       57033\n",
       "ARP1ARP5       25107\n",
       "ARP15ARP2      20249\n",
       "ARP1ARP9       15276\n",
       "ARP3ARP9       10238\n",
       "ARP13ARP3       8488\n",
       "ARP1ARP8        7771\n",
       "ARP3ARP5        7512\n",
       "ARP1ARP11       7311\n",
       "ARP1ARP12       7296\n",
       "ARP15ARP4       7134\n",
       "ARP3ARP7        6238\n",
       "ARP14ARP3       3788\n",
       "ARP1ARP4        2794\n",
       "ARP12ARP3       2458\n",
       "ARP1ARP15       1834\n",
       "ARP15ARP3        769\n",
       "ARP2ARP4         160\n",
       "ARP1ARP6          93\n",
       "ARP15ARP6         47\n",
       "ARP1ARP7          28\n",
       "ARP2ARP6          24\n",
       "ARP7ARP8          20\n",
       "ARP15ARP7         18\n",
       "ARP4ARP6          17\n",
       "ARP1ARP1          11\n",
       "ARP2ARP5          10\n",
       "ARP1ARP10         10\n",
       "ARP15ARP5         10\n",
       "ARP1ARP13          8\n",
       "ARP2ARP7           8\n",
       "ARP10ARP15         7\n",
       "ARP2ARP8           6\n",
       "ARP15ARP8          5\n",
       "ARP1ARP14          4\n",
       "ARP12ARP15         3\n",
       "ARP2ARP9           2\n",
       "ARP10ARP2          2\n",
       "ARP6ARP9           2\n",
       "ARP15ARP9          2\n",
       "ARP14ARP15         1\n",
       "Name: GROUP, dtype: int64"
      ]
     },
     "execution_count": 33,
     "metadata": {},
     "output_type": "execute_result"
    }
   ],
   "source": [
    "data_afsnt['GROUP'].value_counts()"
   ]
  },
  {
   "cell_type": "code",
   "execution_count": 34,
   "metadata": {},
   "outputs": [
    {
     "data": {
      "text/html": [
       "<div>\n",
       "<style scoped>\n",
       "    .dataframe tbody tr th:only-of-type {\n",
       "        vertical-align: middle;\n",
       "    }\n",
       "\n",
       "    .dataframe tbody tr th {\n",
       "        vertical-align: top;\n",
       "    }\n",
       "\n",
       "    .dataframe thead th {\n",
       "        text-align: right;\n",
       "    }\n",
       "</style>\n",
       "<table border=\"1\" class=\"dataframe\">\n",
       "  <thead>\n",
       "    <tr style=\"text-align: right;\">\n",
       "      <th></th>\n",
       "      <th>SDT_YY</th>\n",
       "      <th>SDT_MM</th>\n",
       "      <th>SDT_DD</th>\n",
       "      <th>FLO</th>\n",
       "      <th>REG</th>\n",
       "      <th>ARP</th>\n",
       "      <th>ODP</th>\n",
       "      <th>AOD</th>\n",
       "      <th>STT</th>\n",
       "      <th>ATT</th>\n",
       "      <th>GROUP</th>\n",
       "      <th>DISTANCE</th>\n",
       "    </tr>\n",
       "  </thead>\n",
       "  <tbody>\n",
       "    <tr>\n",
       "      <th>200273</th>\n",
       "      <td>2017</td>\n",
       "      <td>1</td>\n",
       "      <td>1</td>\n",
       "      <td>A</td>\n",
       "      <td>SEw3NzY5</td>\n",
       "      <td>ARP2</td>\n",
       "      <td>ARP3</td>\n",
       "      <td>D</td>\n",
       "      <td>15:05</td>\n",
       "      <td>15:20</td>\n",
       "      <td>ARP2ARP3</td>\n",
       "      <td>61.666667</td>\n",
       "    </tr>\n",
       "    <tr>\n",
       "      <th>200448</th>\n",
       "      <td>2017</td>\n",
       "      <td>1</td>\n",
       "      <td>1</td>\n",
       "      <td>A</td>\n",
       "      <td>SEw3NzY5</td>\n",
       "      <td>ARP3</td>\n",
       "      <td>ARP2</td>\n",
       "      <td>A</td>\n",
       "      <td>15:55</td>\n",
       "      <td>16:05</td>\n",
       "      <td>ARP2ARP3</td>\n",
       "      <td>58.333333</td>\n",
       "    </tr>\n",
       "    <tr>\n",
       "      <th>200449</th>\n",
       "      <td>2017</td>\n",
       "      <td>1</td>\n",
       "      <td>1</td>\n",
       "      <td>A</td>\n",
       "      <td>SEw3NzY5</td>\n",
       "      <td>ARP3</td>\n",
       "      <td>ARP2</td>\n",
       "      <td>D</td>\n",
       "      <td>17:20</td>\n",
       "      <td>17:38</td>\n",
       "      <td>ARP2ARP3</td>\n",
       "      <td>58.333333</td>\n",
       "    </tr>\n",
       "    <tr>\n",
       "      <th>200274</th>\n",
       "      <td>2017</td>\n",
       "      <td>1</td>\n",
       "      <td>1</td>\n",
       "      <td>A</td>\n",
       "      <td>SEw3NzY5</td>\n",
       "      <td>ARP2</td>\n",
       "      <td>ARP3</td>\n",
       "      <td>A</td>\n",
       "      <td>18:10</td>\n",
       "      <td>18:11</td>\n",
       "      <td>ARP2ARP3</td>\n",
       "      <td>61.666667</td>\n",
       "    </tr>\n",
       "    <tr>\n",
       "      <th>200279</th>\n",
       "      <td>2017</td>\n",
       "      <td>1</td>\n",
       "      <td>1</td>\n",
       "      <td>A</td>\n",
       "      <td>SEw3NzY5</td>\n",
       "      <td>ARP2</td>\n",
       "      <td>ARP3</td>\n",
       "      <td>D</td>\n",
       "      <td>18:40</td>\n",
       "      <td>18:57</td>\n",
       "      <td>ARP2ARP3</td>\n",
       "      <td>61.666667</td>\n",
       "    </tr>\n",
       "  </tbody>\n",
       "</table>\n",
       "</div>"
      ],
      "text/plain": [
       "        SDT_YY  SDT_MM  SDT_DD FLO       REG   ARP   ODP AOD    STT    ATT  \\\n",
       "200273    2017       1       1   A  SEw3NzY5  ARP2  ARP3   D  15:05  15:20   \n",
       "200448    2017       1       1   A  SEw3NzY5  ARP3  ARP2   A  15:55  16:05   \n",
       "200449    2017       1       1   A  SEw3NzY5  ARP3  ARP2   D  17:20  17:38   \n",
       "200274    2017       1       1   A  SEw3NzY5  ARP2  ARP3   A  18:10  18:11   \n",
       "200279    2017       1       1   A  SEw3NzY5  ARP2  ARP3   D  18:40  18:57   \n",
       "\n",
       "           GROUP   DISTANCE  \n",
       "200273  ARP2ARP3  61.666667  \n",
       "200448  ARP2ARP3  58.333333  \n",
       "200449  ARP2ARP3  58.333333  \n",
       "200274  ARP2ARP3  61.666667  \n",
       "200279  ARP2ARP3  61.666667  "
      ]
     },
     "execution_count": 34,
     "metadata": {},
     "output_type": "execute_result"
    }
   ],
   "source": [
    "data_afsnt[data_afsnt['GROUP'] == 'ARP2ARP3'][['SDT_YY','SDT_MM','SDT_DD','FLO','REG','ARP','ODP','AOD','STT','ATT','GROUP','DISTANCE']].sort_values(by=['FLO','SDT_YY','SDT_MM','SDT_DD','REG','STT']).head(5)"
   ]
  },
  {
   "cell_type": "code",
   "execution_count": 35,
   "metadata": {},
   "outputs": [
    {
     "data": {
      "text/plain": [
       "<matplotlib.axes._subplots.AxesSubplot at 0x2e5def98>"
      ]
     },
     "execution_count": 35,
     "metadata": {},
     "output_type": "execute_result"
    },
    {
     "data": {
      "image/png": "[encoded data removed]",
      "text/plain": [
       "<Figure size 1008x1008 with 2 Axes>"
      ]
     },
     "metadata": {
      "needs_background": "light"
     },
     "output_type": "display_data"
    }
   ],
   "source": [
    "test_cor_data = data_afsnt[:]\n",
    "# test_cor_data.info()\n",
    "test_cor_data = test_cor_data.fillna('blank')\n",
    "def Label_encoder(lis):\n",
    "    features = ['SDT_DY','ARP','ODP','FLO','FLT','REG','AOD','IRR','DLY','DRR','CNL','CNR','GROUP']\n",
    "    for i in features:\n",
    "        le = LabelEncoder()\n",
    "        le = le.fit(lis[i])\n",
    "        lis[i] = le.transform(lis[i])\n",
    "    return lis\n",
    "test_cor_data = Label_encoder(test_cor_data)\n",
    "# test_cor_data.info()\n",
    "\n",
    "feat = test_cor_data[['SDT_DY','ARP','ODP','FLO','FLT','AOD','IRR','GROUP','DLY','HOUR','SDT_DD','DISTANCE']]\n",
    "corr = feat.corr()\n",
    "plt.figure(figsize=(14,14))\n",
    "sns.heatmap(corr,annot=True)"
   ]
  },
  {
   "cell_type": "markdown",
   "metadata": {},
   "source": [
    "# 비행시간 구하기"
   ]
  },
  {
   "cell_type": "markdown",
   "metadata": {},
   "source": [
    "# distance 구하기"
   ]
  },
  {
   "cell_type": "code",
   "execution_count": 36,
   "metadata": {},
   "outputs": [],
   "source": [
    "j_15_3 = list(data_afsnt[data_afsnt['GROUP'] == 'ARP15ARP3'].index)\n",
    "for i in j_15_3:\n",
    "    distance[i] = 65\n",
    "data_afsnt['DISTANCE'] = distance"
   ]
  },
  {
   "cell_type": "code",
   "execution_count": 37,
   "metadata": {},
   "outputs": [],
   "source": [
    "j_1_12 = list(data_afsnt[data_afsnt['GROUP'] == 'ARP1ARP12'].index)\n",
    "for i in j_1_12:\n",
    "    distance[i] = 60\n",
    "data_afsnt['DISTANCE'] = distance"
   ]
  },
  {
   "cell_type": "code",
   "execution_count": 38,
   "metadata": {},
   "outputs": [],
   "source": [
    "j_1_5 = list(data_afsnt[data_afsnt['GROUP'] == 'ARP1ARP5'].index)\n",
    "for i in j_1_5:\n",
    "    distance[i] = 55\n",
    "data_afsnt['DISTANCE'] = distance"
   ]
  },
  {
   "cell_type": "code",
   "execution_count": 39,
   "metadata": {},
   "outputs": [],
   "source": [
    "j_1_2 = list(data_afsnt[data_afsnt['GROUP'] == 'ARP1ARP2'].index)\n",
    "for i in j_1_2:\n",
    "    distance[i] = 55\n",
    "data_afsnt['DISTANCE'] = distance"
   ]
  },
  {
   "cell_type": "code",
   "execution_count": 40,
   "metadata": {},
   "outputs": [],
   "source": [
    "j_3_5 = list(data_afsnt[data_afsnt['GROUP'] == 'ARP3ARP5'].index)\n",
    "for i in j_3_5:\n",
    "    distance[i] = 60\n",
    "data_afsnt['DISTANCE'] = distance"
   ]
  },
  {
   "cell_type": "code",
   "execution_count": 41,
   "metadata": {},
   "outputs": [],
   "source": [
    "j_15_2 = list(data_afsnt[data_afsnt['GROUP'] == 'ARP15ARP2'].index)\n",
    "for i in j_15_2:\n",
    "    distance[i] = 65\n",
    "data_afsnt['DISTANCE'] = distance"
   ]
  },
  {
   "cell_type": "code",
   "execution_count": 42,
   "metadata": {},
   "outputs": [],
   "source": [
    "j_2_4 = list(data_afsnt[data_afsnt['GROUP'] == 'ARP2ARP4'].index)\n",
    "for i in j_2_4:\n",
    "    distance[i] = 45\n",
    "data_afsnt['DISTANCE'] = distance"
   ]
  },
  {
   "cell_type": "code",
   "execution_count": 43,
   "metadata": {},
   "outputs": [],
   "source": [
    "j_3_7 = list(data_afsnt[data_afsnt['GROUP'] == 'ARP3ARP7'].index)\n",
    "for i in j_3_7:\n",
    "    distance[i] = 50\n",
    "data_afsnt['DISTANCE'] = distance"
   ]
  },
  {
   "cell_type": "code",
   "execution_count": 44,
   "metadata": {},
   "outputs": [],
   "source": [
    "j_1_6 = list(data_afsnt[data_afsnt['GROUP'] == 'ARP1ARP6'].index)\n",
    "for i in j_1_6:\n",
    "    distance[i] = 40\n",
    "data_afsnt['DISTANCE'] = distance"
   ]
  },
  {
   "cell_type": "code",
   "execution_count": 45,
   "metadata": {},
   "outputs": [],
   "source": [
    "j_15_4 = list(data_afsnt[data_afsnt['GROUP'] == 'ARP15ARP4'].index)\n",
    "for i in j_15_4:\n",
    "    distance[i] = 60\n",
    "data_afsnt['DISTANCE'] = distance"
   ]
  },
  {
   "cell_type": "code",
   "execution_count": 46,
   "metadata": {},
   "outputs": [],
   "source": [
    "j_1_8 = list(data_afsnt[data_afsnt['GROUP'] == 'ARP1ARP8'].index)\n",
    "for i in j_1_8:\n",
    "    distance[i] = 50\n",
    "data_afsnt['DISTANCE'] = distance"
   ]
  },
  {
   "cell_type": "code",
   "execution_count": 47,
   "metadata": {},
   "outputs": [],
   "source": [
    "j_1_4 = list(data_afsnt[data_afsnt['GROUP'] == 'ARP1ARP4'].index)\n",
    "for i in j_1_4:\n",
    "    distance[i] = 50\n",
    "data_afsnt['DISTANCE'] = distance"
   ]
  },
  {
   "cell_type": "code",
   "execution_count": 48,
   "metadata": {},
   "outputs": [],
   "source": [
    "j_15_6 = list(data_afsnt[data_afsnt['GROUP'] == 'ARP15ARP6'].index)\n",
    "for i in j_15_6:\n",
    "    distance[i] = 45\n",
    "data_afsnt['DISTANCE'] = distance"
   ]
  },
  {
   "cell_type": "code",
   "execution_count": 49,
   "metadata": {},
   "outputs": [],
   "source": [
    "j_1_7 = list(data_afsnt[data_afsnt['GROUP'] == 'ARP1ARP7'].index)\n",
    "for i in j_1_7:\n",
    "    distance[i] = 60\n",
    "data_afsnt['DISTANCE'] = distance"
   ]
  },
  {
   "cell_type": "code",
   "execution_count": 50,
   "metadata": {},
   "outputs": [],
   "source": [
    "j_2_6 = list(data_afsnt[data_afsnt['GROUP'] == 'ARP2ARP6'].index)\n",
    "for i in j_2_6:\n",
    "    distance[i] = 50\n",
    "data_afsnt['DISTANCE'] = distance"
   ]
  },
  {
   "cell_type": "code",
   "execution_count": 51,
   "metadata": {},
   "outputs": [],
   "source": [
    "j_7_8 = list(data_afsnt[data_afsnt['GROUP'] == 'ARP7ARP8'].index)\n",
    "for i in j_7_8:\n",
    "    distance[i] = 50\n",
    "data_afsnt['DISTANCE'] = distance"
   ]
  },
  {
   "cell_type": "code",
   "execution_count": 52,
   "metadata": {},
   "outputs": [],
   "source": [
    "j_15_7 = list(data_afsnt[data_afsnt['GROUP'] == 'ARP15ARP7'].index)\n",
    "for i in j_15_7:\n",
    "    distance[i] = 55\n",
    "data_afsnt['DISTANCE'] = distance"
   ]
  },
  {
   "cell_type": "code",
   "execution_count": 53,
   "metadata": {},
   "outputs": [],
   "source": [
    "j_4_6 = list(data_afsnt[data_afsnt['GROUP'] == 'ARP4ARP6'].index)\n",
    "for i in j_4_6:\n",
    "    distance[i] = 50\n",
    "data_afsnt['DISTANCE'] = distance"
   ]
  },
  {
   "cell_type": "code",
   "execution_count": 54,
   "metadata": {},
   "outputs": [],
   "source": [
    "j_1_1 = list(data_afsnt[data_afsnt['GROUP'] == 'ARP1ARP1'].index)\n",
    "for i in j_1_1:\n",
    "    distance[i] = 120\n",
    "data_afsnt['DISTANCE'] = distance"
   ]
  },
  {
   "cell_type": "code",
   "execution_count": 55,
   "metadata": {},
   "outputs": [],
   "source": [
    "j_15_5 = list(data_afsnt[data_afsnt['GROUP'] == 'ARP15ARP5'].index)\n",
    "for i in j_15_5:\n",
    "    distance[i] = 175\n",
    "data_afsnt['DISTANCE'] = distance"
   ]
  },
  {
   "cell_type": "code",
   "execution_count": 56,
   "metadata": {},
   "outputs": [],
   "source": [
    "j_2_5 = list(data_afsnt[data_afsnt['GROUP'] == 'ARP2ARP5'].index)\n",
    "for i in j_2_5:\n",
    "    distance[i] = 50\n",
    "data_afsnt['DISTANCE'] = distance"
   ]
  },
  {
   "cell_type": "code",
   "execution_count": 57,
   "metadata": {},
   "outputs": [],
   "source": [
    "j_1_10 = list(data_afsnt[data_afsnt['GROUP'] == 'ARP1ARP10'].index)\n",
    "for i in j_1_10:\n",
    "    distance[i] = 53\n",
    "data_afsnt['DISTANCE'] = distance"
   ]
  },
  {
   "cell_type": "code",
   "execution_count": 58,
   "metadata": {},
   "outputs": [],
   "source": [
    "j_1_13 = list(data_afsnt[data_afsnt['GROUP'] == 'ARP1ARP13'].index)\n",
    "for i in j_1_13:\n",
    "    distance[i] = 41.25\n",
    "data_afsnt['DISTANCE'] = distance"
   ]
  },
  {
   "cell_type": "code",
   "execution_count": 59,
   "metadata": {},
   "outputs": [],
   "source": [
    "j_2_7 = list(data_afsnt[data_afsnt['GROUP'] == 'ARP2ARP7'].index)\n",
    "for i in j_2_7:\n",
    "    distance[i] = 46.25\n",
    "data_afsnt['DISTANCE'] = distance"
   ]
  },
  {
   "cell_type": "code",
   "execution_count": 60,
   "metadata": {},
   "outputs": [],
   "source": [
    "j_2_8 = list(data_afsnt[data_afsnt['GROUP'] == 'ARP2ARP8'].index)\n",
    "for i in j_2_8:\n",
    "    distance[i] = 46.6\n",
    "data_afsnt['DISTANCE'] = distance"
   ]
  },
  {
   "cell_type": "code",
   "execution_count": 61,
   "metadata": {},
   "outputs": [],
   "source": [
    "j_1_14 = list(data_afsnt[data_afsnt['GROUP'] == 'ARP1ARP14'].index)\n",
    "for i in j_1_14:\n",
    "    distance[i] = 35\n",
    "data_afsnt['DISTANCE'] = distance"
   ]
  },
  {
   "cell_type": "code",
   "execution_count": 62,
   "metadata": {},
   "outputs": [],
   "source": [
    "j_6_9 = list(data_afsnt[data_afsnt['GROUP'] == 'ARP6ARP9'].index)\n",
    "for i in j_6_9:\n",
    "    distance[i] = 150\n",
    "data_afsnt['DISTANCE'] = distance"
   ]
  },
  {
   "cell_type": "code",
   "execution_count": 63,
   "metadata": {},
   "outputs": [],
   "source": [
    "j_2_9 = list(data_afsnt[data_afsnt['GROUP'] == 'ARP2ARP9'].index)\n",
    "for i in j_2_9:\n",
    "    distance[i] = 40\n",
    "data_afsnt['DISTANCE'] = distance"
   ]
  },
  {
   "cell_type": "code",
   "execution_count": 64,
   "metadata": {},
   "outputs": [],
   "source": [
    "j_10_2 = list(data_afsnt[data_afsnt['GROUP'] == 'ARP10ARP2'].index)\n",
    "for i in j_10_2:\n",
    "    distance[i] = 60\n",
    "data_afsnt['DISTANCE'] = distance"
   ]
  },
  {
   "cell_type": "code",
   "execution_count": 65,
   "metadata": {},
   "outputs": [
    {
     "data": {
      "text/html": [
       "<div>\n",
       "<style scoped>\n",
       "    .dataframe tbody tr th:only-of-type {\n",
       "        vertical-align: middle;\n",
       "    }\n",
       "\n",
       "    .dataframe tbody tr th {\n",
       "        vertical-align: top;\n",
       "    }\n",
       "\n",
       "    .dataframe thead th {\n",
       "        text-align: right;\n",
       "    }\n",
       "</style>\n",
       "<table border=\"1\" class=\"dataframe\">\n",
       "  <thead>\n",
       "    <tr style=\"text-align: right;\">\n",
       "      <th></th>\n",
       "      <th>SDT_YY</th>\n",
       "      <th>SDT_MM</th>\n",
       "      <th>SDT_DD</th>\n",
       "      <th>SDT_DY</th>\n",
       "      <th>ARP</th>\n",
       "      <th>ODP</th>\n",
       "      <th>FLO</th>\n",
       "      <th>FLT</th>\n",
       "      <th>REG</th>\n",
       "      <th>AOD</th>\n",
       "      <th>...</th>\n",
       "      <th>DRR</th>\n",
       "      <th>CNL</th>\n",
       "      <th>CNR</th>\n",
       "      <th>NUM</th>\n",
       "      <th>HOUR</th>\n",
       "      <th>GROUP</th>\n",
       "      <th>MINUTE</th>\n",
       "      <th>DATE</th>\n",
       "      <th>DISTANCE</th>\n",
       "      <th>FLIGHT_MEAN</th>\n",
       "    </tr>\n",
       "  </thead>\n",
       "  <tbody>\n",
       "    <tr>\n",
       "      <th>0</th>\n",
       "      <td>2017</td>\n",
       "      <td>1</td>\n",
       "      <td>1</td>\n",
       "      <td>SUN</td>\n",
       "      <td>ARP3</td>\n",
       "      <td>ARP6</td>\n",
       "      <td>J</td>\n",
       "      <td>J1955</td>\n",
       "      <td>SEw3NzE4</td>\n",
       "      <td>D</td>\n",
       "      <td>...</td>\n",
       "      <td>NaN</td>\n",
       "      <td>N</td>\n",
       "      <td>NaN</td>\n",
       "      <td>0</td>\n",
       "      <td>10</td>\n",
       "      <td>ARP3ARP6</td>\n",
       "      <td>5</td>\n",
       "      <td>201711</td>\n",
       "      <td>65.833333</td>\n",
       "      <td>65.833333</td>\n",
       "    </tr>\n",
       "    <tr>\n",
       "      <th>1</th>\n",
       "      <td>2017</td>\n",
       "      <td>1</td>\n",
       "      <td>1</td>\n",
       "      <td>SUN</td>\n",
       "      <td>ARP3</td>\n",
       "      <td>ARP6</td>\n",
       "      <td>J</td>\n",
       "      <td>J1954</td>\n",
       "      <td>SEw3NzE4</td>\n",
       "      <td>A</td>\n",
       "      <td>...</td>\n",
       "      <td>NaN</td>\n",
       "      <td>N</td>\n",
       "      <td>NaN</td>\n",
       "      <td>0</td>\n",
       "      <td>9</td>\n",
       "      <td>ARP3ARP6</td>\n",
       "      <td>30</td>\n",
       "      <td>201711</td>\n",
       "      <td>65.833333</td>\n",
       "      <td>65.833333</td>\n",
       "    </tr>\n",
       "    <tr>\n",
       "      <th>2</th>\n",
       "      <td>2017</td>\n",
       "      <td>1</td>\n",
       "      <td>1</td>\n",
       "      <td>SUN</td>\n",
       "      <td>ARP3</td>\n",
       "      <td>ARP6</td>\n",
       "      <td>J</td>\n",
       "      <td>J1956</td>\n",
       "      <td>SEw3NzE4</td>\n",
       "      <td>A</td>\n",
       "      <td>...</td>\n",
       "      <td>NaN</td>\n",
       "      <td>N</td>\n",
       "      <td>NaN</td>\n",
       "      <td>0</td>\n",
       "      <td>12</td>\n",
       "      <td>ARP3ARP6</td>\n",
       "      <td>45</td>\n",
       "      <td>201711</td>\n",
       "      <td>65.833333</td>\n",
       "      <td>65.833333</td>\n",
       "    </tr>\n",
       "  </tbody>\n",
       "</table>\n",
       "<p>3 rows × 24 columns</p>\n",
       "</div>"
      ],
      "text/plain": [
       "   SDT_YY  SDT_MM  SDT_DD SDT_DY   ARP   ODP FLO    FLT       REG AOD  ...  \\\n",
       "0    2017       1       1    SUN  ARP3  ARP6   J  J1955  SEw3NzE4   D  ...   \n",
       "1    2017       1       1    SUN  ARP3  ARP6   J  J1954  SEw3NzE4   A  ...   \n",
       "2    2017       1       1    SUN  ARP3  ARP6   J  J1956  SEw3NzE4   A  ...   \n",
       "\n",
       "   DRR CNL  CNR NUM HOUR     GROUP MINUTE    DATE   DISTANCE FLIGHT_MEAN  \n",
       "0  NaN   N  NaN   0   10  ARP3ARP6      5  201711  65.833333   65.833333  \n",
       "1  NaN   N  NaN   0    9  ARP3ARP6     30  201711  65.833333   65.833333  \n",
       "2  NaN   N  NaN   0   12  ARP3ARP6     45  201711  65.833333   65.833333  \n",
       "\n",
       "[3 rows x 24 columns]"
      ]
     },
     "execution_count": 65,
     "metadata": {},
     "output_type": "execute_result"
    }
   ],
   "source": [
    "data_afsnt['DISTANCE'] = data_afsnt['DISTANCE'].fillna(data_afsnt['DISTANCE'].mean())\n",
    "data_afsnt.head(3)"
   ]
  },
  {
   "cell_type": "code",
   "execution_count": 66,
   "metadata": {},
   "outputs": [],
   "source": [
    "import pickle\n",
    "# with open('late.pkl', 'wb') as fout:\n",
    "#      pickle.dump(late, fout)\n",
    "with open('late.pkl', 'rb') as fin:\n",
    "    late = []\n",
    "    late = pickle.load(fin)\n"
   ]
  },
  {
   "cell_type": "code",
   "execution_count": 67,
   "metadata": {},
   "outputs": [],
   "source": [
    "data_afsnt['FLO_LATE_TIME'] = late['FLO_TIME']"
   ]
  },
  {
   "cell_type": "code",
   "execution_count": 68,
   "metadata": {},
   "outputs": [
    {
     "data": {
      "text/plain": [
       "ARP1ARP3     54943\n",
       "ARP2ARP3     14897\n",
       "ARP3ARP6      8224\n",
       "ARP1ARP2      7611\n",
       "ARP3ARP8      7314\n",
       "ARP3ARP4      6635\n",
       "ARP13ARP3     1292\n",
       "ARP1ARP5      1032\n",
       "ARP3ARP9       923\n",
       "ARP1ARP9       885\n",
       "ARP15ARP2      764\n",
       "ARP1ARP8       537\n",
       "ARP3ARP5       379\n",
       "ARP12ARP3      346\n",
       "ARP3ARP7       343\n",
       "ARP1ARP12      329\n",
       "ARP14ARP3      293\n",
       "ARP15ARP3      222\n",
       "ARP15ARP4      220\n",
       "ARP1ARP15      209\n",
       "ARP1ARP11      184\n",
       "ARP1ARP4       101\n",
       "ARP2ARP4        17\n",
       "Name: GROUP, dtype: int64"
      ]
     },
     "execution_count": 68,
     "metadata": {},
     "output_type": "execute_result"
    }
   ],
   "source": [
    "data_afsnt[data_afsnt['DRR']=='C02']['GROUP'].value_counts()[0:23]"
   ]
  },
  {
   "cell_type": "code",
   "execution_count": 69,
   "metadata": {},
   "outputs": [],
   "source": [
    "ind = []\n",
    "val = []\n",
    "ind = list(data_afsnt[data_afsnt['DRR']=='C02']['GROUP'].value_counts().index[0:23])\n",
    "val = list(data_afsnt[data_afsnt['DRR']=='C02']['GROUP'].value_counts().values[0:23])\n",
    "name = ['c02'+str(i) for i in ind]\n",
    "blank = []\n",
    "\n",
    "for i,j,k in zip(ind,val,name):\n",
    "    blank.append(j/data_afsnt[data_afsnt['GROUP'] == i]['DRR'].count())\n",
    " "
   ]
  },
  {
   "cell_type": "code",
   "execution_count": 70,
   "metadata": {},
   "outputs": [],
   "source": [
    "def categorical_c02(x):\n",
    "    count = 0\n",
    "    for i,j in zip(ind,blank):\n",
    "        if x == i:\n",
    "            x = j\n",
    "            break\n",
    "        else:\n",
    "            count = count + 1\n",
    "        if count == 23:\n",
    "            x = 0\n",
    "            break\n",
    "    return x\n",
    "        \n",
    "\n",
    "data_afsnt['C02'] =0\n",
    "data_afsnt['C02'] = data_afsnt['GROUP'].apply(lambda x : categorical_c02(x))"
   ]
  },
  {
   "cell_type": "code",
   "execution_count": 71,
   "metadata": {},
   "outputs": [
    {
     "data": {
      "text/plain": [
       "J    747\n",
       "A    364\n",
       "B    293\n",
       "H    196\n",
       "F    192\n",
       "I    136\n",
       "L    103\n",
       "Name: FLO, dtype: int64"
      ]
     },
     "execution_count": 71,
     "metadata": {},
     "output_type": "execute_result"
    }
   ],
   "source": [
    "data_afsnt[data_afsnt['DRR']=='C01']['FLO'].value_counts()"
   ]
  },
  {
   "cell_type": "code",
   "execution_count": 72,
   "metadata": {},
   "outputs": [],
   "source": [
    "ind1 = []\n",
    "val1 = []\n",
    "ind1 = list(data_afsnt[data_afsnt['DRR']=='C01']['FLO'].value_counts().index)\n",
    "val1 = list(data_afsnt[data_afsnt['DRR']=='C01']['FLO'].value_counts().values)\n",
    "name1 = ['c01'+str(i) for i in ind1]\n",
    "blank1 = []\n",
    "\n",
    "for i,j,k in zip(ind1,val1,name1):\n",
    "    blank1.append(j/data_afsnt[data_afsnt['FLO'] == i]['DRR'].count())"
   ]
  },
  {
   "cell_type": "code",
   "execution_count": 73,
   "metadata": {},
   "outputs": [],
   "source": [
    "def categorical_c01(x):\n",
    "    count = 0\n",
    "    for i,j in zip(ind1,blank1):\n",
    "        if x == i:\n",
    "            x = j\n",
    "            break\n",
    "        else:\n",
    "            count = count + 1\n",
    "        if count == 7:\n",
    "            x = 0\n",
    "            break\n",
    "    return x\n",
    "        \n",
    "\n",
    "data_afsnt['C01'] =0\n",
    "data_afsnt['C01'] = data_afsnt['FLO'].apply(lambda x : categorical_c01(x))"
   ]
  },
  {
   "cell_type": "code",
   "execution_count": 74,
   "metadata": {},
   "outputs": [
    {
     "data": {
      "text/plain": [
       "8     435\n",
       "9     308\n",
       "7     304\n",
       "6     141\n",
       "10    140\n",
       "11     83\n",
       "12     34\n",
       "16     12\n",
       "13     11\n",
       "17     11\n",
       "14     10\n",
       "20      9\n",
       "19      7\n",
       "18      7\n",
       "15      6\n",
       "22      4\n",
       "21      1\n",
       "5       1\n",
       "Name: HOUR, dtype: int64"
      ]
     },
     "execution_count": 74,
     "metadata": {},
     "output_type": "execute_result"
    }
   ],
   "source": [
    "data_afsnt[data_afsnt['DRR']=='A01']['HOUR'].value_counts()"
   ]
  },
  {
   "cell_type": "code",
   "execution_count": 75,
   "metadata": {},
   "outputs": [],
   "source": [
    "ind2 = []\n",
    "val2 = []\n",
    "ind2 = list(data_afsnt[data_afsnt['DRR']=='A01']['HOUR'].value_counts().index[0:16])\n",
    "val2 = list(data_afsnt[data_afsnt['DRR']=='A01']['HOUR'].value_counts().values[0:16])\n",
    "name2 = ['a01'+str(i) for i in ind2]\n",
    "blank2 = []\n",
    "\n",
    "for i,j,k in zip(ind2,val2,name2):\n",
    "    blank2.append(j/data_afsnt[data_afsnt['HOUR'] == i]['DRR'].count())"
   ]
  },
  {
   "cell_type": "code",
   "execution_count": 76,
   "metadata": {},
   "outputs": [],
   "source": [
    "def categorical_a01(x):\n",
    "    count = 0\n",
    "    for i,j in zip(ind2,blank2):\n",
    "        if x == i:\n",
    "            x = j\n",
    "            break\n",
    "        else:\n",
    "            count = count + 1\n",
    "        if count == 16:\n",
    "            x = 0\n",
    "            break\n",
    "    return x\n",
    "        \n",
    "\n",
    "data_afsnt['A01'] =0\n",
    "data_afsnt['A01'] = data_afsnt['HOUR'].apply(lambda x : categorical_a01(x))"
   ]
  },
  {
   "cell_type": "code",
   "execution_count": 77,
   "metadata": {},
   "outputs": [],
   "source": [
    "# c01_j = data_afsnt[data_afsnt['DRR']=='C01']['FLO'].value_counts()[0]/data_afsnt[data_afsnt['FLO'] == 'J']['DRR'].count()\n",
    "# c01_a = data_afsnt[data_afsnt['DRR']=='C01']['FLO'].value_counts()[1]/data_afsnt[data_afsnt['FLO'] == 'A']['DRR'].count()\n",
    "# c01_b = data_afsnt[data_afsnt['DRR']=='C01']['FLO'].value_counts()[2]/data_afsnt[data_afsnt['FLO'] == 'B']['DRR'].count()\n",
    "# c01_h = data_afsnt[data_afsnt['DRR']=='C01']['FLO'].value_counts()[3]/data_afsnt[data_afsnt['FLO'] == 'H']['DRR'].count()\n",
    "# c01_f = data_afsnt[data_afsnt['DRR']=='C01']['FLO'].value_counts()[4]/data_afsnt[data_afsnt['FLO'] == 'F']['DRR'].count()\n",
    "# c01_i = data_afsnt[data_afsnt['DRR']=='C01']['FLO'].value_counts()[5]/data_afsnt[data_afsnt['FLO'] == 'I']['DRR'].count()\n",
    "# c01_l = data_afsnt[data_afsnt['DRR']=='C01']['FLO'].value_counts()[6]/data_afsnt[data_afsnt['FLO'] == 'L']['DRR'].count()\n",
    "\n",
    "# # print(data_afsnt[data_afsnt['DRR']=='C01']['FLO'].value_counts()[0]/data_afsnt[data_afsnt['FLO'] == 'J']['DRR'].count())\n",
    "# # print(data_afsnt[data_afsnt['DRR']=='C01']['FLO'].value_counts()[1]/data_afsnt[data_afsnt['FLO'] == 'A']['DRR'].count())\n",
    "# # print(data_afsnt[data_afsnt['DRR']=='C01']['FLO'].value_counts()[2]/data_afsnt[data_afsnt['FLO'] == 'B']['DRR'].count())\n",
    "# # print(data_afsnt[data_afsnt['DRR']=='C01']['FLO'].value_counts()[3]/data_afsnt[data_afsnt['FLO'] == 'H']['DRR'].count())\n",
    "# # print(data_afsnt[data_afsnt['DRR']=='C01']['FLO'].value_counts()[4]/data_afsnt[data_afsnt['FLO'] == 'F']['DRR'].count())\n",
    "# # print(data_afsnt[data_afsnt['DRR']=='C01']['FLO'].value_counts()[5]/data_afsnt[data_afsnt['FLO'] == 'I']['DRR'].count())\n",
    "# # print(data_afsnt[data_afsnt['DRR']=='C01']['FLO'].value_counts()[6]/data_afsnt[data_afsnt['FLO'] == 'L']['DRR'].count())"
   ]
  },
  {
   "cell_type": "code",
   "execution_count": null,
   "metadata": {},
   "outputs": [],
   "source": []
  },
  {
   "cell_type": "code",
   "execution_count": null,
   "metadata": {},
   "outputs": [],
   "source": []
  },
  {
   "cell_type": "code",
   "execution_count": 78,
   "metadata": {},
   "outputs": [],
   "source": [
    "# def categorical_c01(x):\n",
    "#     if x == 'J':\n",
    "#         x = c01_j\n",
    "#     elif x == 'A':\n",
    "#         x = c01_a\n",
    "#     elif x == 'H':\n",
    "#         x = c01_h\n",
    "#     elif x == 'I':\n",
    "#         x = c01_i\n",
    "#     elif x == 'B':\n",
    "#         x = c01_b\n",
    "#     elif x == 'F':\n",
    "#         x = c01_f\n",
    "#     elif x == 'L':\n",
    "#         x = c01_l\n",
    "#     else:\n",
    "#         x = 0\n",
    "#     return x\n",
    "\n",
    "# data_afsnt['C01'] =0\n",
    "# data_afsnt['C01'] = data_afsnt['FLO'].apply(lambda x : categorical_c01(x))"
   ]
  },
  {
   "cell_type": "code",
   "execution_count": 302,
   "metadata": {},
   "outputs": [
    {
     "data": {
      "text/html": [
       "<div>\n",
       "<style scoped>\n",
       "    .dataframe tbody tr th:only-of-type {\n",
       "        vertical-align: middle;\n",
       "    }\n",
       "\n",
       "    .dataframe tbody tr th {\n",
       "        vertical-align: top;\n",
       "    }\n",
       "\n",
       "    .dataframe thead th {\n",
       "        text-align: right;\n",
       "    }\n",
       "</style>\n",
       "<table border=\"1\" class=\"dataframe\">\n",
       "  <thead>\n",
       "    <tr style=\"text-align: right;\">\n",
       "      <th></th>\n",
       "      <th>SDT_DY</th>\n",
       "      <th>ARP</th>\n",
       "      <th>ODP</th>\n",
       "      <th>FLO</th>\n",
       "      <th>AOD</th>\n",
       "      <th>DLY</th>\n",
       "      <th>HOUR</th>\n",
       "      <th>DISTANCE</th>\n",
       "      <th>FLO_LATE_TIME</th>\n",
       "      <th>C02</th>\n",
       "      <th>C01</th>\n",
       "      <th>A01</th>\n",
       "    </tr>\n",
       "  </thead>\n",
       "  <tbody>\n",
       "    <tr>\n",
       "      <th>0</th>\n",
       "      <td>SUN</td>\n",
       "      <td>ARP3</td>\n",
       "      <td>ARP6</td>\n",
       "      <td>J</td>\n",
       "      <td>D</td>\n",
       "      <td>N</td>\n",
       "      <td>10</td>\n",
       "      <td>65.833333</td>\n",
       "      <td>0.364749</td>\n",
       "      <td>0.899781</td>\n",
       "      <td>0.028824</td>\n",
       "      <td>0.022676</td>\n",
       "    </tr>\n",
       "    <tr>\n",
       "      <th>1</th>\n",
       "      <td>SUN</td>\n",
       "      <td>ARP3</td>\n",
       "      <td>ARP6</td>\n",
       "      <td>J</td>\n",
       "      <td>A</td>\n",
       "      <td>N</td>\n",
       "      <td>9</td>\n",
       "      <td>65.833333</td>\n",
       "      <td>0.030233</td>\n",
       "      <td>0.899781</td>\n",
       "      <td>0.028824</td>\n",
       "      <td>0.057175</td>\n",
       "    </tr>\n",
       "    <tr>\n",
       "      <th>2</th>\n",
       "      <td>SUN</td>\n",
       "      <td>ARP3</td>\n",
       "      <td>ARP6</td>\n",
       "      <td>J</td>\n",
       "      <td>A</td>\n",
       "      <td>N</td>\n",
       "      <td>12</td>\n",
       "      <td>65.833333</td>\n",
       "      <td>0.030233</td>\n",
       "      <td>0.899781</td>\n",
       "      <td>0.028824</td>\n",
       "      <td>0.005543</td>\n",
       "    </tr>\n",
       "  </tbody>\n",
       "</table>\n",
       "</div>"
      ],
      "text/plain": [
       "  SDT_DY   ARP   ODP FLO AOD DLY  HOUR   DISTANCE  FLO_LATE_TIME       C02  \\\n",
       "0    SUN  ARP3  ARP6   J   D   N    10  65.833333       0.364749  0.899781   \n",
       "1    SUN  ARP3  ARP6   J   A   N     9  65.833333       0.030233  0.899781   \n",
       "2    SUN  ARP3  ARP6   J   A   N    12  65.833333       0.030233  0.899781   \n",
       "\n",
       "        C01       A01  \n",
       "0  0.028824  0.022676  \n",
       "1  0.028824  0.057175  \n",
       "2  0.028824  0.005543  "
      ]
     },
     "execution_count": 302,
     "metadata": {},
     "output_type": "execute_result"
    }
   ],
   "source": [
    "temp = data_afsnt[:]\n",
    "def drop_features(df):\n",
    "    temps = df.drop(['GROUP','FLT','SDT_YY','SDT_MM','DATE','FLIGHT_MEAN','NUM','SDT_DD','REG','MINUTE','IRR','STT','ATT','DRR','CNL','CNR'],axis = 1, inplace = False)\n",
    "    return temps\n",
    "temps = drop_features(temp)\n",
    "temps.head(3)"
   ]
  },
  {
   "cell_type": "code",
   "execution_count": 303,
   "metadata": {},
   "outputs": [
    {
     "data": {
      "text/html": [
       "<div>\n",
       "<style scoped>\n",
       "    .dataframe tbody tr th:only-of-type {\n",
       "        vertical-align: middle;\n",
       "    }\n",
       "\n",
       "    .dataframe tbody tr th {\n",
       "        vertical-align: top;\n",
       "    }\n",
       "\n",
       "    .dataframe thead th {\n",
       "        text-align: right;\n",
       "    }\n",
       "</style>\n",
       "<table border=\"1\" class=\"dataframe\">\n",
       "  <thead>\n",
       "    <tr style=\"text-align: right;\">\n",
       "      <th></th>\n",
       "      <th>SDT_DY</th>\n",
       "      <th>ARP</th>\n",
       "      <th>ODP</th>\n",
       "      <th>FLO</th>\n",
       "      <th>AOD</th>\n",
       "      <th>DLY</th>\n",
       "      <th>HOUR</th>\n",
       "      <th>DISTANCE</th>\n",
       "      <th>FLO_LATE_TIME</th>\n",
       "      <th>C02</th>\n",
       "      <th>C01</th>\n",
       "      <th>A01</th>\n",
       "    </tr>\n",
       "  </thead>\n",
       "  <tbody>\n",
       "    <tr>\n",
       "      <th>0</th>\n",
       "      <td>3</td>\n",
       "      <td>8</td>\n",
       "      <td>11</td>\n",
       "      <td>9</td>\n",
       "      <td>1</td>\n",
       "      <td>0</td>\n",
       "      <td>10</td>\n",
       "      <td>0.220238</td>\n",
       "      <td>0.364749</td>\n",
       "      <td>0.899781</td>\n",
       "      <td>0.028824</td>\n",
       "      <td>0.022676</td>\n",
       "    </tr>\n",
       "    <tr>\n",
       "      <th>1</th>\n",
       "      <td>3</td>\n",
       "      <td>8</td>\n",
       "      <td>11</td>\n",
       "      <td>9</td>\n",
       "      <td>0</td>\n",
       "      <td>0</td>\n",
       "      <td>9</td>\n",
       "      <td>0.220238</td>\n",
       "      <td>0.030233</td>\n",
       "      <td>0.899781</td>\n",
       "      <td>0.028824</td>\n",
       "      <td>0.057175</td>\n",
       "    </tr>\n",
       "    <tr>\n",
       "      <th>2</th>\n",
       "      <td>3</td>\n",
       "      <td>8</td>\n",
       "      <td>11</td>\n",
       "      <td>9</td>\n",
       "      <td>0</td>\n",
       "      <td>0</td>\n",
       "      <td>12</td>\n",
       "      <td>0.220238</td>\n",
       "      <td>0.030233</td>\n",
       "      <td>0.899781</td>\n",
       "      <td>0.028824</td>\n",
       "      <td>0.005543</td>\n",
       "    </tr>\n",
       "  </tbody>\n",
       "</table>\n",
       "</div>"
      ],
      "text/plain": [
       "   SDT_DY  ARP  ODP  FLO  AOD  DLY  HOUR  DISTANCE  FLO_LATE_TIME       C02  \\\n",
       "0       3    8   11    9    1    0    10  0.220238       0.364749  0.899781   \n",
       "1       3    8   11    9    0    0     9  0.220238       0.030233  0.899781   \n",
       "2       3    8   11    9    0    0    12  0.220238       0.030233  0.899781   \n",
       "\n",
       "        C01       A01  \n",
       "0  0.028824  0.022676  \n",
       "1  0.028824  0.057175  \n",
       "2  0.028824  0.005543  "
      ]
     },
     "execution_count": 303,
     "metadata": {},
     "output_type": "execute_result"
    }
   ],
   "source": [
    "from sklearn.preprocessing import LabelEncoder\n",
    "def encode_features(dataDF):\n",
    "    features = ['SDT_DY','FLO','ARP','AOD','DLY','ODP']\n",
    "    for feature in features:\n",
    "        le = LabelEncoder()\n",
    "        le = le.fit(dataDF[feature])\n",
    "        dataDF[feature] = le.transform(dataDF[feature])\n",
    "    return dataDF\n",
    "\n",
    "temps = encode_features(temps)\n",
    "temps['DISTANCE'] = temps['DISTANCE'].apply(lambda x : (x-35)/140)\n",
    "temps.head(3)"
   ]
  },
  {
   "cell_type": "code",
   "execution_count": 304,
   "metadata": {},
   "outputs": [],
   "source": [
    "# # test train 데이터 나누기 838468\n",
    "y = temps['DLY']\n",
    "x = temps.drop('DLY',axis = 1)\n",
    "# X_train = x[:838468]\n",
    "# X_test = x[838468:]\n",
    "# y_train = y[:838468]\n",
    "# y_test = y[838468:]"
   ]
  },
  {
   "cell_type": "code",
   "execution_count": 305,
   "metadata": {},
   "outputs": [],
   "source": [
    "X_train, X_test, y_train, y_test = train_test_split(x,y,test_size = 0.15)"
   ]
  },
  {
   "cell_type": "code",
   "execution_count": 306,
   "metadata": {},
   "outputs": [
    {
     "name": "stdout",
     "output_type": "stream",
     "text": [
      "(839552, 11) (839552,)\n",
      "(1255305, 11) (1255305,)\n",
      "0    738415\n",
      "1    516890\n",
      "dtype: int64\n"
     ]
    }
   ],
   "source": [
    "# over_sampling\n",
    "from imblearn.over_sampling import SMOTE\n",
    "smote = SMOTE(ratio = 0.7)\n",
    "X_train_over, y_train_over = smote.fit_sample(X_train,y_train)\n",
    "print(X_train.shape,y_train.shape)\n",
    "print(X_train_over.shape,y_train_over.shape)\n",
    "print(pd.Series(y_train_over).value_counts())"
   ]
  },
  {
   "cell_type": "code",
   "execution_count": 289,
   "metadata": {},
   "outputs": [],
   "source": [
    "# #### oversampling 직접 구현   1대1로 맞추지 않고 조금 부족하게 맞추기 위해서(오래걸림 주의....)\n",
    "# import random as rd\n",
    "# import math\n",
    "# X_train = X_train.reset_index(drop=True)\n",
    "# y_train = y_train.reset_index(drop=True)\n",
    "# sampling_index = list(y_train[y_train==1].index)\n",
    "# nums = len(sampling_index)\n",
    "# a = []\n",
    "# for i in range(400000):\n",
    "#     ind = rd.randint(0,nums-1)\n",
    "#     ind_value = sampling_index[ind]\n",
    "#     a.append(ind_value)\n",
    "\n",
    "# dy = []\n",
    "# arp = []\n",
    "# odp = []\n",
    "# flo = []\n",
    "# aod = []\n",
    "# hour = []\n",
    "# dist = []\n",
    "# flo_late = []\n",
    "# c02 = []\n",
    "# c01 = []\n",
    "# a01 = []\n",
    "# for i,j in zip(range(400000),a):\n",
    "#     tm = X_train.loc[j]\n",
    "#     dy.append(tm[0])\n",
    "#     arp.append(tm[1])\n",
    "#     odp.append(tm[2])\n",
    "#     flo.append(tm[3])\n",
    "#     aod.append(tm[4])\n",
    "#     hour.append(tm[5])\n",
    "#     dist.append(tm[6])\n",
    "#     flo_late.append(tm[7])\n",
    "#     c02.append(tm[8])\n",
    "#     c01.append(tm[9])\n",
    "#     a01.append(tm[10])\n",
    "#     if i % 50000 == 0:\n",
    "#         print(i)\n",
    "\n",
    "\n",
    "# sampling = pd.DataFrame({'SDT_DY':dy,'ARP':arp,'ODP':odp,'FLO':flo,'AOD':aod,'HOUR':hour,'DISTANCE':dist,'FLO_LATE_TIME':flo_late,'C02':c02,'C01':c01,'A01':a01})\n",
    "# yt_list = list(y_train.values)\n",
    "\n",
    "# label = []\n",
    "# for i in a:\n",
    "#     label.append(yt_list[i])\n",
    "\n",
    "# ytdf = pd.Series(label)\n",
    "# X_train_over = pd.concat([X_train,sampling])\n",
    "# y_train_over = pd.concat([y_train,ytdf])\n",
    "\n",
    "# print(X_train.shape,y_train.shape)\n",
    "# print(X_train_over.shape,y_train_over.shape)\n",
    "# print(pd.Series(y_train_over).value_counts())"
   ]
  },
  {
   "cell_type": "code",
   "execution_count": 312,
   "metadata": {},
   "outputs": [
    {
     "name": "stderr",
     "output_type": "stream",
     "text": [
      "C:\\Users\\user\\Anaconda3\\lib\\site-packages\\ipykernel_launcher.py:5: SettingWithCopyWarning: \n",
      "A value is trying to be set on a copy of a slice from a DataFrame.\n",
      "Try using .loc[row_indexer,col_indexer] = value instead\n",
      "\n",
      "See the caveats in the documentation: http://pandas.pydata.org/pandas-docs/stable/user_guide/indexing.html#returning-a-view-versus-a-copy\n",
      "  \"\"\"\n"
     ]
    },
    {
     "name": "stdout",
     "output_type": "stream",
     "text": [
      "(839552, 12) (839552,)\n",
      "(1255305, 12) (1255305,)\n",
      "0    738415\n",
      "1    516890\n",
      "dtype: int64\n"
     ]
    },
    {
     "name": "stderr",
     "output_type": "stream",
     "text": [
      "C:\\Users\\user\\Anaconda3\\lib\\site-packages\\ipykernel_launcher.py:8: SettingWithCopyWarning: \n",
      "A value is trying to be set on a copy of a slice from a DataFrame.\n",
      "Try using .loc[row_indexer,col_indexer] = value instead\n",
      "\n",
      "See the caveats in the documentation: http://pandas.pydata.org/pandas-docs/stable/user_guide/indexing.html#returning-a-view-versus-a-copy\n",
      "  \n"
     ]
    }
   ],
   "source": [
    "X_train_over = pd.DataFrame(X_train_over,columns=X_train.columns)\n",
    "X_train_over['interaction1'] = [i*j for i,j in zip(X_train_over['DISTANCE'], X_train_over['FLO_LATE_TIME']) ]\n",
    "# X_train_over['interaction2'] = [i*j for i,j in zip(X_train_over['C02'], X_train_over['AOD']) ]\n",
    "# X_train_over['interaction3'] = [i*j for i,j in zip(X_train_over['ARP'], X_train_over['C01']) ]\n",
    "X_test['interaction1'] = [i*j for i,j in zip(X_test['DISTANCE'], X_test['FLO_LATE_TIME']) ]\n",
    "# X_test['interaction2'] = [i*j for i,j in zip(X_test['C02'], X_test['AOD']) ]\n",
    "# X_test['interaction3'] = [i*j for i,j in zip(X_test['ARP'], X_test['C01']) ]\n",
    "X_train['interaction1'] = [i*j for i,j in zip(X_train['DISTANCE'], X_train['FLO_LATE_TIME']) ]\n",
    "# X_train['interaction2'] = [i*j for i,j in zip(X_train['C02'], X_train['AOD']) ]\n",
    "# X_train['interaction3'] = [i*j for i,j in zip(X_train['ARP'], X_train['C01']) ]\n",
    "print(X_train.shape,y_train.shape)\n",
    "print(X_train_over.shape,y_train_over.shape)\n",
    "print(pd.Series(y_train_over).value_counts())"
   ]
  },
  {
   "cell_type": "code",
   "execution_count": 313,
   "metadata": {},
   "outputs": [],
   "source": [
    "# X_train = X_train.drop(['interaction2','interaction3'],axis=1)\n",
    "# X_train_over = X_train_over.drop(['interaction2','interaction3'],axis=1)\n",
    "# X_test = X_test.drop(['interaction2','interaction3'],axis=1)"
   ]
  },
  {
   "cell_type": "code",
   "execution_count": 314,
   "metadata": {},
   "outputs": [
    {
     "name": "stdout",
     "output_type": "stream",
     "text": [
      "DecisionTree1 정확도:  0.8801204128053349\n",
      "DecisionTree2 정확도:  0.7628934171183271\n"
     ]
    },
    {
     "name": "stderr",
     "output_type": "stream",
     "text": [
      "C:\\Users\\user\\Anaconda3\\lib\\site-packages\\sklearn\\ensemble\\forest.py:245: FutureWarning: The default value of n_estimators will change from 10 in version 0.20 to 100 in 0.22.\n",
      "  \"10 in version 0.20 to 100 in 0.22.\", FutureWarning)\n"
     ]
    },
    {
     "name": "stdout",
     "output_type": "stream",
     "text": [
      "RandomForest 정확도:  0.7611047739897541\n"
     ]
    },
    {
     "name": "stderr",
     "output_type": "stream",
     "text": [
      "C:\\Users\\user\\Anaconda3\\lib\\site-packages\\sklearn\\linear_model\\logistic.py:432: FutureWarning: Default solver will be changed to 'lbfgs' in 0.22. Specify a solver to silence this warning.\n",
      "  FutureWarning)\n"
     ]
    },
    {
     "name": "stdout",
     "output_type": "stream",
     "text": [
      "Logist 정확도:  0.7103613059119718\n"
     ]
    }
   ],
   "source": [
    "from sklearn.tree import DecisionTreeClassifier\n",
    "from sklearn.ensemble import RandomForestClassifier\n",
    "from sklearn.linear_model import LogisticRegression\n",
    "from sklearn.metrics import accuracy_score\n",
    "from sklearn.metrics import mean_squared_error\n",
    "\n",
    "\n",
    "# 결정트리, random forest, 로지스틱 회귀\n",
    "dt_clf = DecisionTreeClassifier()\n",
    "dt2_clf = DecisionTreeClassifier()\n",
    "rf_clf = RandomForestClassifier()\n",
    "lr_clf = LogisticRegression()\n",
    "\n",
    "#DecisionTreeClassifier 학습/예측/평가\n",
    "dt_clf.fit(X_train,y_train)\n",
    "dt_pred1 = dt_clf.predict(X_test)\n",
    "print('DecisionTree1 정확도: ', accuracy_score(y_test,dt_pred1))\n",
    "\n",
    "dt2_clf.fit(X_train_over,y_train_over)\n",
    "dt_pred2 = dt2_clf.predict(X_test)\n",
    "print('DecisionTree2 정확도: ', accuracy_score(y_test,dt_pred2))\n",
    "\n",
    "#RandomForestClassifier 학습/예측/평가\n",
    "rf_clf.fit(X_train_over,y_train_over)\n",
    "rf_pred = rf_clf.predict(X_test)\n",
    "print('RandomForest 정확도: ', accuracy_score(y_test,rf_pred))\n",
    "\n",
    "#LogisticRegression 학습/예측/평가\n",
    "lr_clf.fit(X_train_over,y_train_over)\n",
    "lr_pred= lr_clf.predict(X_test)\n",
    "print('Logist 정확도: ', accuracy_score(y_test,lr_pred))\n"
   ]
  },
  {
   "cell_type": "code",
   "execution_count": 315,
   "metadata": {},
   "outputs": [
    {
     "name": "stdout",
     "output_type": "stream",
     "text": [
      "decision_tree:\n",
      " [[129669    688]\n",
      " [ 17073    727]]\n",
      "decision_tree:\n",
      " [[103448  26909]\n",
      " [  8220   9580]]\n",
      "random_forest:\n",
      " [[103104  27253]\n",
      " [  8141   9659]]\n",
      "logistic:\n",
      " [[95404 34953]\n",
      " [ 7959  9841]]\n"
     ]
    }
   ],
   "source": [
    "# 오차행렬\n",
    "from sklearn.metrics import confusion_matrix\n",
    "cm  = confusion_matrix(y_test, dt_pred1)\n",
    "print('decision_tree:\\n', cm)\n",
    "cm  = confusion_matrix(y_test, dt_pred2)\n",
    "print('decision_tree:\\n', cm)\n",
    "cm  = confusion_matrix(y_test, rf_pred)\n",
    "print('random_forest:\\n', cm)\n",
    "cm  = confusion_matrix(y_test, lr_pred)\n",
    "print('logistic:\\n', cm)\n"
   ]
  },
  {
   "cell_type": "code",
   "execution_count": 316,
   "metadata": {},
   "outputs": [
    {
     "name": "stdout",
     "output_type": "stream",
     "text": [
      "Feature importance:\n",
      "[0.10225093 0.02507081 0.02454736 0.02608966 0.00630484 0.09288823\n",
      " 0.03972043 0.12123196 0.02023164 0.01962631 0.213456   0.30858183]\n",
      "Feature importance:\n",
      "[0.22487302 0.02150795 0.01695693 0.01753748 0.09181784 0.13026609\n",
      " 0.02688186 0.15291648 0.02606299 0.02749915 0.14232734 0.12135289]\n",
      "Feature importance:\n",
      "[[-3.61730362e-02  1.37111628e-02 -1.90438230e-03 -7.21857465e-03\n",
      "   6.05006000e-01  2.23643778e-02  1.09942101e+00  2.17771749e+00\n",
      "  -3.46786521e-03 -1.51475731e+01 -8.91218781e+00 -1.05250028e+00]]\n"
     ]
    }
   ],
   "source": [
    "print('Feature importance:\\n{0}'.format(dt_clf.feature_importances_))\n",
    "print('Feature importance:\\n{0}'.format(rf_clf.feature_importances_))\n",
    "print('Feature importance:\\n{0}'.format(lr_clf.coef_))"
   ]
  },
  {
   "cell_type": "code",
   "execution_count": 317,
   "metadata": {},
   "outputs": [],
   "source": [
    "# 평가함수, ROC커브 함수\n",
    "from sklearn.metrics import accuracy_score, precision_score, recall_score, confusion_matrix,f1_score,roc_curve\n",
    "\n",
    "\n",
    "def get_clf_eval(y_test, pred):\n",
    "    confusion = confusion_matrix(y_test, pred)\n",
    "    accuracy = accuracy_score(y_test, pred)\n",
    "    precision = precision_score(y_test, pred)\n",
    "    recall = recall_score(y_test,pred)\n",
    "    f1 = f1_score(y_test,pred)\n",
    "    print('오차행렬')\n",
    "    print(confusion)\n",
    "    print('정확도: {0:4f}, 정밀도: {1:4f}, 재현율: {2:4f}'.format(accuracy,precision,recall))\n",
    "    print('f1스코어: {0:4f}'.format(f1))\n",
    "\n",
    "def roc_curve_plot(y_test,pred_proba_c1):\n",
    "    fprs, tprs, thresholds = roc_curve(y_test,pred_proba_c1)\n",
    "    plt.plot(fprs,tprs,label = 'ROC')\n",
    "    #가운데 대각선 직선\n",
    "    plt.plot([0,1],[0,1],'k--',label = 'Random')\n",
    "    \n",
    "    start, end = plt.xlim()\n",
    "    plt.xticks(np.round(np.arange(start,end,0.1),2))\n",
    "    plt.xlim(0,1); plt.ylim(0,1)\n",
    "    plt.xlabel('FPR(1-sensitivity)'); plt.ylabel('TPR(recall)')\n",
    "    plt.legend()"
   ]
  },
  {
   "cell_type": "code",
   "execution_count": 318,
   "metadata": {},
   "outputs": [
    {
     "name": "stdout",
     "output_type": "stream",
     "text": [
      "오차행렬\n",
      "[[129669    688]\n",
      " [ 17073    727]]\n",
      "정확도: 0.880120, 정밀도: 0.513781, 재현율: 0.040843\n",
      "f1스코어: 0.075670\n",
      "오차행렬\n",
      "[[103448  26909]\n",
      " [  8220   9580]]\n",
      "정확도: 0.762893, 정밀도: 0.262545, 재현율: 0.538202\n",
      "f1스코어: 0.352926\n",
      "오차행렬\n",
      "[[103104  27253]\n",
      " [  8141   9659]]\n",
      "정확도: 0.761105, 정밀도: 0.261676, 재현율: 0.542640\n",
      "f1스코어: 0.353085\n",
      "오차행렬\n",
      "[[95404 34953]\n",
      " [ 7959  9841]]\n",
      "정확도: 0.710361, 정밀도: 0.219695, 재현율: 0.552865\n",
      "f1스코어: 0.314439\n"
     ]
    }
   ],
   "source": [
    "# 평가하기\n",
    "get_clf_eval(y_test,dt_pred1)\n",
    "get_clf_eval(y_test,dt_pred2)\n",
    "get_clf_eval(y_test,rf_pred)\n",
    "get_clf_eval(y_test,lr_pred)\n",
    "# get_clf_eval(y_test,preds_xg)"
   ]
  },
  {
   "cell_type": "code",
   "execution_count": 319,
   "metadata": {},
   "outputs": [
    {
     "name": "stdout",
     "output_type": "stream",
     "text": [
      "0.34623631697825275\n",
      "0.48693591249945084\n",
      "0.48876909273218766\n",
      "0.5381809120435509\n"
     ]
    }
   ],
   "source": [
    "from sklearn.metrics import mean_squared_error\n",
    "print(math.sqrt(mean_squared_error(y_test,dt_pred1)))\n",
    "print(math.sqrt(mean_squared_error(y_test,dt_pred2)))\n",
    "print(math.sqrt(mean_squared_error(y_test,rf_pred)))\n",
    "print(math.sqrt(mean_squared_error(y_test,lr_pred)))"
   ]
  },
  {
   "cell_type": "code",
   "execution_count": 330,
   "metadata": {},
   "outputs": [],
   "source": [
    "from sklearn.metrics import accuracy_score, precision_score, recall_score, confusion_matrix,f1_score,roc_curve\n",
    "\n",
    "def roc_curve_plot(y_test,pred_proba_c1):\n",
    "    fprs, tprs, thresholds = roc_curve(y_test,pred_proba_c1)\n",
    "    plt.plot(fprs,tprs,label = 'ROC')\n",
    "    #가운데 대각선 직선\n",
    "    plt.plot([0,1],[0,1],'k--',label = 'Random')\n",
    "    \n",
    "    start, end = plt.xlim()\n",
    "    plt.xticks(np.round(np.arange(start,end,0.1),2))\n",
    "    plt.xlim(0,1); plt.ylim(0,1)\n",
    "    plt.xlabel('FPR(1-sensitivity)'); plt.ylabel('TPR(recall)')\n",
    "    plt.legend()"
   ]
  },
  {
   "cell_type": "code",
   "execution_count": 332,
   "metadata": {},
   "outputs": [
    {
     "data": {
      "image/png": "[encoded data removed]",
      "text/plain": [
       "<Figure size 720x576 with 1 Axes>"
      ]
     },
     "metadata": {
      "needs_background": "light"
     },
     "output_type": "display_data"
    }
   ],
   "source": [
    "plt.figure(figsize=(10,8))\n",
    "pred_proba1 = dt_clf.predict_proba(X_test)\n",
    "pred_proba1_2 = dt2_clf.predict_proba(X_test)\n",
    "pred_proba2 = rf_clf.predict_proba(X_test)\n",
    "pred_proba3 = lr_clf.predict_proba(X_test)\n",
    "\n",
    "# roc_curve_plot(y_test,pred_proba1[:,1])\n",
    "roc_curve_plot(y_test,pred_proba1_2[:,1])\n",
    "roc_curve_plot(y_test,pred_proba2[:,1])\n",
    "# roc_curve_plot(y_test,pred_proba3[:,1])"
   ]
  },
  {
   "cell_type": "code",
   "execution_count": 322,
   "metadata": {},
   "outputs": [
    {
     "name": "stdout",
     "output_type": "stream",
     "text": [
      "Predict       0      1\n",
      "Actual                \n",
      "0        103104  27253\n",
      "1          8141   9659\n"
     ]
    }
   ],
   "source": [
    "print(pd.crosstab(y_test,rf_pred,rownames = ['Actual'],colnames=['Predict']))"
   ]
  },
  {
   "cell_type": "code",
   "execution_count": null,
   "metadata": {},
   "outputs": [],
   "source": []
  },
  {
   "cell_type": "code",
   "execution_count": null,
   "metadata": {},
   "outputs": [],
   "source": []
  },
  {
   "cell_type": "code",
   "execution_count": null,
   "metadata": {},
   "outputs": [],
   "source": []
  },
  {
   "cell_type": "code",
   "execution_count": null,
   "metadata": {},
   "outputs": [],
   "source": []
  },
  {
   "cell_type": "code",
   "execution_count": null,
   "metadata": {},
   "outputs": [],
   "source": []
  },
  {
   "cell_type": "code",
   "execution_count": null,
   "metadata": {},
   "outputs": [],
   "source": []
  },
  {
   "cell_type": "code",
   "execution_count": null,
   "metadata": {},
   "outputs": [],
   "source": []
  },
  {
   "cell_type": "code",
   "execution_count": null,
   "metadata": {},
   "outputs": [],
   "source": []
  },
  {
   "cell_type": "code",
   "execution_count": null,
   "metadata": {},
   "outputs": [],
   "source": []
  },
  {
   "cell_type": "code",
   "execution_count": null,
   "metadata": {},
   "outputs": [],
   "source": []
  },
  {
   "cell_type": "code",
   "execution_count": null,
   "metadata": {},
   "outputs": [],
   "source": []
  },
  {
   "cell_type": "code",
   "execution_count": null,
   "metadata": {},
   "outputs": [],
   "source": []
  },
  {
   "cell_type": "code",
   "execution_count": null,
   "metadata": {},
   "outputs": [],
   "source": []
  },
  {
   "cell_type": "code",
   "execution_count": null,
   "metadata": {},
   "outputs": [],
   "source": []
  }
 ],
 "metadata": {
  "kernelspec": {
   "display_name": "Python 3",
   "language": "python",
   "name": "python3"
  },
  "language_info": {
   "codemirror_mode": {
    "name": "ipython",
    "version": 3
   },
   "file_extension": ".py",
   "mimetype": "text/x-python",
   "name": "python",
   "nbconvert_exporter": "python",
   "pygments_lexer": "ipython3",
   "version": "3.7.3"
  }
 },
 "nbformat": 4,
 "nbformat_minor": 2
}
